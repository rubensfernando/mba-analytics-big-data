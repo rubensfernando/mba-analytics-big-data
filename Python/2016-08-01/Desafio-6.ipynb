{
 "cells": [
  {
   "cell_type": "code",
   "execution_count": 1,
   "metadata": {
    "collapsed": true
   },
   "outputs": [],
   "source": [
    "import pandas as pd\n",
    "import simplejson as json"
   ]
  },
  {
   "cell_type": "code",
   "execution_count": 4,
   "metadata": {
    "collapsed": false
   },
   "outputs": [],
   "source": [
    "dados = []\n",
    "with open('tweets.json') as arquivo:\n",
    "    for line in arquivo:\n",
    "        dados.append(json.loads(line))"
   ]
  },
  {
   "cell_type": "code",
   "execution_count": 5,
   "metadata": {
    "collapsed": false
   },
   "outputs": [
    {
     "data": {
      "text/plain": [
       "205"
      ]
     },
     "execution_count": 5,
     "metadata": {},
     "output_type": "execute_result"
    }
   ],
   "source": [
    "len(dados)"
   ]
  },
  {
   "cell_type": "code",
   "execution_count": 6,
   "metadata": {
    "collapsed": false
   },
   "outputs": [
    {
     "data": {
      "text/plain": [
       "{'contributors': None,\n",
       " 'coordinates': None,\n",
       " 'created_at': 'Mon Aug 01 23:41:03 +0000 2016',\n",
       " 'entities': {'hashtags': [],\n",
       "  'media': [{'display_url': 'pic.twitter.com/LC5FZyOweu',\n",
       "    'expanded_url': 'http://twitter.com/folha/status/760248632385871873/photo/1',\n",
       "    'id': 760248617693306880,\n",
       "    'id_str': '760248617693306880',\n",
       "    'indices': [125, 140],\n",
       "    'media_url': 'http://pbs.twimg.com/media/CozyFv6XYAAK6xv.jpg',\n",
       "    'media_url_https': 'https://pbs.twimg.com/media/CozyFv6XYAAK6xv.jpg',\n",
       "    'sizes': {'large': {'h': 512, 'resize': 'fit', 'w': 768},\n",
       "     'medium': {'h': 512, 'resize': 'fit', 'w': 768},\n",
       "     'small': {'h': 453, 'resize': 'fit', 'w': 680},\n",
       "     'thumb': {'h': 150, 'resize': 'crop', 'w': 150}},\n",
       "    'source_status_id': 760248632385871873,\n",
       "    'source_status_id_str': '760248632385871873',\n",
       "    'source_user_id': 14594813,\n",
       "    'source_user_id_str': '14594813',\n",
       "    'type': 'photo',\n",
       "    'url': 'https://t.co/LC5FZyOweu'}],\n",
       "  'symbols': [],\n",
       "  'urls': [{'display_url': 'uol.com/bpjRNL',\n",
       "    'expanded_url': 'http://uol.com/bpjRNL',\n",
       "    'indices': [101, 124],\n",
       "    'url': 'https://t.co/VHl4DGhwHd'}],\n",
       "  'user_mentions': [{'id': 14594813,\n",
       "    'id_str': '14594813',\n",
       "    'indices': [3, 9],\n",
       "    'name': 'Folha de S.Paulo',\n",
       "    'screen_name': 'folha'}]},\n",
       " 'extended_entities': {'media': [{'display_url': 'pic.twitter.com/LC5FZyOweu',\n",
       "    'expanded_url': 'http://twitter.com/folha/status/760248632385871873/photo/1',\n",
       "    'id': 760248617693306880,\n",
       "    'id_str': '760248617693306880',\n",
       "    'indices': [125, 140],\n",
       "    'media_url': 'http://pbs.twimg.com/media/CozyFv6XYAAK6xv.jpg',\n",
       "    'media_url_https': 'https://pbs.twimg.com/media/CozyFv6XYAAK6xv.jpg',\n",
       "    'sizes': {'large': {'h': 512, 'resize': 'fit', 'w': 768},\n",
       "     'medium': {'h': 512, 'resize': 'fit', 'w': 768},\n",
       "     'small': {'h': 453, 'resize': 'fit', 'w': 680},\n",
       "     'thumb': {'h': 150, 'resize': 'crop', 'w': 150}},\n",
       "    'source_status_id': 760248632385871873,\n",
       "    'source_status_id_str': '760248632385871873',\n",
       "    'source_user_id': 14594813,\n",
       "    'source_user_id_str': '14594813',\n",
       "    'type': 'photo',\n",
       "    'url': 'https://t.co/LC5FZyOweu'}]},\n",
       " 'favorite_count': 0,\n",
       " 'favorited': False,\n",
       " 'filter_level': 'low',\n",
       " 'geo': None,\n",
       " 'id': 760259076790087680,\n",
       " 'id_str': '760259076790087680',\n",
       " 'in_reply_to_screen_name': None,\n",
       " 'in_reply_to_status_id': None,\n",
       " 'in_reply_to_status_id_str': None,\n",
       " 'in_reply_to_user_id': None,\n",
       " 'in_reply_to_user_id_str': None,\n",
       " 'is_quote_status': False,\n",
       " 'lang': 'pt',\n",
       " 'place': None,\n",
       " 'possibly_sensitive': False,\n",
       " 'retweet_count': 0,\n",
       " 'retweeted': False,\n",
       " 'retweeted_status': {'contributors': None,\n",
       "  'coordinates': None,\n",
       "  'created_at': 'Mon Aug 01 22:59:33 +0000 2016',\n",
       "  'entities': {'hashtags': [],\n",
       "   'media': [{'display_url': 'pic.twitter.com/LC5FZyOweu',\n",
       "     'expanded_url': 'http://twitter.com/folha/status/760248632385871873/photo/1',\n",
       "     'id': 760248617693306880,\n",
       "     'id_str': '760248617693306880',\n",
       "     'indices': [114, 137],\n",
       "     'media_url': 'http://pbs.twimg.com/media/CozyFv6XYAAK6xv.jpg',\n",
       "     'media_url_https': 'https://pbs.twimg.com/media/CozyFv6XYAAK6xv.jpg',\n",
       "     'sizes': {'large': {'h': 512, 'resize': 'fit', 'w': 768},\n",
       "      'medium': {'h': 512, 'resize': 'fit', 'w': 768},\n",
       "      'small': {'h': 453, 'resize': 'fit', 'w': 680},\n",
       "      'thumb': {'h': 150, 'resize': 'crop', 'w': 150}},\n",
       "     'type': 'photo',\n",
       "     'url': 'https://t.co/LC5FZyOweu'}],\n",
       "   'symbols': [],\n",
       "   'urls': [{'display_url': 'uol.com/bpjRNL',\n",
       "     'expanded_url': 'http://uol.com/bpjRNL',\n",
       "     'indices': [90, 113],\n",
       "     'url': 'https://t.co/VHl4DGhwHd'}],\n",
       "   'user_mentions': []},\n",
       "  'extended_entities': {'media': [{'display_url': 'pic.twitter.com/LC5FZyOweu',\n",
       "     'expanded_url': 'http://twitter.com/folha/status/760248632385871873/photo/1',\n",
       "     'id': 760248617693306880,\n",
       "     'id_str': '760248617693306880',\n",
       "     'indices': [114, 137],\n",
       "     'media_url': 'http://pbs.twimg.com/media/CozyFv6XYAAK6xv.jpg',\n",
       "     'media_url_https': 'https://pbs.twimg.com/media/CozyFv6XYAAK6xv.jpg',\n",
       "     'sizes': {'large': {'h': 512, 'resize': 'fit', 'w': 768},\n",
       "      'medium': {'h': 512, 'resize': 'fit', 'w': 768},\n",
       "      'small': {'h': 453, 'resize': 'fit', 'w': 680},\n",
       "      'thumb': {'h': 150, 'resize': 'crop', 'w': 150}},\n",
       "     'type': 'photo',\n",
       "     'url': 'https://t.co/LC5FZyOweu'}]},\n",
       "  'favorite_count': 207,\n",
       "  'favorited': False,\n",
       "  'filter_level': 'low',\n",
       "  'geo': None,\n",
       "  'id': 760248632385871873,\n",
       "  'id_str': '760248632385871873',\n",
       "  'in_reply_to_screen_name': None,\n",
       "  'in_reply_to_status_id': None,\n",
       "  'in_reply_to_status_id_str': None,\n",
       "  'in_reply_to_user_id': None,\n",
       "  'in_reply_to_user_id_str': None,\n",
       "  'is_quote_status': False,\n",
       "  'lang': 'pt',\n",
       "  'place': None,\n",
       "  'possibly_sensitive': False,\n",
       "  'retweet_count': 125,\n",
       "  'retweeted': False,\n",
       "  'source': '<a href=\"https://about.twitter.com/products/tweetdeck\" rel=\"nofollow\">TweetDeck</a>',\n",
       "  'text': \"'Queria deixá-la ciente do quanto ela prejudicou minha carreira', diz Biel sobre repórter https://t.co/VHl4DGhwHd https://t.co/LC5FZyOweu\",\n",
       "  'truncated': False,\n",
       "  'user': {'contributors_enabled': False,\n",
       "   'created_at': 'Wed Apr 30 02:33:39 +0000 2008',\n",
       "   'default_profile': False,\n",
       "   'default_profile_image': False,\n",
       "   'description': 'Perfil oficial do jornal Folha de S.Paulo.\\r\\nNo Facebook: http://on.fb.me/wFiUk9.\\r\\nAtendimento: @folha_atende',\n",
       "   'favourites_count': 43,\n",
       "   'follow_request_sent': None,\n",
       "   'followers_count': 4923055,\n",
       "   'following': None,\n",
       "   'friends_count': 190365,\n",
       "   'geo_enabled': True,\n",
       "   'id': 14594813,\n",
       "   'id_str': '14594813',\n",
       "   'is_translator': False,\n",
       "   'lang': 'en',\n",
       "   'listed_count': 9072,\n",
       "   'location': 'São Paulo, Brazil',\n",
       "   'name': 'Folha de S.Paulo',\n",
       "   'notifications': None,\n",
       "   'profile_background_color': 'C0DEED',\n",
       "   'profile_background_image_url': 'http://pbs.twimg.com/profile_background_images/341066973/fundo_folha.gif',\n",
       "   'profile_background_image_url_https': 'https://pbs.twimg.com/profile_background_images/341066973/fundo_folha.gif',\n",
       "   'profile_background_tile': False,\n",
       "   'profile_banner_url': 'https://pbs.twimg.com/profile_banners/14594813/1452190707',\n",
       "   'profile_image_url': 'http://pbs.twimg.com/profile_images/2611288520/gfiw6lklhvm09f530wp4_normal.jpeg',\n",
       "   'profile_image_url_https': 'https://pbs.twimg.com/profile_images/2611288520/gfiw6lklhvm09f530wp4_normal.jpeg',\n",
       "   'profile_link_color': '0084B4',\n",
       "   'profile_sidebar_border_color': 'C0DEED',\n",
       "   'profile_sidebar_fill_color': 'DDEEF6',\n",
       "   'profile_text_color': '333333',\n",
       "   'profile_use_background_image': True,\n",
       "   'protected': False,\n",
       "   'screen_name': 'folha',\n",
       "   'statuses_count': 243496,\n",
       "   'time_zone': 'Brasilia',\n",
       "   'url': 'http://www.folha.com.br',\n",
       "   'utc_offset': -10800,\n",
       "   'verified': True}},\n",
       " 'source': '<a href=\"http://twitter.com/download/iphone\" rel=\"nofollow\">Twitter for iPhone</a>',\n",
       " 'text': \"RT @folha: 'Queria deixá-la ciente do quanto ela prejudicou minha carreira', diz Biel sobre repórter https://t.co/VHl4DGhwHd https://t.co/L…\",\n",
       " 'timestamp_ms': '1470094863494',\n",
       " 'truncated': False,\n",
       " 'user': {'contributors_enabled': False,\n",
       "  'created_at': 'Wed Jan 06 23:16:44 +0000 2016',\n",
       "  'default_profile': True,\n",
       "  'default_profile_image': False,\n",
       "  'description': 'the worst things in life come free to us',\n",
       "  'favourites_count': 357,\n",
       "  'follow_request_sent': None,\n",
       "  'followers_count': 1355,\n",
       "  'following': None,\n",
       "  'friends_count': 887,\n",
       "  'geo_enabled': False,\n",
       "  'id': 4729069361,\n",
       "  'id_str': '4729069361',\n",
       "  'is_translator': False,\n",
       "  'lang': 'en',\n",
       "  'listed_count': 2,\n",
       "  'location': 'ob oitnb htgawm mf',\n",
       "  'name': 'mi',\n",
       "  'notifications': None,\n",
       "  'profile_background_color': 'F5F8FA',\n",
       "  'profile_background_image_url': '',\n",
       "  'profile_background_image_url_https': '',\n",
       "  'profile_background_tile': False,\n",
       "  'profile_banner_url': 'https://pbs.twimg.com/profile_banners/4729069361/1470093412',\n",
       "  'profile_image_url': 'http://pbs.twimg.com/profile_images/760253074204155904/srqHS1gh_normal.jpg',\n",
       "  'profile_image_url_https': 'https://pbs.twimg.com/profile_images/760253074204155904/srqHS1gh_normal.jpg',\n",
       "  'profile_link_color': '2B7BB9',\n",
       "  'profile_sidebar_border_color': 'C0DEED',\n",
       "  'profile_sidebar_fill_color': 'DDEEF6',\n",
       "  'profile_text_color': '333333',\n",
       "  'profile_use_background_image': True,\n",
       "  'protected': False,\n",
       "  'screen_name': 'badvxuse',\n",
       "  'statuses_count': 7917,\n",
       "  'time_zone': 'Pacific Time (US & Canada)',\n",
       "  'url': None,\n",
       "  'utc_offset': -25200,\n",
       "  'verified': False}}"
      ]
     },
     "execution_count": 6,
     "metadata": {},
     "output_type": "execute_result"
    }
   ],
   "source": [
    "dados[0]"
   ]
  },
  {
   "cell_type": "code",
   "execution_count": 7,
   "metadata": {
    "collapsed": false
   },
   "outputs": [
    {
     "data": {
      "text/plain": [
       "dict"
      ]
     },
     "execution_count": 7,
     "metadata": {},
     "output_type": "execute_result"
    }
   ],
   "source": [
    "type(dados[0])"
   ]
  },
  {
   "cell_type": "code",
   "execution_count": 8,
   "metadata": {
    "collapsed": true
   },
   "outputs": [],
   "source": [
    "df = pd.DataFrame(dados)"
   ]
  },
  {
   "cell_type": "code",
   "execution_count": 12,
   "metadata": {
    "collapsed": false
   },
   "outputs": [
    {
     "data": {
      "text/plain": [
       "Index(['contributors', 'coordinates', 'created_at', 'entities',\n",
       "       'extended_entities', 'favorite_count', 'favorited', 'filter_level',\n",
       "       'geo', 'id', 'id_str', 'in_reply_to_screen_name',\n",
       "       'in_reply_to_status_id', 'in_reply_to_status_id_str',\n",
       "       'in_reply_to_user_id', 'in_reply_to_user_id_str', 'is_quote_status',\n",
       "       'lang', 'place', 'possibly_sensitive', 'quoted_status',\n",
       "       'quoted_status_id', 'quoted_status_id_str', 'retweet_count',\n",
       "       'retweeted', 'retweeted_status', 'source', 'text', 'timestamp_ms',\n",
       "       'truncated', 'user'],\n",
       "      dtype='object')"
      ]
     },
     "execution_count": 12,
     "metadata": {},
     "output_type": "execute_result"
    }
   ],
   "source": [
    "df.columns"
   ]
  },
  {
   "cell_type": "code",
   "execution_count": 14,
   "metadata": {
    "collapsed": false
   },
   "outputs": [
    {
     "data": {
      "text/html": [
       "<div>\n",
       "<table border=\"1\" class=\"dataframe\">\n",
       "  <thead>\n",
       "    <tr style=\"text-align: right;\">\n",
       "      <th></th>\n",
       "      <th>contributors</th>\n",
       "      <th>coordinates</th>\n",
       "      <th>created_at</th>\n",
       "      <th>entities</th>\n",
       "      <th>extended_entities</th>\n",
       "      <th>favorite_count</th>\n",
       "      <th>favorited</th>\n",
       "      <th>filter_level</th>\n",
       "      <th>geo</th>\n",
       "      <th>id</th>\n",
       "      <th>...</th>\n",
       "      <th>quoted_status_id</th>\n",
       "      <th>quoted_status_id_str</th>\n",
       "      <th>retweet_count</th>\n",
       "      <th>retweeted</th>\n",
       "      <th>retweeted_status</th>\n",
       "      <th>source</th>\n",
       "      <th>text</th>\n",
       "      <th>timestamp_ms</th>\n",
       "      <th>truncated</th>\n",
       "      <th>user</th>\n",
       "    </tr>\n",
       "  </thead>\n",
       "  <tbody>\n",
       "    <tr>\n",
       "      <th>0</th>\n",
       "      <td>None</td>\n",
       "      <td>None</td>\n",
       "      <td>Mon Aug 01 23:41:03 +0000 2016</td>\n",
       "      <td>{'hashtags': [], 'urls': [{'url': 'https://t.c...</td>\n",
       "      <td>{'media': [{'id': 760248617693306880, 'indices...</td>\n",
       "      <td>0</td>\n",
       "      <td>False</td>\n",
       "      <td>low</td>\n",
       "      <td>None</td>\n",
       "      <td>760259076790087680</td>\n",
       "      <td>...</td>\n",
       "      <td>NaN</td>\n",
       "      <td>NaN</td>\n",
       "      <td>0</td>\n",
       "      <td>False</td>\n",
       "      <td>{'in_reply_to_screen_name': None, 'created_at'...</td>\n",
       "      <td>&lt;a href=\"http://twitter.com/download/iphone\" r...</td>\n",
       "      <td>RT @folha: 'Queria deixá-la ciente do quanto e...</td>\n",
       "      <td>1470094863494</td>\n",
       "      <td>False</td>\n",
       "      <td>{'profile_text_color': '333333', 'friends_coun...</td>\n",
       "    </tr>\n",
       "    <tr>\n",
       "      <th>1</th>\n",
       "      <td>None</td>\n",
       "      <td>None</td>\n",
       "      <td>Mon Aug 01 23:41:04 +0000 2016</td>\n",
       "      <td>{'hashtags': [], 'urls': [{'url': 'https://t.c...</td>\n",
       "      <td>NaN</td>\n",
       "      <td>0</td>\n",
       "      <td>False</td>\n",
       "      <td>low</td>\n",
       "      <td>None</td>\n",
       "      <td>760259080451678208</td>\n",
       "      <td>...</td>\n",
       "      <td>7.602486e+17</td>\n",
       "      <td>760248632385871873</td>\n",
       "      <td>0</td>\n",
       "      <td>False</td>\n",
       "      <td>NaN</td>\n",
       "      <td>&lt;a href=\"http://twitter.com/download/iphone\" r...</td>\n",
       "      <td>gente??????????????????????????? https://t.co/...</td>\n",
       "      <td>1470094864367</td>\n",
       "      <td>False</td>\n",
       "      <td>{'profile_text_color': '000000', 'friends_coun...</td>\n",
       "    </tr>\n",
       "    <tr>\n",
       "      <th>2</th>\n",
       "      <td>None</td>\n",
       "      <td>None</td>\n",
       "      <td>Mon Aug 01 23:41:06 +0000 2016</td>\n",
       "      <td>{'hashtags': [], 'urls': [{'url': 'https://t.c...</td>\n",
       "      <td>{'media': [{'id': 760248617693306880, 'indices...</td>\n",
       "      <td>0</td>\n",
       "      <td>False</td>\n",
       "      <td>low</td>\n",
       "      <td>None</td>\n",
       "      <td>760259088081182720</td>\n",
       "      <td>...</td>\n",
       "      <td>NaN</td>\n",
       "      <td>NaN</td>\n",
       "      <td>0</td>\n",
       "      <td>False</td>\n",
       "      <td>{'in_reply_to_screen_name': None, 'created_at'...</td>\n",
       "      <td>&lt;a href=\"http://twitter.com/download/iphone\" r...</td>\n",
       "      <td>RT @folha: 'Queria deixá-la ciente do quanto e...</td>\n",
       "      <td>1470094866186</td>\n",
       "      <td>False</td>\n",
       "      <td>{'profile_text_color': '333333', 'friends_coun...</td>\n",
       "    </tr>\n",
       "    <tr>\n",
       "      <th>3</th>\n",
       "      <td>None</td>\n",
       "      <td>None</td>\n",
       "      <td>Mon Aug 01 23:41:07 +0000 2016</td>\n",
       "      <td>{'hashtags': [], 'urls': [], 'symbols': [], 'u...</td>\n",
       "      <td>NaN</td>\n",
       "      <td>0</td>\n",
       "      <td>False</td>\n",
       "      <td>low</td>\n",
       "      <td>None</td>\n",
       "      <td>760259093848289280</td>\n",
       "      <td>...</td>\n",
       "      <td>NaN</td>\n",
       "      <td>NaN</td>\n",
       "      <td>0</td>\n",
       "      <td>False</td>\n",
       "      <td>{'in_reply_to_screen_name': 'folha', 'created_...</td>\n",
       "      <td>&lt;a href=\"https://about.twitter.com/products/tw...</td>\n",
       "      <td>RT @bk_contador: @folha e @Estadao se revezand...</td>\n",
       "      <td>1470094867561</td>\n",
       "      <td>False</td>\n",
       "      <td>{'profile_text_color': '333333', 'friends_coun...</td>\n",
       "    </tr>\n",
       "    <tr>\n",
       "      <th>4</th>\n",
       "      <td>None</td>\n",
       "      <td>None</td>\n",
       "      <td>Mon Aug 01 23:41:07 +0000 2016</td>\n",
       "      <td>{'hashtags': [], 'urls': [{'url': 'https://t.c...</td>\n",
       "      <td>NaN</td>\n",
       "      <td>0</td>\n",
       "      <td>False</td>\n",
       "      <td>low</td>\n",
       "      <td>None</td>\n",
       "      <td>760259095517626368</td>\n",
       "      <td>...</td>\n",
       "      <td>7.602486e+17</td>\n",
       "      <td>760248632385871873</td>\n",
       "      <td>0</td>\n",
       "      <td>False</td>\n",
       "      <td>NaN</td>\n",
       "      <td>&lt;a href=\"http://twitter.com\" rel=\"nofollow\"&gt;Tw...</td>\n",
       "      <td>FALOU POUCO MAS FALOU MERDA HEIN https://t.co/...</td>\n",
       "      <td>1470094867959</td>\n",
       "      <td>False</td>\n",
       "      <td>{'profile_text_color': '000000', 'friends_coun...</td>\n",
       "    </tr>\n",
       "  </tbody>\n",
       "</table>\n",
       "<p>5 rows × 31 columns</p>\n",
       "</div>"
      ],
      "text/plain": [
       "  contributors coordinates                      created_at  \\\n",
       "0         None        None  Mon Aug 01 23:41:03 +0000 2016   \n",
       "1         None        None  Mon Aug 01 23:41:04 +0000 2016   \n",
       "2         None        None  Mon Aug 01 23:41:06 +0000 2016   \n",
       "3         None        None  Mon Aug 01 23:41:07 +0000 2016   \n",
       "4         None        None  Mon Aug 01 23:41:07 +0000 2016   \n",
       "\n",
       "                                            entities  \\\n",
       "0  {'hashtags': [], 'urls': [{'url': 'https://t.c...   \n",
       "1  {'hashtags': [], 'urls': [{'url': 'https://t.c...   \n",
       "2  {'hashtags': [], 'urls': [{'url': 'https://t.c...   \n",
       "3  {'hashtags': [], 'urls': [], 'symbols': [], 'u...   \n",
       "4  {'hashtags': [], 'urls': [{'url': 'https://t.c...   \n",
       "\n",
       "                                   extended_entities  favorite_count  \\\n",
       "0  {'media': [{'id': 760248617693306880, 'indices...               0   \n",
       "1                                                NaN               0   \n",
       "2  {'media': [{'id': 760248617693306880, 'indices...               0   \n",
       "3                                                NaN               0   \n",
       "4                                                NaN               0   \n",
       "\n",
       "  favorited filter_level   geo                  id  \\\n",
       "0     False          low  None  760259076790087680   \n",
       "1     False          low  None  760259080451678208   \n",
       "2     False          low  None  760259088081182720   \n",
       "3     False          low  None  760259093848289280   \n",
       "4     False          low  None  760259095517626368   \n",
       "\n",
       "                         ...                         quoted_status_id  \\\n",
       "0                        ...                                      NaN   \n",
       "1                        ...                             7.602486e+17   \n",
       "2                        ...                                      NaN   \n",
       "3                        ...                                      NaN   \n",
       "4                        ...                             7.602486e+17   \n",
       "\n",
       "  quoted_status_id_str  retweet_count retweeted  \\\n",
       "0                  NaN              0     False   \n",
       "1   760248632385871873              0     False   \n",
       "2                  NaN              0     False   \n",
       "3                  NaN              0     False   \n",
       "4   760248632385871873              0     False   \n",
       "\n",
       "                                    retweeted_status  \\\n",
       "0  {'in_reply_to_screen_name': None, 'created_at'...   \n",
       "1                                                NaN   \n",
       "2  {'in_reply_to_screen_name': None, 'created_at'...   \n",
       "3  {'in_reply_to_screen_name': 'folha', 'created_...   \n",
       "4                                                NaN   \n",
       "\n",
       "                                              source  \\\n",
       "0  <a href=\"http://twitter.com/download/iphone\" r...   \n",
       "1  <a href=\"http://twitter.com/download/iphone\" r...   \n",
       "2  <a href=\"http://twitter.com/download/iphone\" r...   \n",
       "3  <a href=\"https://about.twitter.com/products/tw...   \n",
       "4  <a href=\"http://twitter.com\" rel=\"nofollow\">Tw...   \n",
       "\n",
       "                                                text   timestamp_ms truncated  \\\n",
       "0  RT @folha: 'Queria deixá-la ciente do quanto e...  1470094863494     False   \n",
       "1  gente??????????????????????????? https://t.co/...  1470094864367     False   \n",
       "2  RT @folha: 'Queria deixá-la ciente do quanto e...  1470094866186     False   \n",
       "3  RT @bk_contador: @folha e @Estadao se revezand...  1470094867561     False   \n",
       "4  FALOU POUCO MAS FALOU MERDA HEIN https://t.co/...  1470094867959     False   \n",
       "\n",
       "                                                user  \n",
       "0  {'profile_text_color': '333333', 'friends_coun...  \n",
       "1  {'profile_text_color': '000000', 'friends_coun...  \n",
       "2  {'profile_text_color': '333333', 'friends_coun...  \n",
       "3  {'profile_text_color': '333333', 'friends_coun...  \n",
       "4  {'profile_text_color': '000000', 'friends_coun...  \n",
       "\n",
       "[5 rows x 31 columns]"
      ]
     },
     "execution_count": 14,
     "metadata": {},
     "output_type": "execute_result"
    }
   ],
   "source": [
    "df.head()"
   ]
  },
  {
   "cell_type": "code",
   "execution_count": 19,
   "metadata": {
    "collapsed": false
   },
   "outputs": [
    {
     "data": {
      "text/plain": [
       "{'contributors_enabled': False,\n",
       " 'created_at': 'Wed Jan 06 23:16:44 +0000 2016',\n",
       " 'default_profile': True,\n",
       " 'default_profile_image': False,\n",
       " 'description': 'the worst things in life come free to us',\n",
       " 'favourites_count': 357,\n",
       " 'follow_request_sent': None,\n",
       " 'followers_count': 1355,\n",
       " 'following': None,\n",
       " 'friends_count': 887,\n",
       " 'geo_enabled': False,\n",
       " 'id': 4729069361,\n",
       " 'id_str': '4729069361',\n",
       " 'is_translator': False,\n",
       " 'lang': 'en',\n",
       " 'listed_count': 2,\n",
       " 'location': 'ob oitnb htgawm mf',\n",
       " 'name': 'mi',\n",
       " 'notifications': None,\n",
       " 'profile_background_color': 'F5F8FA',\n",
       " 'profile_background_image_url': '',\n",
       " 'profile_background_image_url_https': '',\n",
       " 'profile_background_tile': False,\n",
       " 'profile_banner_url': 'https://pbs.twimg.com/profile_banners/4729069361/1470093412',\n",
       " 'profile_image_url': 'http://pbs.twimg.com/profile_images/760253074204155904/srqHS1gh_normal.jpg',\n",
       " 'profile_image_url_https': 'https://pbs.twimg.com/profile_images/760253074204155904/srqHS1gh_normal.jpg',\n",
       " 'profile_link_color': '2B7BB9',\n",
       " 'profile_sidebar_border_color': 'C0DEED',\n",
       " 'profile_sidebar_fill_color': 'DDEEF6',\n",
       " 'profile_text_color': '333333',\n",
       " 'profile_use_background_image': True,\n",
       " 'protected': False,\n",
       " 'screen_name': 'badvxuse',\n",
       " 'statuses_count': 7917,\n",
       " 'time_zone': 'Pacific Time (US & Canada)',\n",
       " 'url': None,\n",
       " 'utc_offset': -25200,\n",
       " 'verified': False}"
      ]
     },
     "execution_count": 19,
     "metadata": {},
     "output_type": "execute_result"
    }
   ],
   "source": [
    "df.user[0]"
   ]
  },
  {
   "cell_type": "code",
   "execution_count": null,
   "metadata": {
    "collapsed": true
   },
   "outputs": [],
   "source": []
  },
  {
   "cell_type": "code",
   "execution_count": 26,
   "metadata": {
    "collapsed": false
   },
   "outputs": [
    {
     "name": "stdout",
     "output_type": "stream",
     "text": [
      "RT @folha: 'Queria deixá-la ciente do quanto ela prejudicou minha carreira', diz Biel sobre repórter https://t.co/VHl4DGhwHd https://t.co/L…\n",
      "Mon Aug 01 23:41:03 +0000 2016\n",
      "None\n",
      "0\n",
      "\n",
      "User\n",
      "\n",
      "badvxuse\n",
      "ob oitnb htgawm mf\n",
      "en\n",
      "1355\n"
     ]
    }
   ],
   "source": [
    "print(df.text[0])\n",
    "print(df.created_at[0])\n",
    "print(df.coordinates[0])\n",
    "print(df.retweet_count[0])\n",
    "\n",
    "print('\\nUser\\n')\n",
    "print(df.user[0]['screen_name'])\n",
    "print(df.user[0]['location'])\n",
    "print(df.user[0]['lang'])\n",
    "print(df.user[0]['followers_count'])"
   ]
  },
  {
   "cell_type": "code",
   "execution_count": 27,
   "metadata": {
    "collapsed": true
   },
   "outputs": [],
   "source": [
    "    colunas = ['text','created_at','coordinates','retweet_count','screen_name','location', 'lang','followers_count']"
   ]
  },
  {
   "cell_type": "code",
   "execution_count": 28,
   "metadata": {
    "collapsed": true
   },
   "outputs": [],
   "source": [
    "dado2 =[\n",
    "        df.text[0],\n",
    "df.created_at[0],\n",
    "df.coordinates[0],\n",
    "df.retweet_count[0],\n",
    "df.user[0]['screen_name'],\n",
    "df.user[0]['location'],\n",
    "df.user[0]['lang'],\n",
    "df.user[0]['followers_count'],\n",
    "]"
   ]
  },
  {
   "cell_type": "code",
   "execution_count": 29,
   "metadata": {
    "collapsed": false
   },
   "outputs": [
    {
     "data": {
      "text/plain": [
       "[\"RT @folha: 'Queria deixá-la ciente do quanto ela prejudicou minha carreira', diz Biel sobre repórter https://t.co/VHl4DGhwHd https://t.co/L…\",\n",
       " 'Mon Aug 01 23:41:03 +0000 2016',\n",
       " None,\n",
       " 0,\n",
       " 'badvxuse',\n",
       " 'ob oitnb htgawm mf',\n",
       " 'en',\n",
       " 1355]"
      ]
     },
     "execution_count": 29,
     "metadata": {},
     "output_type": "execute_result"
    }
   ],
   "source": [
    "dado2"
   ]
  },
  {
   "cell_type": "code",
   "execution_count": 30,
   "metadata": {
    "collapsed": true
   },
   "outputs": [],
   "source": [
    "df_aux = pd.DataFrame()"
   ]
  },
  {
   "cell_type": "code",
   "execution_count": 31,
   "metadata": {
    "collapsed": true
   },
   "outputs": [],
   "source": [
    "series_aux = pd.Series(dado2,index=colunas)"
   ]
  },
  {
   "cell_type": "code",
   "execution_count": 32,
   "metadata": {
    "collapsed": false
   },
   "outputs": [
    {
     "data": {
      "text/html": [
       "<div>\n",
       "<table border=\"1\" class=\"dataframe\">\n",
       "  <thead>\n",
       "    <tr style=\"text-align: right;\">\n",
       "      <th></th>\n",
       "      <th>coordinates</th>\n",
       "      <th>created_at</th>\n",
       "      <th>followers_count</th>\n",
       "      <th>lang</th>\n",
       "      <th>location</th>\n",
       "      <th>retweet_count</th>\n",
       "      <th>screen_name</th>\n",
       "      <th>text</th>\n",
       "    </tr>\n",
       "  </thead>\n",
       "  <tbody>\n",
       "    <tr>\n",
       "      <th>0</th>\n",
       "      <td>None</td>\n",
       "      <td>Mon Aug 01 23:41:03 +0000 2016</td>\n",
       "      <td>1355.0</td>\n",
       "      <td>en</td>\n",
       "      <td>ob oitnb htgawm mf</td>\n",
       "      <td>0.0</td>\n",
       "      <td>badvxuse</td>\n",
       "      <td>RT @folha: 'Queria deixá-la ciente do quanto e...</td>\n",
       "    </tr>\n",
       "  </tbody>\n",
       "</table>\n",
       "</div>"
      ],
      "text/plain": [
       "  coordinates                      created_at  followers_count lang  \\\n",
       "0        None  Mon Aug 01 23:41:03 +0000 2016           1355.0   en   \n",
       "\n",
       "             location  retweet_count screen_name  \\\n",
       "0  ob oitnb htgawm mf            0.0    badvxuse   \n",
       "\n",
       "                                                text  \n",
       "0  RT @folha: 'Queria deixá-la ciente do quanto e...  "
      ]
     },
     "execution_count": 32,
     "metadata": {},
     "output_type": "execute_result"
    }
   ],
   "source": [
    "df_aux.append(series_aux,ignore_index=True)"
   ]
  },
  {
   "cell_type": "code",
   "execution_count": 33,
   "metadata": {
    "collapsed": false
   },
   "outputs": [
    {
     "data": {
      "text/html": [
       "<div>\n",
       "<table border=\"1\" class=\"dataframe\">\n",
       "  <thead>\n",
       "    <tr style=\"text-align: right;\">\n",
       "      <th></th>\n",
       "    </tr>\n",
       "  </thead>\n",
       "  <tbody>\n",
       "  </tbody>\n",
       "</table>\n",
       "</div>"
      ],
      "text/plain": [
       "Empty DataFrame\n",
       "Columns: []\n",
       "Index: []"
      ]
     },
     "execution_count": 33,
     "metadata": {},
     "output_type": "execute_result"
    }
   ],
   "source": [
    "df_aux"
   ]
  },
  {
   "cell_type": "code",
   "execution_count": 34,
   "metadata": {
    "collapsed": true
   },
   "outputs": [],
   "source": [
    "from geopy.geocoders import Nominatim"
   ]
  },
  {
   "cell_type": "code",
   "execution_count": 35,
   "metadata": {
    "collapsed": true
   },
   "outputs": [],
   "source": [
    "geolocalizador = Nominatim()"
   ]
  },
  {
   "cell_type": "code",
   "execution_count": 38,
   "metadata": {
    "collapsed": true
   },
   "outputs": [],
   "source": [
    "def pegarLatLng (local):\n",
    "    geolocalizador = Nominatim()\n",
    "    try:\n",
    "        localizacao = geolocalizador.geocode(local)\n",
    "        return (localizacao.latitude,localizacao.longitude)\n",
    "    except:\n",
    "        return 0"
   ]
  },
  {
   "cell_type": "code",
   "execution_count": 41,
   "metadata": {
    "collapsed": false
   },
   "outputs": [
    {
     "data": {
      "text/plain": [
       "(7.8699431, 29.6667897)"
      ]
     },
     "execution_count": 41,
     "metadata": {},
     "output_type": "execute_result"
    }
   ],
   "source": [
    "pegarLatLng('sudao do sul')"
   ]
  },
  {
   "cell_type": "code",
   "execution_count": 42,
   "metadata": {
    "collapsed": true
   },
   "outputs": [],
   "source": [
    "palavras = df.text[0]"
   ]
  },
  {
   "cell_type": "code",
   "execution_count": 43,
   "metadata": {
    "collapsed": false
   },
   "outputs": [
    {
     "data": {
      "text/plain": [
       "\"RT @folha: 'Queria deixá-la ciente do quanto ela prejudicou minha carreira', diz Biel sobre repórter https://t.co/VHl4DGhwHd https://t.co/L…\""
      ]
     },
     "execution_count": 43,
     "metadata": {},
     "output_type": "execute_result"
    }
   ],
   "source": [
    "palavras"
   ]
  },
  {
   "cell_type": "code",
   "execution_count": 44,
   "metadata": {
    "collapsed": true
   },
   "outputs": [],
   "source": [
    "for palavra in palavras.split():\n",
    "    if palavra.startswith('#'):\n",
    "        print(palavra)"
   ]
  },
  {
   "cell_type": "code",
   "execution_count": 47,
   "metadata": {
    "collapsed": true
   },
   "outputs": [],
   "source": [
    "def salvar_hashtags(texto):\n",
    "    aux=[]\n",
    "    for palavra in texto.split():\n",
    "        if palavra.startswith('#'):\n",
    "            aux.append(palavra)\n",
    "    converter = ' '.join(aux)\n",
    "    return converter"
   ]
  },
  {
   "cell_type": "code",
   "execution_count": 48,
   "metadata": {
    "collapsed": true
   },
   "outputs": [],
   "source": [
    "colunas = ['text','created_at','coordinates','retweet_count','screen_name','location', 'lang','followers_count','lat','lng','hashtags']"
   ]
  },
  {
   "cell_type": "code",
   "execution_count": 49,
   "metadata": {
    "collapsed": true
   },
   "outputs": [],
   "source": [
    "dado2 =[\n",
    "    df.text[0],\n",
    "    df.created_at[0],\n",
    "    df.coordinates[0],\n",
    "    df.retweet_count[0],\n",
    "    df.user[0]['screen_name'],\n",
    "    df.user[0]['location'],\n",
    "    df.user[0]['lang'],\n",
    "    df.user[0]['followers_count'],\n",
    "        \n",
    "]"
   ]
  },
  {
   "cell_type": "code",
   "execution_count": 50,
   "metadata": {
    "collapsed": true
   },
   "outputs": [],
   "source": [
    "df_final = pd.DataFrame(columns=colunas)"
   ]
  },
  {
   "cell_type": "code",
   "execution_count": 51,
   "metadata": {
    "collapsed": false
   },
   "outputs": [
    {
     "data": {
      "text/html": [
       "<div>\n",
       "<table border=\"1\" class=\"dataframe\">\n",
       "  <thead>\n",
       "    <tr style=\"text-align: right;\">\n",
       "      <th></th>\n",
       "      <th>text</th>\n",
       "      <th>created_at</th>\n",
       "      <th>coordinates</th>\n",
       "      <th>retweet_count</th>\n",
       "      <th>screen_name</th>\n",
       "      <th>location</th>\n",
       "      <th>lang</th>\n",
       "      <th>followers_count</th>\n",
       "      <th>lat</th>\n",
       "      <th>lng</th>\n",
       "      <th>hashtags</th>\n",
       "    </tr>\n",
       "  </thead>\n",
       "  <tbody>\n",
       "  </tbody>\n",
       "</table>\n",
       "</div>"
      ],
      "text/plain": [
       "Empty DataFrame\n",
       "Columns: [text, created_at, coordinates, retweet_count, screen_name, location, lang, followers_count, lat, lng, hashtags]\n",
       "Index: []"
      ]
     },
     "execution_count": 51,
     "metadata": {},
     "output_type": "execute_result"
    }
   ],
   "source": [
    "df_final"
   ]
  },
  {
   "cell_type": "code",
   "execution_count": null,
   "metadata": {
    "collapsed": false
   },
   "outputs": [
    {
     "name": "stdout",
     "output_type": "stream",
     "text": [
      "1 3 4 5 6 7 8 9 10 12 15 "
     ]
    }
   ],
   "source": [
    "for i in range(0, len(df)):\n",
    "    if df.user[i]['location'] != None:\n",
    "        latLong  = pegarLatLng(df.user[i]['location'])\n",
    "        if latLong!= 0:\n",
    "            dados = [\n",
    "                df.text[i],\n",
    "                df.created_at[i],\n",
    "                df.coordinates[i],\n",
    "                df.retweet_count[i],\n",
    "                df.user[i]['screen_name'],\n",
    "                df.user[i]['location'],\n",
    "                df.user[i]['lang'],\n",
    "                df.user[i]['followers_count'],\n",
    "                latLong[0],\n",
    "                latLong[1],\n",
    "                salvar_hashtags(df.text[i])\n",
    "            ]\n",
    "            print(i, end=\" \")\n",
    "            series = pd.Series(dados,index=colunas)\n",
    "            df_final = df_final.append(series,ignore_index=True)"
   ]
  },
  {
   "cell_type": "code",
   "execution_count": null,
   "metadata": {
    "collapsed": true
   },
   "outputs": [],
   "source": [
    "df_final.to_csv('stream.csv',sep=';',index=False)"
   ]
  }
 ],
 "metadata": {
  "kernelspec": {
   "display_name": "Python 3",
   "language": "python",
   "name": "python3"
  },
  "language_info": {
   "codemirror_mode": {
    "name": "ipython",
    "version": 3
   },
   "file_extension": ".py",
   "mimetype": "text/x-python",
   "name": "python",
   "nbconvert_exporter": "python",
   "pygments_lexer": "ipython3",
   "version": "3.5.1"
  }
 },
 "nbformat": 4,
 "nbformat_minor": 0
}
