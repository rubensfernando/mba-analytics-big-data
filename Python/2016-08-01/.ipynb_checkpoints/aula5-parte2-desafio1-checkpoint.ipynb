{
 "cells": [
  {
   "cell_type": "markdown",
   "metadata": {
    "collapsed": true
   },
   "source": [
    "# Desafio 1\n",
    "\n",
    "\n",
    "## 1. Entender a API de Streaming do Twitter\n",
    "\n",
    "Ver slides 14 até 21.\n",
    "\n",
    "Da mesma forma que fizemos na API REST do Twitter, temos que salvar as chaves de acesso, bem como definir o objeto OAuthHandler para cuidar da autenticação e validação do acesso."
   ]
  },
  {
   "cell_type": "code",
   "execution_count": null,
   "metadata": {
    "collapsed": true
   },
   "outputs": [],
   "source": [
    "import tweepy"
   ]
  },
  {
   "cell_type": "code",
   "execution_count": null,
   "metadata": {
    "collapsed": true
   },
   "outputs": [],
   "source": [
    "consumer_key = ''\n",
    "consumer_secret = ''\n",
    "access_token = ''\n",
    "access_token_secret = ''"
   ]
  },
  {
   "cell_type": "code",
   "execution_count": null,
   "metadata": {
    "collapsed": true
   },
   "outputs": [],
   "source": [
    "autorizar = tweepy.OAuthHandler(consumer_key, consumer_secret)\n",
    "autorizar.set_access_token(access_token, access_token_secret)"
   ]
  },
  {
   "cell_type": "markdown",
   "metadata": {},
   "source": [
    "## 2 .Criar uma classe herdando os atributos da classe StreamListener"
   ]
  },
  {
   "cell_type": "code",
   "execution_count": null,
   "metadata": {
    "collapsed": true
   },
   "outputs": [],
   "source": [
    "class DadosPublicosTwitter(tweepy.StreamListener):\n",
    "    def on_status(self, dados):\n",
    "        print(\"---> \", dados.text)"
   ]
  },
  {
   "cell_type": "markdown",
   "metadata": {},
   "source": [
    "## 3. Instanciar essa classe e utilizá-la para se conectar a API através de um objeto de Stream."
   ]
  },
  {
   "cell_type": "code",
   "execution_count": null,
   "metadata": {
    "collapsed": true
   },
   "outputs": [],
   "source": [
    "dados_twitter = DadosPublicosTwitter()"
   ]
  },
  {
   "cell_type": "code",
   "execution_count": null,
   "metadata": {
    "collapsed": true
   },
   "outputs": [],
   "source": [
    "fluxo = tweepy.Stream(autorizar, dados_twitter)"
   ]
  },
  {
   "cell_type": "markdown",
   "metadata": {},
   "source": [
    "## 4. Iniciar um fluxo (Stream)\n",
    "\n",
    "O parâmetro track aceita uma lista como argumento e cada elemento da lista é um termo que será filtrado.\n",
    "\n",
    "Para parar a execução do código será necessário clicar em Kernel -> Interrupt ou no botão de parar, representado por um quadrado.\n",
    "\n",
    "**<span style=\"color:red;\">Um erro será gerado:</span>** Provavelmente o ```KeyboardInterrupt```."
   ]
  },
  {
   "cell_type": "code",
   "execution_count": null,
   "metadata": {
    "collapsed": false
   },
   "outputs": [],
   "source": [
    "fluxo.filter(track=['Big Data'])"
   ]
  },
  {
   "cell_type": "markdown",
   "metadata": {
    "collapsed": true
   },
   "source": [
    "## Exercício\n",
    "\n",
    "Modifique o código de ```Iniciar um fluxo (Stream)``` para tratar o erro que apareceu quando interrompemos a execução do código: ```KeyboardInterrupt```.\n",
    "\n",
    "Lembre-se antes de rodar esse exercício de reiniciar a execução desse notebook. (Kernel -> Restart & Clean Output)."
   ]
  },
  {
   "cell_type": "code",
   "execution_count": null,
   "metadata": {
    "collapsed": false
   },
   "outputs": [],
   "source": []
  }
 ],
 "metadata": {
  "kernelspec": {
   "display_name": "Python 3",
   "language": "python",
   "name": "python3"
  },
  "language_info": {
   "codemirror_mode": {
    "name": "ipython",
    "version": 3
   },
   "file_extension": ".py",
   "mimetype": "text/x-python",
   "name": "python",
   "nbconvert_exporter": "python",
   "pygments_lexer": "ipython3",
   "version": "3.5.1"
  }
 },
 "nbformat": 4,
 "nbformat_minor": 0
}
