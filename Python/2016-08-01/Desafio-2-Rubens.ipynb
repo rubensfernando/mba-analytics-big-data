{
 "cells": [
  {
   "cell_type": "code",
   "execution_count": 3,
   "metadata": {
    "collapsed": true
   },
   "outputs": [],
   "source": [
    "import tweepy"
   ]
  },
  {
   "cell_type": "code",
   "execution_count": 4,
   "metadata": {
    "collapsed": true
   },
   "outputs": [],
   "source": [
    "consumer_key = 'M6OkpsVkxMo1m4oEpcKrxTG9L'\n",
    "consumer_secret = 'huUxJYdPoddEkvRrmDOFQIuHspkBERTCshx2J5tcj7FeAFdgNp'\n",
    "access_token = '13101632-jfzgS37obVEw5vEQhkg3iHuMSgZFwAnLz55OZcVyi'\n",
    "access_token_secret = 'CeoEHGH6fzrFH1PbXxSwCvmL04rD6nQElJzKgMnAj9AY9'"
   ]
  },
  {
   "cell_type": "code",
   "execution_count": 5,
   "metadata": {
    "collapsed": true
   },
   "outputs": [],
   "source": [
    "autorizar = tweepy.OAuthHandler(consumer_key,consumer_secret)"
   ]
  },
  {
   "cell_type": "code",
   "execution_count": 6,
   "metadata": {
    "collapsed": true
   },
   "outputs": [],
   "source": [
    "autorizar.set_access_token(access_token,access_token_secret)"
   ]
  },
  {
   "cell_type": "code",
   "execution_count": 11,
   "metadata": {
    "collapsed": false
   },
   "outputs": [],
   "source": [
    "class DadosPublicosTwitter(tweepy.StreamListener):\n",
    "    def __init__(self):\n",
    "        self.arquivo = open('tweets.json', mode='a')\n",
    "    def on_data(self, dados):\n",
    "        self.arquivo.write(dados)"
   ]
  },
  {
   "cell_type": "code",
   "execution_count": 12,
   "metadata": {
    "collapsed": true
   },
   "outputs": [],
   "source": [
    "dados_twitter = DadosPublicosTwitter()"
   ]
  },
  {
   "cell_type": "code",
   "execution_count": 13,
   "metadata": {
    "collapsed": true
   },
   "outputs": [],
   "source": [
    "fluxo = tweepy.Stream(autorizar,dados_twitter)"
   ]
  },
  {
   "cell_type": "code",
   "execution_count": 14,
   "metadata": {
    "collapsed": false
   },
   "outputs": [
    {
     "name": "stdout",
     "output_type": "stream",
     "text": [
      "\n",
      " Finalizado via teclado\n"
     ]
    }
   ],
   "source": [
    "try:\n",
    "    fluxo.filter(track=['folha','folha de s.paulo', 'folha de sao paulo'])\n",
    "except KeyboardInterrupt:\n",
    "    print(\"\\n Finalizado via teclado\")"
   ]
  },
  {
   "cell_type": "code",
   "execution_count": null,
   "metadata": {
    "collapsed": true
   },
   "outputs": [],
   "source": []
  }
 ],
 "metadata": {
  "kernelspec": {
   "display_name": "Python 3",
   "language": "python",
   "name": "python3"
  },
  "language_info": {
   "codemirror_mode": {
    "name": "ipython",
    "version": 3
   },
   "file_extension": ".py",
   "mimetype": "text/x-python",
   "name": "python",
   "nbconvert_exporter": "python",
   "pygments_lexer": "ipython3",
   "version": "3.5.1"
  }
 },
 "nbformat": 4,
 "nbformat_minor": 0
}
