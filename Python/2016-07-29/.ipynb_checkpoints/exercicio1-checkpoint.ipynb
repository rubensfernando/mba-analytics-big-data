{
 "cells": [
  {
   "cell_type": "code",
   "execution_count": 1,
   "metadata": {
    "collapsed": true
   },
   "outputs": [],
   "source": [
    "import tweepy"
   ]
  },
  {
   "cell_type": "code",
   "execution_count": 2,
   "metadata": {
    "collapsed": true
   },
   "outputs": [],
   "source": [
    "consumer_key = 'SFQoMCyCHUYzHwvOP2hObiaYb'\n",
    "consumer_secret = 'yCon3o8WMFYDon8D5c8xi5taBDxDldodsdMEFXvrUbi5X3uCK6'\n",
    "access_token = '13101632-jfzgS37obVEw5vEQhkg3iHuMSgZFwAnLz55OZcVyi'\n",
    "access_token_secret = 'CeoEHGH6fzrFH1PbXxSwCvmL04rD6nQElJzKgMnAj9AY9'"
   ]
  },
  {
   "cell_type": "code",
   "execution_count": 4,
   "metadata": {
    "collapsed": false
   },
   "outputs": [],
   "source": [
    "autorizar = tweepy.OAuthHandler(consumer_key, consumer_secret)"
   ]
  },
  {
   "cell_type": "code",
   "execution_count": 5,
   "metadata": {
    "collapsed": false
   },
   "outputs": [
    {
     "data": {
      "text/plain": [
       "['OAUTH_HOST',\n",
       " 'OAUTH_ROOT',\n",
       " '__class__',\n",
       " '__delattr__',\n",
       " '__dict__',\n",
       " '__dir__',\n",
       " '__doc__',\n",
       " '__eq__',\n",
       " '__format__',\n",
       " '__ge__',\n",
       " '__getattribute__',\n",
       " '__gt__',\n",
       " '__hash__',\n",
       " '__init__',\n",
       " '__le__',\n",
       " '__lt__',\n",
       " '__module__',\n",
       " '__ne__',\n",
       " '__new__',\n",
       " '__reduce__',\n",
       " '__reduce_ex__',\n",
       " '__repr__',\n",
       " '__setattr__',\n",
       " '__sizeof__',\n",
       " '__str__',\n",
       " '__subclasshook__',\n",
       " '__weakref__',\n",
       " '_get_oauth_url',\n",
       " '_get_request_token',\n",
       " 'access_token',\n",
       " 'access_token_secret',\n",
       " 'apply_auth',\n",
       " 'callback',\n",
       " 'consumer_key',\n",
       " 'consumer_secret',\n",
       " 'get_access_token',\n",
       " 'get_authorization_url',\n",
       " 'get_username',\n",
       " 'get_xauth_access_token',\n",
       " 'oauth',\n",
       " 'set_access_token',\n",
       " 'username']"
      ]
     },
     "execution_count": 5,
     "metadata": {},
     "output_type": "execute_result"
    }
   ],
   "source": [
    "dir(autorizar)"
   ]
  },
  {
   "cell_type": "code",
   "execution_count": 6,
   "metadata": {
    "collapsed": true
   },
   "outputs": [],
   "source": [
    "autorizar.set_access_token(access_token,access_token_secret)"
   ]
  },
  {
   "cell_type": "code",
   "execution_count": 8,
   "metadata": {
    "collapsed": false
   },
   "outputs": [],
   "source": [
    "api = tweepy.API(autorizar)"
   ]
  },
  {
   "cell_type": "code",
   "execution_count": 9,
   "metadata": {
    "collapsed": false
   },
   "outputs": [
    {
     "name": "stdout",
     "output_type": "stream",
     "text": [
      "<tweepy.api.API object at 0x0478DD10>\n"
     ]
    }
   ],
   "source": [
    "print(api)"
   ]
  },
  {
   "cell_type": "code",
   "execution_count": 10,
   "metadata": {
    "collapsed": false
   },
   "outputs": [
    {
     "data": {
      "text/plain": [
       "['__class__',\n",
       " '__delattr__',\n",
       " '__dict__',\n",
       " '__dir__',\n",
       " '__doc__',\n",
       " '__eq__',\n",
       " '__format__',\n",
       " '__ge__',\n",
       " '__getattribute__',\n",
       " '__gt__',\n",
       " '__hash__',\n",
       " '__init__',\n",
       " '__le__',\n",
       " '__lt__',\n",
       " '__module__',\n",
       " '__ne__',\n",
       " '__new__',\n",
       " '__reduce__',\n",
       " '__reduce_ex__',\n",
       " '__repr__',\n",
       " '__setattr__',\n",
       " '__sizeof__',\n",
       " '__str__',\n",
       " '__subclasshook__',\n",
       " '__weakref__',\n",
       " '_add_list_members',\n",
       " '_lookup_friendships',\n",
       " '_lookup_users',\n",
       " '_pack_image',\n",
       " '_remove_list_members',\n",
       " '_statuses_lookup',\n",
       " 'add_list_member',\n",
       " 'add_list_members',\n",
       " 'api_root',\n",
       " 'auth',\n",
       " 'blocks',\n",
       " 'blocks_ids',\n",
       " 'cache',\n",
       " 'compression',\n",
       " 'configuration',\n",
       " 'create_block',\n",
       " 'create_favorite',\n",
       " 'create_friendship',\n",
       " 'create_list',\n",
       " 'create_saved_search',\n",
       " 'destroy_block',\n",
       " 'destroy_direct_message',\n",
       " 'destroy_favorite',\n",
       " 'destroy_friendship',\n",
       " 'destroy_list',\n",
       " 'destroy_saved_search',\n",
       " 'destroy_status',\n",
       " 'direct_messages',\n",
       " 'favorites',\n",
       " 'followers',\n",
       " 'followers_ids',\n",
       " 'friends',\n",
       " 'friends_ids',\n",
       " 'friendships_incoming',\n",
       " 'friendships_outgoing',\n",
       " 'geo_id',\n",
       " 'geo_search',\n",
       " 'geo_similar_places',\n",
       " 'get_direct_message',\n",
       " 'get_list',\n",
       " 'get_oembed',\n",
       " 'get_saved_search',\n",
       " 'get_settings',\n",
       " 'get_status',\n",
       " 'get_user',\n",
       " 'home_timeline',\n",
       " 'host',\n",
       " 'list_members',\n",
       " 'list_subscribers',\n",
       " 'list_timeline',\n",
       " 'lists_all',\n",
       " 'lists_memberships',\n",
       " 'lists_subscriptions',\n",
       " 'lookup_friendships',\n",
       " 'lookup_users',\n",
       " 'me',\n",
       " 'media_upload',\n",
       " 'mentions_timeline',\n",
       " 'parser',\n",
       " 'proxy',\n",
       " 'rate_limit_status',\n",
       " 'related_results',\n",
       " 'remove_list_member',\n",
       " 'remove_list_members',\n",
       " 'report_spam',\n",
       " 'retry_count',\n",
       " 'retry_delay',\n",
       " 'retry_errors',\n",
       " 'retweet',\n",
       " 'retweeters',\n",
       " 'retweets',\n",
       " 'retweets_of_me',\n",
       " 'reverse_geocode',\n",
       " 'saved_searches',\n",
       " 'search',\n",
       " 'search_host',\n",
       " 'search_root',\n",
       " 'search_users',\n",
       " 'send_direct_message',\n",
       " 'sent_direct_messages',\n",
       " 'set_delivery_device',\n",
       " 'set_settings',\n",
       " 'show_friendship',\n",
       " 'show_list_member',\n",
       " 'show_list_subscriber',\n",
       " 'statuses_lookup',\n",
       " 'subscribe_list',\n",
       " 'suggested_categories',\n",
       " 'suggested_users',\n",
       " 'suggested_users_tweets',\n",
       " 'supported_languages',\n",
       " 'timeout',\n",
       " 'trends_available',\n",
       " 'trends_closest',\n",
       " 'trends_place',\n",
       " 'unsubscribe_list',\n",
       " 'update_list',\n",
       " 'update_profile',\n",
       " 'update_profile_background_image',\n",
       " 'update_profile_banner',\n",
       " 'update_profile_colors',\n",
       " 'update_profile_image',\n",
       " 'update_status',\n",
       " 'update_with_media',\n",
       " 'upload_host',\n",
       " 'upload_root',\n",
       " 'user_timeline',\n",
       " 'verify_credentials',\n",
       " 'wait_on_rate_limit',\n",
       " 'wait_on_rate_limit_notify']"
      ]
     },
     "execution_count": 10,
     "metadata": {},
     "output_type": "execute_result"
    }
   ],
   "source": [
    "dir(api)"
   ]
  },
  {
   "cell_type": "code",
   "execution_count": 13,
   "metadata": {
    "collapsed": false
   },
   "outputs": [],
   "source": [
    "retorno = api.update_status(status=\"Hello twitter. Test from python\")"
   ]
  },
  {
   "cell_type": "raw",
   "metadata": {},
   "source": [
    "p"
   ]
  },
  {
   "cell_type": "code",
   "execution_count": 14,
   "metadata": {
    "collapsed": false
   },
   "outputs": [
    {
     "name": "stdout",
     "output_type": "stream",
     "text": [
      "Status(contributors=None, favorite_count=0, source='python aula twitter', user=User(profile_background_image_url_https='https://pbs.twimg.com/profile_background_images/3019929/opposite_way.jpg', description='Christian + Information designer + interactive designer + dataviz at @folha & @gruponews + cyclist. These opinions are my own.', contributors_enabled=False, location='São Paulo, Brazil', following=False, statuses_count=2168, utc_offset=-10800, created_at=datetime.datetime(2008, 2, 5, 17, 31, 57), profile_use_background_image=True, _api=<tweepy.api.API object at 0x0478DD10>, favourites_count=370, profile_image_url_https='https://pbs.twimg.com/profile_images/378800000545005336/153a471b68c7ab91bf35dc71f91242cb_normal.jpeg', verified=False, id=13101632, profile_image_url='http://pbs.twimg.com/profile_images/378800000545005336/153a471b68c7ab91bf35dc71f91242cb_normal.jpeg', profile_sidebar_fill_color='FFFFFF', profile_background_image_url='http://pbs.twimg.com/profile_background_images/3019929/opposite_way.jpg', is_translation_enabled=False, profile_sidebar_border_color='FFFFFF', protected=False, has_extended_profile=False, is_translator=False, profile_text_color='231F20', time_zone='Brasilia', followers_count=337, id_str='13101632', profile_background_tile=False, screen_name='rubensfernando', friends_count=797, geo_enabled=True, entities={'description': {'urls': []}, 'url': {'urls': [{'display_url': 'rubensfernando.com', 'indices': [0, 22], 'expanded_url': 'http://rubensfernando.com', 'url': 'http://t.co/nSvUZbgxxP'}]}}, listed_count=23, default_profile=False, notifications=False, default_profile_image=False, url='http://t.co/nSvUZbgxxP', lang='en', profile_link_color='0084B4', name='Rubens Fernando', profile_background_color='FFFFFF', _json={'description': 'Christian + Information designer + interactive designer + dataviz at @folha & @gruponews + cyclist. These opinions are my own.', 'contributors_enabled': False, 'location': 'São Paulo, Brazil', 'profile_image_url': 'http://pbs.twimg.com/profile_images/378800000545005336/153a471b68c7ab91bf35dc71f91242cb_normal.jpeg', 'url': 'http://t.co/nSvUZbgxxP', 'default_profile_image': False, 'utc_offset': -10800, 'created_at': 'Tue Feb 05 17:31:57 +0000 2008', 'follow_request_sent': False, 'profile_background_color': 'FFFFFF', 'id': 13101632, 'favourites_count': 370, 'lang': 'en', 'id_str': '13101632', 'profile_use_background_image': True, 'statuses_count': 2168, 'profile_sidebar_fill_color': 'FFFFFF', 'profile_background_image_url': 'http://pbs.twimg.com/profile_background_images/3019929/opposite_way.jpg', 'is_translation_enabled': False, 'has_extended_profile': False, 'is_translator': False, 'following': False, 'time_zone': 'Brasilia', 'verified': False, 'profile_background_tile': False, 'default_profile': False, 'geo_enabled': True, 'notifications': False, 'entities': {'description': {'urls': []}, 'url': {'urls': [{'display_url': 'rubensfernando.com', 'indices': [0, 22], 'expanded_url': 'http://rubensfernando.com', 'url': 'http://t.co/nSvUZbgxxP'}]}}, 'listed_count': 23, 'friends_count': 797, 'profile_text_color': '231F20', 'followers_count': 337, 'protected': False, 'profile_image_url_https': 'https://pbs.twimg.com/profile_images/378800000545005336/153a471b68c7ab91bf35dc71f91242cb_normal.jpeg', 'name': 'Rubens Fernando', 'profile_link_color': '0084B4', 'profile_background_image_url_https': 'https://pbs.twimg.com/profile_background_images/3019929/opposite_way.jpg', 'screen_name': 'rubensfernando', 'profile_sidebar_border_color': 'FFFFFF'}, follow_request_sent=False), created_at=datetime.datetime(2016, 7, 29, 22, 55, 7), id=759160354811289601, _api=<tweepy.api.API object at 0x0478DD10>, in_reply_to_user_id=None, author=User(profile_background_image_url_https='https://pbs.twimg.com/profile_background_images/3019929/opposite_way.jpg', description='Christian + Information designer + interactive designer + dataviz at @folha & @gruponews + cyclist. These opinions are my own.', contributors_enabled=False, location='São Paulo, Brazil', following=False, statuses_count=2168, utc_offset=-10800, created_at=datetime.datetime(2008, 2, 5, 17, 31, 57), profile_use_background_image=True, _api=<tweepy.api.API object at 0x0478DD10>, favourites_count=370, profile_image_url_https='https://pbs.twimg.com/profile_images/378800000545005336/153a471b68c7ab91bf35dc71f91242cb_normal.jpeg', verified=False, id=13101632, profile_image_url='http://pbs.twimg.com/profile_images/378800000545005336/153a471b68c7ab91bf35dc71f91242cb_normal.jpeg', profile_sidebar_fill_color='FFFFFF', profile_background_image_url='http://pbs.twimg.com/profile_background_images/3019929/opposite_way.jpg', is_translation_enabled=False, profile_sidebar_border_color='FFFFFF', protected=False, has_extended_profile=False, is_translator=False, profile_text_color='231F20', time_zone='Brasilia', followers_count=337, id_str='13101632', profile_background_tile=False, screen_name='rubensfernando', friends_count=797, geo_enabled=True, entities={'description': {'urls': []}, 'url': {'urls': [{'display_url': 'rubensfernando.com', 'indices': [0, 22], 'expanded_url': 'http://rubensfernando.com', 'url': 'http://t.co/nSvUZbgxxP'}]}}, listed_count=23, default_profile=False, notifications=False, default_profile_image=False, url='http://t.co/nSvUZbgxxP', lang='en', profile_link_color='0084B4', name='Rubens Fernando', profile_background_color='FFFFFF', _json={'description': 'Christian + Information designer + interactive designer + dataviz at @folha & @gruponews + cyclist. These opinions are my own.', 'contributors_enabled': False, 'location': 'São Paulo, Brazil', 'profile_image_url': 'http://pbs.twimg.com/profile_images/378800000545005336/153a471b68c7ab91bf35dc71f91242cb_normal.jpeg', 'url': 'http://t.co/nSvUZbgxxP', 'default_profile_image': False, 'utc_offset': -10800, 'created_at': 'Tue Feb 05 17:31:57 +0000 2008', 'follow_request_sent': False, 'profile_background_color': 'FFFFFF', 'id': 13101632, 'favourites_count': 370, 'lang': 'en', 'id_str': '13101632', 'profile_use_background_image': True, 'statuses_count': 2168, 'profile_sidebar_fill_color': 'FFFFFF', 'profile_background_image_url': 'http://pbs.twimg.com/profile_background_images/3019929/opposite_way.jpg', 'is_translation_enabled': False, 'has_extended_profile': False, 'is_translator': False, 'following': False, 'time_zone': 'Brasilia', 'verified': False, 'profile_background_tile': False, 'default_profile': False, 'geo_enabled': True, 'notifications': False, 'entities': {'description': {'urls': []}, 'url': {'urls': [{'display_url': 'rubensfernando.com', 'indices': [0, 22], 'expanded_url': 'http://rubensfernando.com', 'url': 'http://t.co/nSvUZbgxxP'}]}}, 'listed_count': 23, 'friends_count': 797, 'profile_text_color': '231F20', 'followers_count': 337, 'protected': False, 'profile_image_url_https': 'https://pbs.twimg.com/profile_images/378800000545005336/153a471b68c7ab91bf35dc71f91242cb_normal.jpeg', 'name': 'Rubens Fernando', 'profile_link_color': '0084B4', 'profile_background_image_url_https': 'https://pbs.twimg.com/profile_background_images/3019929/opposite_way.jpg', 'screen_name': 'rubensfernando', 'profile_sidebar_border_color': 'FFFFFF'}, follow_request_sent=False), in_reply_to_screen_name=None, source_url='http://www.rubensfernando.com', truncated=False, is_quote_status=False, favorited=False, id_str='759160354811289601', in_reply_to_user_id_str=None, in_reply_to_status_id=None, in_reply_to_status_id_str=None, coordinates=None, entities={'urls': [], 'hashtags': [], 'user_mentions': [], 'symbols': []}, retweet_count=0, place=None, retweeted=False, lang='en', geo=None, text='Hello twitter. Test from python', _json={'contributors': None, 'favorite_count': 0, 'source': '<a href=\"http://www.rubensfernando.com\" rel=\"nofollow\">python aula twitter</a>', 'created_at': 'Fri Jul 29 22:55:07 +0000 2016', 'id': 759160354811289601, 'in_reply_to_user_id': None, 'coordinates': None, 'in_reply_to_screen_name': None, 'truncated': False, 'is_quote_status': False, 'favorited': False, 'id_str': '759160354811289601', 'in_reply_to_user_id_str': None, 'in_reply_to_status_id': None, 'in_reply_to_status_id_str': None, 'user': {'description': 'Christian + Information designer + interactive designer + dataviz at @folha & @gruponews + cyclist. These opinions are my own.', 'contributors_enabled': False, 'location': 'São Paulo, Brazil', 'profile_image_url': 'http://pbs.twimg.com/profile_images/378800000545005336/153a471b68c7ab91bf35dc71f91242cb_normal.jpeg', 'url': 'http://t.co/nSvUZbgxxP', 'default_profile_image': False, 'utc_offset': -10800, 'created_at': 'Tue Feb 05 17:31:57 +0000 2008', 'follow_request_sent': False, 'profile_background_color': 'FFFFFF', 'id': 13101632, 'favourites_count': 370, 'lang': 'en', 'id_str': '13101632', 'profile_use_background_image': True, 'statuses_count': 2168, 'profile_sidebar_fill_color': 'FFFFFF', 'profile_background_image_url': 'http://pbs.twimg.com/profile_background_images/3019929/opposite_way.jpg', 'is_translation_enabled': False, 'has_extended_profile': False, 'is_translator': False, 'following': False, 'time_zone': 'Brasilia', 'verified': False, 'profile_background_tile': False, 'default_profile': False, 'geo_enabled': True, 'notifications': False, 'entities': {'description': {'urls': []}, 'url': {'urls': [{'display_url': 'rubensfernando.com', 'indices': [0, 22], 'expanded_url': 'http://rubensfernando.com', 'url': 'http://t.co/nSvUZbgxxP'}]}}, 'listed_count': 23, 'friends_count': 797, 'profile_text_color': '231F20', 'followers_count': 337, 'protected': False, 'profile_image_url_https': 'https://pbs.twimg.com/profile_images/378800000545005336/153a471b68c7ab91bf35dc71f91242cb_normal.jpeg', 'name': 'Rubens Fernando', 'profile_link_color': '0084B4', 'profile_background_image_url_https': 'https://pbs.twimg.com/profile_background_images/3019929/opposite_way.jpg', 'screen_name': 'rubensfernando', 'profile_sidebar_border_color': 'FFFFFF'}, 'entities': {'urls': [], 'hashtags': [], 'user_mentions': [], 'symbols': []}, 'retweet_count': 0, 'place': None, 'retweeted': False, 'lang': 'en', 'geo': None, 'text': 'Hello twitter. Test from python'})\n"
     ]
    }
   ],
   "source": [
    "print(retorno)"
   ]
  },
  {
   "cell_type": "code",
   "execution_count": 15,
   "metadata": {
    "collapsed": false
   },
   "outputs": [
    {
     "data": {
      "text/plain": [
       "759160354811289601"
      ]
     },
     "execution_count": 15,
     "metadata": {},
     "output_type": "execute_result"
    }
   ],
   "source": [
    "retorno.id"
   ]
  },
  {
   "cell_type": "code",
   "execution_count": 19,
   "metadata": {
    "collapsed": false
   },
   "outputs": [
    {
     "data": {
      "text/plain": [
       "['__class__',\n",
       " '__delattr__',\n",
       " '__dict__',\n",
       " '__dir__',\n",
       " '__doc__',\n",
       " '__eq__',\n",
       " '__format__',\n",
       " '__ge__',\n",
       " '__getattribute__',\n",
       " '__getstate__',\n",
       " '__gt__',\n",
       " '__hash__',\n",
       " '__init__',\n",
       " '__le__',\n",
       " '__lt__',\n",
       " '__module__',\n",
       " '__ne__',\n",
       " '__new__',\n",
       " '__reduce__',\n",
       " '__reduce_ex__',\n",
       " '__repr__',\n",
       " '__setattr__',\n",
       " '__sizeof__',\n",
       " '__str__',\n",
       " '__subclasshook__',\n",
       " '__weakref__',\n",
       " '_api',\n",
       " '_json',\n",
       " 'author',\n",
       " 'contributors',\n",
       " 'coordinates',\n",
       " 'created_at',\n",
       " 'destroy',\n",
       " 'entities',\n",
       " 'favorite',\n",
       " 'favorite_count',\n",
       " 'favorited',\n",
       " 'geo',\n",
       " 'id',\n",
       " 'id_str',\n",
       " 'in_reply_to_screen_name',\n",
       " 'in_reply_to_status_id',\n",
       " 'in_reply_to_status_id_str',\n",
       " 'in_reply_to_user_id',\n",
       " 'in_reply_to_user_id_str',\n",
       " 'is_quote_status',\n",
       " 'lang',\n",
       " 'parse',\n",
       " 'parse_list',\n",
       " 'place',\n",
       " 'retweet',\n",
       " 'retweet_count',\n",
       " 'retweeted',\n",
       " 'retweets',\n",
       " 'source',\n",
       " 'source_url',\n",
       " 'text',\n",
       " 'truncated',\n",
       " 'user']"
      ]
     },
     "execution_count": 19,
     "metadata": {},
     "output_type": "execute_result"
    }
   ],
   "source": [
    "dir(retorno)"
   ]
  },
  {
   "cell_type": "code",
   "execution_count": 20,
   "metadata": {
    "collapsed": true
   },
   "outputs": [],
   "source": [
    "id = retorno.id"
   ]
  },
  {
   "cell_type": "code",
   "execution_count": 21,
   "metadata": {
    "collapsed": true
   },
   "outputs": [],
   "source": [
    "retornoDestroy = api.destroy_status(id=id)"
   ]
  },
  {
   "cell_type": "code",
   "execution_count": 22,
   "metadata": {
    "collapsed": false
   },
   "outputs": [
    {
     "data": {
      "text/plain": [
       "Status(contributors=None, favorite_count=0, source='python aula twitter', user=User(profile_background_image_url_https='https://pbs.twimg.com/profile_background_images/3019929/opposite_way.jpg', description='Christian + Information designer + interactive designer + dataviz at @folha & @gruponews + cyclist. These opinions are my own.', contributors_enabled=False, location='São Paulo, Brazil', following=False, statuses_count=2168, utc_offset=-10800, created_at=datetime.datetime(2008, 2, 5, 17, 31, 57), profile_use_background_image=True, _api=<tweepy.api.API object at 0x0478DD10>, favourites_count=370, profile_image_url_https='https://pbs.twimg.com/profile_images/378800000545005336/153a471b68c7ab91bf35dc71f91242cb_normal.jpeg', verified=False, id=13101632, profile_image_url='http://pbs.twimg.com/profile_images/378800000545005336/153a471b68c7ab91bf35dc71f91242cb_normal.jpeg', profile_sidebar_fill_color='FFFFFF', profile_background_image_url='http://pbs.twimg.com/profile_background_images/3019929/opposite_way.jpg', is_translation_enabled=False, profile_sidebar_border_color='FFFFFF', protected=False, has_extended_profile=False, is_translator=False, profile_text_color='231F20', time_zone='Brasilia', followers_count=337, id_str='13101632', profile_background_tile=False, screen_name='rubensfernando', friends_count=797, geo_enabled=True, entities={'description': {'urls': []}, 'url': {'urls': [{'display_url': 'rubensfernando.com', 'indices': [0, 22], 'expanded_url': 'http://rubensfernando.com', 'url': 'http://t.co/nSvUZbgxxP'}]}}, listed_count=23, default_profile=False, notifications=False, default_profile_image=False, url='http://t.co/nSvUZbgxxP', lang='en', profile_link_color='0084B4', name='Rubens Fernando', profile_background_color='FFFFFF', _json={'description': 'Christian + Information designer + interactive designer + dataviz at @folha & @gruponews + cyclist. These opinions are my own.', 'contributors_enabled': False, 'location': 'São Paulo, Brazil', 'profile_image_url': 'http://pbs.twimg.com/profile_images/378800000545005336/153a471b68c7ab91bf35dc71f91242cb_normal.jpeg', 'url': 'http://t.co/nSvUZbgxxP', 'default_profile_image': False, 'utc_offset': -10800, 'created_at': 'Tue Feb 05 17:31:57 +0000 2008', 'follow_request_sent': False, 'profile_background_color': 'FFFFFF', 'id': 13101632, 'favourites_count': 370, 'lang': 'en', 'id_str': '13101632', 'profile_use_background_image': True, 'statuses_count': 2168, 'profile_sidebar_fill_color': 'FFFFFF', 'profile_background_image_url': 'http://pbs.twimg.com/profile_background_images/3019929/opposite_way.jpg', 'is_translation_enabled': False, 'has_extended_profile': False, 'is_translator': False, 'following': False, 'time_zone': 'Brasilia', 'verified': False, 'profile_background_tile': False, 'default_profile': False, 'geo_enabled': True, 'notifications': False, 'entities': {'description': {'urls': []}, 'url': {'urls': [{'display_url': 'rubensfernando.com', 'indices': [0, 22], 'expanded_url': 'http://rubensfernando.com', 'url': 'http://t.co/nSvUZbgxxP'}]}}, 'listed_count': 23, 'friends_count': 797, 'profile_text_color': '231F20', 'followers_count': 337, 'protected': False, 'profile_image_url_https': 'https://pbs.twimg.com/profile_images/378800000545005336/153a471b68c7ab91bf35dc71f91242cb_normal.jpeg', 'name': 'Rubens Fernando', 'profile_link_color': '0084B4', 'profile_background_image_url_https': 'https://pbs.twimg.com/profile_background_images/3019929/opposite_way.jpg', 'screen_name': 'rubensfernando', 'profile_sidebar_border_color': 'FFFFFF'}, follow_request_sent=False), created_at=datetime.datetime(2016, 7, 29, 22, 55, 7), id=759160354811289601, _api=<tweepy.api.API object at 0x0478DD10>, in_reply_to_user_id=None, author=User(profile_background_image_url_https='https://pbs.twimg.com/profile_background_images/3019929/opposite_way.jpg', description='Christian + Information designer + interactive designer + dataviz at @folha & @gruponews + cyclist. These opinions are my own.', contributors_enabled=False, location='São Paulo, Brazil', following=False, statuses_count=2168, utc_offset=-10800, created_at=datetime.datetime(2008, 2, 5, 17, 31, 57), profile_use_background_image=True, _api=<tweepy.api.API object at 0x0478DD10>, favourites_count=370, profile_image_url_https='https://pbs.twimg.com/profile_images/378800000545005336/153a471b68c7ab91bf35dc71f91242cb_normal.jpeg', verified=False, id=13101632, profile_image_url='http://pbs.twimg.com/profile_images/378800000545005336/153a471b68c7ab91bf35dc71f91242cb_normal.jpeg', profile_sidebar_fill_color='FFFFFF', profile_background_image_url='http://pbs.twimg.com/profile_background_images/3019929/opposite_way.jpg', is_translation_enabled=False, profile_sidebar_border_color='FFFFFF', protected=False, has_extended_profile=False, is_translator=False, profile_text_color='231F20', time_zone='Brasilia', followers_count=337, id_str='13101632', profile_background_tile=False, screen_name='rubensfernando', friends_count=797, geo_enabled=True, entities={'description': {'urls': []}, 'url': {'urls': [{'display_url': 'rubensfernando.com', 'indices': [0, 22], 'expanded_url': 'http://rubensfernando.com', 'url': 'http://t.co/nSvUZbgxxP'}]}}, listed_count=23, default_profile=False, notifications=False, default_profile_image=False, url='http://t.co/nSvUZbgxxP', lang='en', profile_link_color='0084B4', name='Rubens Fernando', profile_background_color='FFFFFF', _json={'description': 'Christian + Information designer + interactive designer + dataviz at @folha & @gruponews + cyclist. These opinions are my own.', 'contributors_enabled': False, 'location': 'São Paulo, Brazil', 'profile_image_url': 'http://pbs.twimg.com/profile_images/378800000545005336/153a471b68c7ab91bf35dc71f91242cb_normal.jpeg', 'url': 'http://t.co/nSvUZbgxxP', 'default_profile_image': False, 'utc_offset': -10800, 'created_at': 'Tue Feb 05 17:31:57 +0000 2008', 'follow_request_sent': False, 'profile_background_color': 'FFFFFF', 'id': 13101632, 'favourites_count': 370, 'lang': 'en', 'id_str': '13101632', 'profile_use_background_image': True, 'statuses_count': 2168, 'profile_sidebar_fill_color': 'FFFFFF', 'profile_background_image_url': 'http://pbs.twimg.com/profile_background_images/3019929/opposite_way.jpg', 'is_translation_enabled': False, 'has_extended_profile': False, 'is_translator': False, 'following': False, 'time_zone': 'Brasilia', 'verified': False, 'profile_background_tile': False, 'default_profile': False, 'geo_enabled': True, 'notifications': False, 'entities': {'description': {'urls': []}, 'url': {'urls': [{'display_url': 'rubensfernando.com', 'indices': [0, 22], 'expanded_url': 'http://rubensfernando.com', 'url': 'http://t.co/nSvUZbgxxP'}]}}, 'listed_count': 23, 'friends_count': 797, 'profile_text_color': '231F20', 'followers_count': 337, 'protected': False, 'profile_image_url_https': 'https://pbs.twimg.com/profile_images/378800000545005336/153a471b68c7ab91bf35dc71f91242cb_normal.jpeg', 'name': 'Rubens Fernando', 'profile_link_color': '0084B4', 'profile_background_image_url_https': 'https://pbs.twimg.com/profile_background_images/3019929/opposite_way.jpg', 'screen_name': 'rubensfernando', 'profile_sidebar_border_color': 'FFFFFF'}, follow_request_sent=False), in_reply_to_screen_name=None, source_url='http://www.rubensfernando.com', truncated=False, is_quote_status=False, favorited=False, id_str='759160354811289601', in_reply_to_user_id_str=None, in_reply_to_status_id=None, in_reply_to_status_id_str=None, coordinates=None, entities={'urls': [], 'hashtags': [], 'user_mentions': [], 'symbols': []}, retweet_count=0, place=None, retweeted=False, lang='en', geo=None, text='Hello twitter. Test from python', _json={'contributors': None, 'favorite_count': 0, 'source': '<a href=\"http://www.rubensfernando.com\" rel=\"nofollow\">python aula twitter</a>', 'created_at': 'Fri Jul 29 22:55:07 +0000 2016', 'id': 759160354811289601, 'in_reply_to_user_id': None, 'coordinates': None, 'in_reply_to_screen_name': None, 'truncated': False, 'is_quote_status': False, 'favorited': False, 'id_str': '759160354811289601', 'in_reply_to_user_id_str': None, 'in_reply_to_status_id': None, 'in_reply_to_status_id_str': None, 'user': {'description': 'Christian + Information designer + interactive designer + dataviz at @folha & @gruponews + cyclist. These opinions are my own.', 'contributors_enabled': False, 'location': 'São Paulo, Brazil', 'profile_image_url': 'http://pbs.twimg.com/profile_images/378800000545005336/153a471b68c7ab91bf35dc71f91242cb_normal.jpeg', 'url': 'http://t.co/nSvUZbgxxP', 'default_profile_image': False, 'utc_offset': -10800, 'created_at': 'Tue Feb 05 17:31:57 +0000 2008', 'follow_request_sent': False, 'profile_background_color': 'FFFFFF', 'id': 13101632, 'favourites_count': 370, 'lang': 'en', 'id_str': '13101632', 'profile_use_background_image': True, 'statuses_count': 2168, 'profile_sidebar_fill_color': 'FFFFFF', 'profile_background_image_url': 'http://pbs.twimg.com/profile_background_images/3019929/opposite_way.jpg', 'is_translation_enabled': False, 'has_extended_profile': False, 'is_translator': False, 'following': False, 'time_zone': 'Brasilia', 'verified': False, 'profile_background_tile': False, 'default_profile': False, 'geo_enabled': True, 'notifications': False, 'entities': {'description': {'urls': []}, 'url': {'urls': [{'display_url': 'rubensfernando.com', 'indices': [0, 22], 'expanded_url': 'http://rubensfernando.com', 'url': 'http://t.co/nSvUZbgxxP'}]}}, 'listed_count': 23, 'friends_count': 797, 'profile_text_color': '231F20', 'followers_count': 337, 'protected': False, 'profile_image_url_https': 'https://pbs.twimg.com/profile_images/378800000545005336/153a471b68c7ab91bf35dc71f91242cb_normal.jpeg', 'name': 'Rubens Fernando', 'profile_link_color': '0084B4', 'profile_background_image_url_https': 'https://pbs.twimg.com/profile_background_images/3019929/opposite_way.jpg', 'screen_name': 'rubensfernando', 'profile_sidebar_border_color': 'FFFFFF'}, 'entities': {'urls': [], 'hashtags': [], 'user_mentions': [], 'symbols': []}, 'retweet_count': 0, 'place': None, 'retweeted': False, 'lang': 'en', 'geo': None, 'text': 'Hello twitter. Test from python'})"
      ]
     },
     "execution_count": 22,
     "metadata": {},
     "output_type": "execute_result"
    }
   ],
   "source": [
    "retornoDestroy"
   ]
  },
  {
   "cell_type": "code",
   "execution_count": 23,
   "metadata": {
    "collapsed": false
   },
   "outputs": [
    {
     "data": {
      "text/plain": [
       "'python aula twitter'"
      ]
     },
     "execution_count": 23,
     "metadata": {},
     "output_type": "execute_result"
    }
   ],
   "source": [
    "retorno.source"
   ]
  },
  {
   "cell_type": "code",
   "execution_count": 24,
   "metadata": {
    "collapsed": false
   },
   "outputs": [
    {
     "data": {
      "text/plain": [
       "'http://www.rubensfernando.com'"
      ]
     },
     "execution_count": 24,
     "metadata": {},
     "output_type": "execute_result"
    }
   ],
   "source": [
    "retorno.source_url"
   ]
  },
  {
   "cell_type": "code",
   "execution_count": 25,
   "metadata": {
    "collapsed": false
   },
   "outputs": [
    {
     "data": {
      "text/plain": [
       "False"
      ]
     },
     "execution_count": 25,
     "metadata": {},
     "output_type": "execute_result"
    }
   ],
   "source": [
    "retorno.truncated"
   ]
  },
  {
   "cell_type": "code",
   "execution_count": 26,
   "metadata": {
    "collapsed": false
   },
   "outputs": [
    {
     "data": {
      "text/plain": [
       "datetime.datetime(2016, 7, 29, 22, 55, 7)"
      ]
     },
     "execution_count": 26,
     "metadata": {},
     "output_type": "execute_result"
    }
   ],
   "source": [
    "retorno.created_at"
   ]
  },
  {
   "cell_type": "code",
   "execution_count": null,
   "metadata": {
    "collapsed": true
   },
   "outputs": [],
   "source": []
  }
 ],
 "metadata": {
  "kernelspec": {
   "display_name": "Python 3",
   "language": "python",
   "name": "python3"
  },
  "language_info": {
   "codemirror_mode": {
    "name": "ipython",
    "version": 3
   },
   "file_extension": ".py",
   "mimetype": "text/x-python",
   "name": "python",
   "nbconvert_exporter": "python",
   "pygments_lexer": "ipython3",
   "version": "3.5.1"
  }
 },
 "nbformat": 4,
 "nbformat_minor": 0
}
