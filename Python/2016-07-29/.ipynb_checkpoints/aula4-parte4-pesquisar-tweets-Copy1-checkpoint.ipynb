{
 "cells": [
  {
   "cell_type": "markdown",
   "metadata": {},
   "source": [
    "# Pesquisar por Tweets\n",
    "\n",
    "Na API Rest também podemos utilizar o método ```search``` para procurar por tweets que combinam com o termo definido.\n",
    "\n",
    "O método contém algumas opções como:\n",
    "\n",
    "    api.search(q, count, max_id, lang)\n",
    "    \n",
    "* ```q``` - é o parâmetro que terá o termo a ser pesquisado.\n",
    "* ```count``` - é a quantidade de tweets que serão retornados. O limite é 100 e o padrão é 15. \n",
    "* ```max_id``` - retorna apenas os tweets com o ID menor ou igual ao que foi especificado.\n",
    "* ```lang``` - restringe a busca por tweets de um determinado idioma.\n"
   ]
  },
  {
   "cell_type": "code",
   "execution_count": null,
   "metadata": {
    "collapsed": true
   },
   "outputs": [],
   "source": [
    "import tweepy"
   ]
  },
  {
   "cell_type": "code",
   "execution_count": null,
   "metadata": {
    "collapsed": true
   },
   "outputs": [],
   "source": [
    "consumer_key = ''\n",
    "consumer_secret = ''\n",
    "access_token = ''\n",
    "access_token_secret = ''\n",
    "\n",
    "autorizar = tweepy.OAuthHandler(consumer_key, consumer_secret)\n",
    "autorizar.set_access_token(access_token, access_token_secret)"
   ]
  },
  {
   "cell_type": "code",
   "execution_count": null,
   "metadata": {
    "collapsed": false
   },
   "outputs": [],
   "source": [
    "api = tweepy.API(autorizar)\n",
    "print(api)"
   ]
  },
  {
   "cell_type": "markdown",
   "metadata": {},
   "source": [
    "## Pesquisando"
   ]
  },
  {
   "cell_type": "code",
   "execution_count": null,
   "metadata": {
    "collapsed": false
   },
   "outputs": [],
   "source": [
    "tweets = api.search(q='Python', lang='pt') # Teste o parâmetro count=150\n",
    "\n",
    "for i, tweet in enumerate(tweets, start=1):\n",
    "    print(\"%d ---- %s\" % (i, tweet.text))"
   ]
  },
  {
   "cell_type": "markdown",
   "metadata": {},
   "source": [
    "## Recuperar 1000 tweets\n",
    "\n"
   ]
  },
  {
   "cell_type": "code",
   "execution_count": null,
   "metadata": {
    "collapsed": true
   },
   "outputs": [],
   "source": [
    "tweets_salvos = []\n",
    "ultimo_id = -1\n",
    "qtde_tweets = 1000"
   ]
  },
  {
   "cell_type": "code",
   "execution_count": null,
   "metadata": {
    "collapsed": false
   },
   "outputs": [],
   "source": [
    "while len(tweets_salvos) < qtde_tweets:\n",
    "    contador = qtde_tweets - len(tweets_salvos)\n",
    "    try:\n",
    "        novos_tweets = api.search(q='Python', count=contador, max_id=str(ultimo_id - 1)) # Teste com o parâmetro lang='pt'\n",
    "        if not novos_tweets:\n",
    "            print(\"Nenhum tweet para recuperar\")\n",
    "            break\n",
    "        tweets_salvos.extend(novos_tweets)\n",
    "        ultimo_id = novos_tweets[-1].id\n",
    "    except tweepy.TweepError as e:\n",
    "        print(\"Erro:\", (e))\n",
    "        break"
   ]
  },
  {
   "cell_type": "code",
   "execution_count": null,
   "metadata": {
    "collapsed": false
   },
   "outputs": [],
   "source": [
    "for i, tweet in enumerate(tweets_salvos, start=1):\n",
    "    print(\"{} ---- {}\".format(i, tweet.text))"
   ]
  },
  {
   "cell_type": "markdown",
   "metadata": {},
   "source": [
    "Os códigos do parâmetro lang deve seguir a **ISO 639-1** - https://en.wikipedia.org/wiki/List_of_ISO_639-1_codes\n",
    "\n",
    "Maiores informações: https://dev.twitter.com/rest/public/timelines"
   ]
  }
 ],
 "metadata": {
  "kernelspec": {
   "display_name": "Python 3",
   "language": "python",
   "name": "python3"
  },
  "language_info": {
   "codemirror_mode": {
    "name": "ipython",
    "version": 3
   },
   "file_extension": ".py",
   "mimetype": "text/x-python",
   "name": "python",
   "nbconvert_exporter": "python",
   "pygments_lexer": "ipython3",
   "version": "3.5.1"
  }
 },
 "nbformat": 4,
 "nbformat_minor": 0
}
