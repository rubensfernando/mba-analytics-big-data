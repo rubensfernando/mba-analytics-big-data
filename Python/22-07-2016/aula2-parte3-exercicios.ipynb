{
 "cells": [
  {
   "cell_type": "markdown",
   "metadata": {},
   "source": [
    "# Exercícios\n",
    "\n",
    "**``` 1 - Escreva uma função chamada carregar_arquivo, que lê o conteúdo do arquivo dados.txt. Esse arquivo contém uma palavra em cada linha. Para cada linha lida, deve-se adicionar a palavra em uma lista. Ao final do código deve-se retornar a lista criada contendo todas as palavras. Lembre-se de remover o \\n```**.\n",
    "\n",
    "    def carregar_arquivo(nome_arquivo):\n"
   ]
  },
  {
   "cell_type": "code",
   "execution_count": null,
   "metadata": {
    "collapsed": false
   },
   "outputs": [],
   "source": [
    "def carregar_arquivo(nome_arquivo):\n",
    "    # Seu codigo aqui"
   ]
  },
  {
   "cell_type": "code",
   "execution_count": null,
   "metadata": {
    "collapsed": false
   },
   "outputs": [],
   "source": [
    "dados = carregar_arquivo('dados.txt')\n",
    "print(dados)"
   ]
  },
  {
   "cell_type": "markdown",
   "metadata": {},
   "source": [
    "**```2 - Crie uma função chamada remover_repetidos. Essa função deve receber uma lista como parâmetro. Deve-se remover todos as palavras repetidas. Utilize uma lista auxiliar para facilitar. Ao final retorne a lista.```**\n",
    "\n",
    "    def remover_repetidos(dados):"
   ]
  },
  {
   "cell_type": "code",
   "execution_count": null,
   "metadata": {
    "collapsed": true
   },
   "outputs": [],
   "source": [
    "def remover_repetidos(dados):  \n",
    "    # Seu código aqui"
   ]
  },
  {
   "cell_type": "code",
   "execution_count": null,
   "metadata": {
    "collapsed": false
   },
   "outputs": [],
   "source": [
    "dados_unicos = remover_repetidos(dados)\n",
    "print(dados_unicos)"
   ]
  },
  {
   "cell_type": "markdown",
   "metadata": {},
   "source": [
    "**```3 - Agora, crie uma função chamada ```verificar_repetidos```. Essa função irá receber duas lista como parâmetro. Uma com todas as palavras lidas do arquivo e outra sem as palavras repetidas. Verifique a quantidade de vezes que as palavras aparecem. Ao final imprima a lista de palavras e a quantidade de vezes de cada palavra.```**\n",
    "\n",
    "    def verificar_repetidos(dados, dados_unicos):\n",
    "\n",
    "Exemplo de saída:\n",
    "\n",
    "    carro – 10\n",
    "    fia - 8\n",
    "    big data - 5\n"
   ]
  },
  {
   "cell_type": "code",
   "execution_count": null,
   "metadata": {
    "collapsed": true
   },
   "outputs": [],
   "source": [
    "def verificar_repetidos(dados, dados_unicos):\n",
    "    # Seu código aqui"
   ]
  },
  {
   "cell_type": "code",
   "execution_count": null,
   "metadata": {
    "collapsed": false
   },
   "outputs": [],
   "source": [
    "verificar_repetidos(dados, dados_unicos)"
   ]
  },
  {
   "cell_type": "markdown",
   "metadata": {},
   "source": [
    "**```4 - Modifique a classe pessoa vista em aula:```**\n",
    "\n",
    "    a) Crie um método para calcular a idade em meses, chamado calcular_meses.\n",
    "    b) Instancie a classe com os seguintes argumentos\n",
    "        Nome: 'João Silva'\n",
    "        Idade: 42\n",
    "    c) Imprima a seguinte frase:\n",
    "        \"Y tem X meses de vida\", onde Y é o nome e X é o calculo da idade em meses.\n"
   ]
  },
  {
   "cell_type": "code",
   "execution_count": null,
   "metadata": {
    "collapsed": true
   },
   "outputs": [],
   "source": [
    "class Pessoa(object):\n",
    "    pass"
   ]
  },
  {
   "cell_type": "code",
   "execution_count": null,
   "metadata": {
    "collapsed": true
   },
   "outputs": [],
   "source": [
    "# Resposta a)\n"
   ]
  },
  {
   "cell_type": "code",
   "execution_count": null,
   "metadata": {
    "collapsed": true
   },
   "outputs": [],
   "source": [
    "# Resposta b)\n"
   ]
  },
  {
   "cell_type": "code",
   "execution_count": null,
   "metadata": {
    "collapsed": false
   },
   "outputs": [],
   "source": [
    "# Resposta c)\n"
   ]
  },
  {
   "cell_type": "markdown",
   "metadata": {},
   "source": [
    "**```5 - Crie uma classe que modele um quadrado:```**\n",
    "\n",
    "    Atributo privado: tamanho do lado (__tam_lado)\n",
    "    Comportamentos:\n",
    "        - Mudar valor do lado;\n",
    "        - Retornar valor do lado; e\n",
    "        - Calcular área;\n",
    "    a) Instancie a classe com o valor de 4.\n",
    "    b) Modifique o valor do lado para 8.\n",
    "    c) Imprima a área calculada.\n",
    "    \n",
    "Lembre-se do ```getter``` e ```setter```.\n"
   ]
  },
  {
   "cell_type": "code",
   "execution_count": null,
   "metadata": {
    "collapsed": true
   },
   "outputs": [],
   "source": [
    "class Quadrado(object):\n",
    "    pass      \n",
    "        "
   ]
  },
  {
   "cell_type": "code",
   "execution_count": null,
   "metadata": {
    "collapsed": false
   },
   "outputs": [],
   "source": [
    "# Resposta a)\n"
   ]
  },
  {
   "cell_type": "code",
   "execution_count": null,
   "metadata": {
    "collapsed": true
   },
   "outputs": [],
   "source": [
    "# Resposta b)\n"
   ]
  },
  {
   "cell_type": "code",
   "execution_count": null,
   "metadata": {
    "collapsed": false
   },
   "outputs": [],
   "source": [
    "# Resposta c)\n"
   ]
  }
 ],
 "metadata": {
  "kernelspec": {
   "display_name": "Python 3",
   "language": "python",
   "name": "python3"
  },
  "language_info": {
   "codemirror_mode": {
    "name": "ipython",
    "version": 3
   },
   "file_extension": ".py",
   "mimetype": "text/x-python",
   "name": "python",
   "nbconvert_exporter": "python",
   "pygments_lexer": "ipython3",
   "version": "3.5.1"
  }
 },
 "nbformat": 4,
 "nbformat_minor": 0
}
