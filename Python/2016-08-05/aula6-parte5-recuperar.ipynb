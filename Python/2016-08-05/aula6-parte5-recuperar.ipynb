{
 "cells": [
  {
   "cell_type": "markdown",
   "metadata": {},
   "source": [
    "# Recuperar posts\n",
    "\n",
    "Segundo a Graph API v2.3, podemos recuperar:\n",
    "\n",
    "* ```/{user-id}/home``` - Retorna o fluxo de todos os posts criados pelo usuário e seus amigos. O que normalmente se encontra no Feed de Noticia.\n",
    "\n",
    "\n",
    "* ```/{user-id}/feed``` – inclui tudo que você vê no seu perfil (links compartilhados, checkins, fotos, atualização de status, além de incluir posts criados por amigos no perfil do usuário.\n",
    "\n",
    "\n",
    "* ```/{user-id}/statuses``` – Retorna apenas a atualização de status postado pelo usuário em seu próprio perfil\n",
    "\n",
    "\n",
    "* ```/{user-id}/posts``` – retorna os posts criados pelo usuário no seu próprio mural ou nos dos amigos, e pode incluir qualquer conteúdo como links compartilhados, checkins, fotos e atualização de status.\n",
    "\n",
    "\n"
   ]
  },
  {
   "cell_type": "code",
   "execution_count": 1,
   "metadata": {
    "collapsed": false
   },
   "outputs": [],
   "source": [
    "import facebook"
   ]
  },
  {
   "cell_type": "code",
   "execution_count": 2,
   "metadata": {
    "collapsed": true
   },
   "outputs": [],
   "source": [
    "import simplejson as json"
   ]
  },
  {
   "cell_type": "code",
   "execution_count": 3,
   "metadata": {
    "collapsed": true
   },
   "outputs": [],
   "source": [
    "import requests"
   ]
  },
  {
   "cell_type": "markdown",
   "metadata": {},
   "source": [
    "O módulo requests é utilizado para fazer requisições HTTP, ele será útil para que possamos requisitar novas páginas com conteúdo do Facebook.\n",
    "\n",
    "Ele funciona da seguinte maneira:"
   ]
  },
  {
   "cell_type": "code",
   "execution_count": 4,
   "metadata": {
    "collapsed": true
   },
   "outputs": [],
   "source": [
    "req = requests.get('http://python.org')"
   ]
  },
  {
   "cell_type": "code",
   "execution_count": 5,
   "metadata": {
    "collapsed": false
   },
   "outputs": [
    {
     "data": {
      "text/plain": [
       "200"
      ]
     },
     "execution_count": 5,
     "metadata": {},
     "output_type": "execute_result"
    }
   ],
   "source": [
    "req.status_code # Se o código for 200, a requisição foi realizada."
   ]
  },
  {
   "cell_type": "code",
   "execution_count": 6,
   "metadata": {
    "collapsed": false
   },
   "outputs": [],
   "source": [
    "#req.text"
   ]
  },
  {
   "cell_type": "code",
   "execution_count": 7,
   "metadata": {
    "collapsed": false
   },
   "outputs": [
    {
     "data": {
      "text/plain": [
       "True"
      ]
     },
     "execution_count": 7,
     "metadata": {},
     "output_type": "execute_result"
    }
   ],
   "source": [
    "'Python' in req.text"
   ]
  },
  {
   "cell_type": "code",
   "execution_count": 8,
   "metadata": {
    "collapsed": true
   },
   "outputs": [],
   "source": [
    "req.close()"
   ]
  },
  {
   "cell_type": "markdown",
   "metadata": {},
   "source": [
    "## 'me/feed'\n",
    "\n",
    "Inclui tudo que você vê no seu perfil (links compartilhados, checkins, fotos, atualização de status, além de incluir posts criados por amigos no perfil do usuário."
   ]
  },
  {
   "cell_type": "code",
   "execution_count": 9,
   "metadata": {
    "collapsed": true
   },
   "outputs": [],
   "source": [
    "import facebook\n",
    "access_token = 'EAACEdEose0cBAAFGsk2U0Jo1Kn9GZCWuXoMwflMusq2ajIqwcF3VU9vEp2M8y5ZB3stHJ5AAShfQvL72JYV8zGQXGvN5996EXDn9FV2DJvS8FTflaak0UuC6ZAm5HPjI2gsLRVEzdYlftGL93ZBWNVJuWzRnENYY7a3dpALP0AZDZD'"
   ]
  },
  {
   "cell_type": "code",
   "execution_count": 10,
   "metadata": {
    "collapsed": false
   },
   "outputs": [],
   "source": [
    "api = facebook.GraphAPI(access_token, version='2.3')"
   ]
  },
  {
   "cell_type": "code",
   "execution_count": 11,
   "metadata": {
    "collapsed": false
   },
   "outputs": [],
   "source": [
    "noticias = api.get_object('me/feed')"
   ]
  },
  {
   "cell_type": "code",
   "execution_count": 12,
   "metadata": {
    "collapsed": false
   },
   "outputs": [],
   "source": [
    "#print(json.dumps(noticias, indent=4))"
   ]
  },
  {
   "cell_type": "code",
   "execution_count": 13,
   "metadata": {
    "collapsed": false
   },
   "outputs": [
    {
     "name": "stdout",
     "output_type": "stream",
     "text": [
      "0 ---> Dino Magri shared a link.\n",
      "2 ---> Dino Magri shared a link.\n",
      "5 ---> Dino Magri shared a link.\n",
      "7 ---> Dino Magri shared a link.\n",
      "17 ---> Dino Magri shared a link.\n",
      "18 ---> Dino Magri shared a link.\n",
      "21 ---> Dino Magri added a new photo.\n",
      "22 ---> Dino Magri added a life event: Started Working at CCG: Centro de Computação Gráfica.\n",
      "23 ---> Dino Magri added a life event: Started Working at Informant - Sonhe alto.\n",
      "24 ---> Dino Magri added a life event: Started Working at LARC - USP.\n"
     ]
    }
   ],
   "source": [
    "for item in range(0, len(noticias['data'])):\n",
    "    try:\n",
    "        print(item, '--->', noticias['data'][item]['story'])\n",
    "    except:\n",
    "        pass"
   ]
  },
  {
   "cell_type": "code",
   "execution_count": 14,
   "metadata": {
    "collapsed": false
   },
   "outputs": [
    {
     "name": "stdout",
     "output_type": "stream",
     "text": [
      "0 ---> Dino Magri shared a link.\n",
      "2 ---> Dino Magri shared a link.\n",
      "5 ---> Dino Magri shared a link.\n",
      "7 ---> Dino Magri shared a link.\n",
      "17 ---> Dino Magri shared a link.\n",
      "18 ---> Dino Magri shared a link.\n",
      "21 ---> Dino Magri added a new photo.\n",
      "22 ---> Dino Magri added a life event: Started Working at CCG: Centro de Computação Gráfica.\n",
      "23 ---> Dino Magri added a life event: Started Working at Informant - Sonhe alto.\n",
      "24 ---> Dino Magri added a life event: Started Working at LARC - USP.\n",
      "0 ---> Dino Magri added a life event: Started School at Colégio Puríssimo Coração de Maria.\n",
      "1 ---> Dino Magri added a life event: Started School at Udesc Joinville.\n",
      "2 ---> Dino Magri updated his cover photo.\n",
      "3 ---> Dino Magri updated his profile picture.\n",
      "4 ---> Dino Magri added a life event from January 11, 1998: Born on January 11, 1998.\n",
      "'paging'\n"
     ]
    }
   ],
   "source": [
    "noticias = api.get_object('me/feed')\n",
    "while True:\n",
    "    try:\n",
    "        for item in range(0, len(noticias['data'])):\n",
    "            try:\n",
    "                print(item, '--->', noticias['data'][item]['story'])\n",
    "            except:\n",
    "                pass\n",
    "        noticias = requests.get(noticias['paging']['next']).json()\n",
    "    except Exception as e:\n",
    "        print(e)\n",
    "        break\n",
    "        "
   ]
  },
  {
   "cell_type": "markdown",
   "metadata": {},
   "source": [
    "**Exercicio 2 - Altere o programa da aula6-parte5-recuperar ('me/feed') e imprima, além do histórico, o nome, tipo e a hora da criação.**\n",
    "    - story\n",
    "    - name\n",
    "    - type\n",
    "    - created_time \n"
   ]
  },
  {
   "cell_type": "markdown",
   "metadata": {},
   "source": [
    "## 'me/home'\n",
    "\n",
    "Retorna o fluxo de todos os posts criados pelo usuário e seus amigos. O que normalmente se encontra no Feed de Noticia."
   ]
  },
  {
   "cell_type": "code",
   "execution_count": 15,
   "metadata": {
    "collapsed": false
   },
   "outputs": [],
   "source": [
    "feed_noticias = api.get_object('me/home')"
   ]
  },
  {
   "cell_type": "code",
   "execution_count": 16,
   "metadata": {
    "collapsed": false
   },
   "outputs": [
    {
     "data": {
      "text/plain": [
       "25"
      ]
     },
     "execution_count": 16,
     "metadata": {},
     "output_type": "execute_result"
    }
   ],
   "source": [
    "len(feed_noticias['data'])"
   ]
  },
  {
   "cell_type": "code",
   "execution_count": 17,
   "metadata": {
    "collapsed": false
   },
   "outputs": [
    {
     "name": "stdout",
     "output_type": "stream",
     "text": [
      "0 ----> Rio Olympics: Sensors, big data to be the next revolution\n",
      "1 ----> Starting a Blog in 2016? 10 Facts You Need to Know First\n",
      "2 ----> Tracking the 2016 Presidential Money Race\n",
      "3 ----> PKpacheco/comunidades-python-latam\n",
      "6 ----> Useful Scraping Techniques | NPR Visuals\n",
      "7 ----> The White House requested input on artificial intelligence, and IBM’s response is a great AI 101\n",
      "8 ----> MBA Big Data\n",
      "9 ----> Google Joins New SDN/NFV Open Source Networking Project -- Virtualization Review\n",
      "10 ----> The Making of a Data Scientist\n",
      "12 ----> Store and read data between dictionary and text file in python\n",
      "13 ----> Sprout Social Photos\n",
      "14 ----> What Cost is each State Obsessed with\n",
      "15 ----> 8 reasons LinuxCon is a must-attend event\n",
      "17 ----> Big Data Hadoop Interview Questions and Answers's cover photo\n",
      "18 ----> Sprout Social Photos\n",
      "19 ----> Percentage of Renewable Energy by Country\n",
      "20 ----> Open Source OVN to Offer Solid Virtual Networking For OpenStack\n",
      "21 ----> Introducing BigInsights for Apache Hadoop Basic Plan on Bluemix\n",
      "23 ----> IBM Watson is helping underfunded Rio Olympics cyclists go for gold | The Memo\n",
      "24 ----> Sprout Social Photos\n"
     ]
    }
   ],
   "source": [
    "for item in range(0, len(feed_noticias['data'])):\n",
    "    try:\n",
    "        print(item, '---->', feed_noticias['data'][item]['name'])\n",
    "    except:\n",
    "        pass"
   ]
  },
  {
   "cell_type": "code",
   "execution_count": 18,
   "metadata": {
    "collapsed": false
   },
   "outputs": [
    {
     "data": {
      "text/plain": [
       "dict_keys(['created_time', 'is_expired', 'id', 'story_tags', 'updated_time', 'description', 'application', 'status_type', 'name', 'icon', 'from', 'is_hidden', 'type', 'likes', 'shares', 'caption', 'privacy', 'story', 'picture', 'actions', 'link'])"
      ]
     },
     "execution_count": 18,
     "metadata": {},
     "output_type": "execute_result"
    }
   ],
   "source": [
    "feed_noticias['data'][1].keys()"
   ]
  },
  {
   "cell_type": "code",
   "execution_count": 19,
   "metadata": {
    "collapsed": false
   },
   "outputs": [
    {
     "data": {
      "text/plain": [
       "'link'"
      ]
     },
     "execution_count": 19,
     "metadata": {},
     "output_type": "execute_result"
    }
   ],
   "source": [
    "feed_noticias['data'][1]['type']"
   ]
  },
  {
   "cell_type": "code",
   "execution_count": 20,
   "metadata": {
    "collapsed": false
   },
   "outputs": [
    {
     "data": {
      "text/plain": [
       "'Starting a Blog in 2016? 10 Facts You Need to Know First'"
      ]
     },
     "execution_count": 20,
     "metadata": {},
     "output_type": "execute_result"
    }
   ],
   "source": [
    "feed_noticias['data'][1]['name']"
   ]
  },
  {
   "cell_type": "code",
   "execution_count": 21,
   "metadata": {
    "collapsed": false
   },
   "outputs": [],
   "source": [
    "#feed_noticias['data'][1]['application']"
   ]
  },
  {
   "cell_type": "code",
   "execution_count": 22,
   "metadata": {
    "collapsed": false
   },
   "outputs": [
    {
     "data": {
      "text/plain": [
       "'2016-08-04T00:45:14+0000'"
      ]
     },
     "execution_count": 22,
     "metadata": {},
     "output_type": "execute_result"
    }
   ],
   "source": [
    "feed_noticias['data'][1]['updated_time']"
   ]
  },
  {
   "cell_type": "code",
   "execution_count": 23,
   "metadata": {
    "collapsed": false
   },
   "outputs": [
    {
     "data": {
      "text/plain": [
       "'2016-08-04T00:45:14+0000'"
      ]
     },
     "execution_count": 23,
     "metadata": {},
     "output_type": "execute_result"
    }
   ],
   "source": [
    "feed_noticias['data'][1]['created_time']"
   ]
  },
  {
   "cell_type": "code",
   "execution_count": 24,
   "metadata": {
    "collapsed": false
   },
   "outputs": [],
   "source": [
    "# feed_noticias['data'][1]['comments']"
   ]
  },
  {
   "cell_type": "code",
   "execution_count": 25,
   "metadata": {
    "collapsed": false
   },
   "outputs": [
    {
     "data": {
      "text/plain": [
       "{'data': [{'id': '1187147247991781', 'name': 'ต้า แมวเหมียว'},\n",
       "  {'id': '302423610092357', 'name': 'Michel Arents'},\n",
       "  {'id': '294298467422804', 'name': 'Barbara Mirorakonto'},\n",
       "  {'id': '251638271875177', 'name': 'Antonio Pecli'},\n",
       "  {'id': '10204213570193016', 'name': 'Nilda Castillo Camacho'},\n",
       "  {'id': '10152218663191943', 'name': 'Haitao Jiang'},\n",
       "  {'id': '460936354010015', 'name': 'Leynner Roque'},\n",
       "  {'id': '10206565317243068', 'name': 'Emerson Moreira'},\n",
       "  {'id': '117772705280449', 'name': 'Ajmad Abbasi'},\n",
       "  {'id': '724184534321685', 'name': 'Hamzah Abdullah'},\n",
       "  {'id': '10103700579855137', 'name': 'Gilbert Doan'},\n",
       "  {'id': '10152875126269349', 'name': 'Yuppier Nguyen'},\n",
       "  {'id': '10152450434701585', 'name': 'Davide Bennato'},\n",
       "  {'id': '911828858844802', 'name': 'Ivett Kovács'},\n",
       "  {'id': '10153995942890177', 'name': 'Harsha Srivatsa'},\n",
       "  {'id': '760692217337437', 'name': 'Sasikala Senthilnathan'},\n",
       "  {'id': '367974000034745', 'name': 'Valery Podymov'},\n",
       "  {'id': '10152218895459079', 'name': 'G J Camargo Gamboa'},\n",
       "  {'id': '1518973238357915', 'name': 'Huynh Ngoc Phu'}],\n",
       " 'paging': {'cursors': {'after': 'MTUxODk3MzIzODM1NzkxNQZDZD',\n",
       "   'before': 'MTE4NzE0NzI0Nzk5MTc4MQZDZD'}}}"
      ]
     },
     "execution_count": 25,
     "metadata": {},
     "output_type": "execute_result"
    }
   ],
   "source": [
    "feed_noticias['data'][1]['likes']"
   ]
  },
  {
   "cell_type": "markdown",
   "metadata": {},
   "source": [
    "Note que só retornamos 25 resultados, porém nosso feed de notícias tem muita informação ainda para ser recuperada!\n",
    "\n",
    "Não temos um parâmetro específico que podemos informar quantos items queremos, portanto temos que criar mecanismos para parar a captura dos dados."
   ]
  },
  {
   "cell_type": "code",
   "execution_count": 26,
   "metadata": {
    "collapsed": false
   },
   "outputs": [
    {
     "data": {
      "text/plain": [
       "{'cursors': {'after': 'MTQ3MDI5MzAzNzoxNDcwMjkzMDM3OjI6LTc3OTYxODg1NDA1OTI3NjY2ODE6MTQ3MDI3NzYyNDow',\n",
       "  'before': 'MTQ3MDM2MTMzNzoxNDcwMzYxMzM3OjE6NDg0ODQyNjk5MDA0Nzc2MjUwOjE0NzAzMjgxNDU6MA=='},\n",
       " 'next': 'https://graph.facebook.com/v2.3/114873192193820/home?access_token=EAACEdEose0cBAAFGsk2U0Jo1Kn9GZCWuXoMwflMusq2ajIqwcF3VU9vEp2M8y5ZB3stHJ5AAShfQvL72JYV8zGQXGvN5996EXDn9FV2DJvS8FTflaak0UuC6ZAm5HPjI2gsLRVEzdYlftGL93ZBWNVJuWzRnENYY7a3dpALP0AZDZD&limit=25&after=MTQ3MDI5MzAzNzoxNDcwMjkzMDM3OjI6LTc3OTYxODg1NDA1OTI3NjY2ODE6MTQ3MDI3NzYyNDow'}"
      ]
     },
     "execution_count": 26,
     "metadata": {},
     "output_type": "execute_result"
    }
   ],
   "source": [
    "feed_noticias['paging']"
   ]
  },
  {
   "cell_type": "markdown",
   "metadata": {},
   "source": [
    "Da mesma forma que foi feito anteriormente, podemos requisitar a próxima página até que atinja a quantidade desejada.\n",
    "\n",
    "**<p style=\"color: red\">É importante notar que no meu caso, tenho poucas conexões, desta forma a quantidade de dados é bem inferior se comparado ao facebook de uma pessoa que usa ativamente!!!!</p>**"
   ]
  },
  {
   "cell_type": "markdown",
   "metadata": {},
   "source": [
    "### Bônus - Lista de Amigos"
   ]
  },
  {
   "cell_type": "markdown",
   "metadata": {},
   "source": [
    "Também podemos recuperar as conexões, como por exemplo, uma lista de amigos."
   ]
  },
  {
   "cell_type": "code",
   "execution_count": 34,
   "metadata": {
    "collapsed": false
   },
   "outputs": [],
   "source": [
    "access_token = 'EAACEdEose0cBANbSsjf7TIxMNSvoGZCOZCa2Nbfjso2ZAQwKCrmotS5wEXPZCNvHx7zxqLU30Mn5J9cJdtTDJtALuSfn4mSSmCuASZAPTQy2DE3LSeboUzfZCzTIvJPrcR1E4ScwKyDAPN2mOPx1hNwfKPyYdikzGc32tauaKGMQZDZD'"
   ]
  },
  {
   "cell_type": "code",
   "execution_count": 35,
   "metadata": {
    "collapsed": false
   },
   "outputs": [],
   "source": [
    "amigos = api.get_connections(\"me\", \"friends\")\n",
    "todos_amigos = []"
   ]
  },
  {
   "cell_type": "code",
   "execution_count": 36,
   "metadata": {
    "collapsed": false
   },
   "outputs": [
    {
     "name": "stdout",
     "output_type": "stream",
     "text": [
      "['Dino Magri']\n"
     ]
    }
   ],
   "source": [
    "while True:\n",
    "    try:\n",
    "        for amigo in amigos['data']:\n",
    "            todos_amigos.append(amigo['name'])\n",
    "        amigos = requests.get(amigos['paging']['next']).json()\n",
    "    except KeyError:\n",
    "        break\n",
    "print(todos_amigos)"
   ]
  }
 ],
 "metadata": {
  "kernelspec": {
   "display_name": "Python 3",
   "language": "python",
   "name": "python3"
  },
  "language_info": {
   "codemirror_mode": {
    "name": "ipython",
    "version": 3
   },
   "file_extension": ".py",
   "mimetype": "text/x-python",
   "name": "python",
   "nbconvert_exporter": "python",
   "pygments_lexer": "ipython3",
   "version": "3.5.1"
  }
 },
 "nbformat": 4,
 "nbformat_minor": 0
}
