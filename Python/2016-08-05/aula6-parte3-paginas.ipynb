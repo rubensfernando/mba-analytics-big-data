{
 "cells": [
  {
   "cell_type": "markdown",
   "metadata": {},
   "source": [
    "# Postar em uma página específica"
   ]
  },
  {
   "cell_type": "code",
   "execution_count": 1,
   "metadata": {
    "collapsed": true
   },
   "outputs": [],
   "source": [
    "import facebook"
   ]
  },
  {
   "cell_type": "code",
   "execution_count": 2,
   "metadata": {
    "collapsed": true
   },
   "outputs": [],
   "source": [
    "access_token = 'EAACUzLmOZC7kBAODqMlhUdJXEtRJJoDWKJMCC32vC1cd9ou4FBrQNUT1pNxHJZBXZBmCl0dwSNPDl6w3YhjI6DLLwquy9AbWCZAlky2ZCiQRboCJkiuiITS8iZAZALVYZAlQP9d1W47s0j60rYeFk94ctCqrZAxST93KxGZBS5L4cRrgZDZD'"
   ]
  },
  {
   "cell_type": "code",
   "execution_count": 3,
   "metadata": {
    "collapsed": true
   },
   "outputs": [],
   "source": [
    "api = facebook.GraphAPI(access_token)"
   ]
  },
  {
   "cell_type": "code",
   "execution_count": 4,
   "metadata": {
    "collapsed": false
   },
   "outputs": [
    {
     "data": {
      "text/plain": [
       "{'id': '1625524341063166', 'name': 'Aulas Python - FIA'}"
      ]
     },
     "execution_count": 4,
     "metadata": {},
     "output_type": "execute_result"
    }
   ],
   "source": [
    "api.get_object('aulaspythonfia')"
   ]
  },
  {
   "cell_type": "code",
   "execution_count": 5,
   "metadata": {
    "collapsed": false
   },
   "outputs": [
    {
     "name": "stdout",
     "output_type": "stream",
     "text": [
      "1625524341063166\n"
     ]
    }
   ],
   "source": [
    "id_pagina = api.get_object('aulaspythonfia')['id']\n",
    "print(id_pagina)"
   ]
  },
  {
   "cell_type": "code",
   "execution_count": 6,
   "metadata": {
    "collapsed": false
   },
   "outputs": [
    {
     "data": {
      "text/plain": [
       "{'id': '1625524341063166_1761908567424742'}"
      ]
     },
     "execution_count": 6,
     "metadata": {},
     "output_type": "execute_result"
    }
   ],
   "source": [
    "api.put_object(id_pagina, \"feed\", message=\"Olá Mundo!\")"
   ]
  },
  {
   "cell_type": "code",
   "execution_count": 7,
   "metadata": {
    "collapsed": false
   },
   "outputs": [
    {
     "data": {
      "text/plain": [
       "{'id': '1625524341063166_1761908744091391'}"
      ]
     },
     "execution_count": 7,
     "metadata": {},
     "output_type": "execute_result"
    }
   ],
   "source": [
    "api.put_object(\"aulaspythonfia\", \"feed\", message=\"Hello, world\")"
   ]
  },
  {
   "cell_type": "markdown",
   "metadata": {},
   "source": [
    "### Postando no feed da página\n"
   ]
  },
  {
   "cell_type": "code",
   "execution_count": 8,
   "metadata": {
    "collapsed": true
   },
   "outputs": [],
   "source": [
    "import simplejson as json"
   ]
  },
  {
   "cell_type": "code",
   "execution_count": 9,
   "metadata": {
    "collapsed": false
   },
   "outputs": [],
   "source": [
    "paginas = api.get_object('me/accounts')"
   ]
  },
  {
   "cell_type": "code",
   "execution_count": 10,
   "metadata": {
    "collapsed": false
   },
   "outputs": [],
   "source": [
    "decodificar = json.dumps(paginas, sort_keys=True, indent=4)"
   ]
  },
  {
   "cell_type": "code",
   "execution_count": 11,
   "metadata": {
    "collapsed": false
   },
   "outputs": [
    {
     "name": "stdout",
     "output_type": "stream",
     "text": [
      "{\n",
      "    \"data\": [\n",
      "        {\n",
      "            \"access_token\": \"EAACUzLmOZC7kBANXdUbWPueNWi1TH4L6w7yimUsdyUNWzGVPH7JQFyZCZCZCZCRr5yDMCzqjl0DzrZCx6cwdKEwyh9NnYwz8tNtiwYOW0y0JhhMLqtjowwuZCyAL0twbNN8m8jsbgISRkMpY1VCbyOxYr9QZBieZBw9VUJRsntSago57VhTRmsOU4\",\n",
      "            \"category\": \"Education\",\n",
      "            \"id\": \"1625524341063166\",\n",
      "            \"name\": \"Aulas Python - FIA\",\n",
      "            \"perms\": [\n",
      "                \"ADMINISTER\",\n",
      "                \"EDIT_PROFILE\",\n",
      "                \"CREATE_CONTENT\",\n",
      "                \"MODERATE_CONTENT\",\n",
      "                \"CREATE_ADS\",\n",
      "                \"BASIC_ADMIN\"\n",
      "            ]\n",
      "        },\n",
      "        {\n",
      "            \"access_token\": \"EAACUzLmOZC7kBAAU6xjBg66PtRXqwsE6T6MUa06S3irNdMEzZCyDIaC6y1ne8ZA85Qr1bfncsw2UQB6RZAbgQrKkxlD5g0tq3ZBFTLrNFtgZAxCdIpCXBHgsZCS7v3ZBEBKRZAZAuYZCk3THXAD5bj4eXhm3xMpqbgHjufOQApDqJZAtXbr1tWjzjiin\",\n",
      "            \"category\": \"Book Series\",\n",
      "            \"id\": \"1675657189312530\",\n",
      "            \"name\": \"Series sobre Livros legais\",\n",
      "            \"perms\": [\n",
      "                \"ADMINISTER\",\n",
      "                \"EDIT_PROFILE\",\n",
      "                \"CREATE_CONTENT\",\n",
      "                \"MODERATE_CONTENT\",\n",
      "                \"CREATE_ADS\",\n",
      "                \"BASIC_ADMIN\"\n",
      "            ]\n",
      "        }\n",
      "    ],\n",
      "    \"paging\": {\n",
      "        \"cursors\": {\n",
      "            \"after\": \"MTY3NTY1NzE4OTMxMjUzMAZDZD\",\n",
      "            \"before\": \"MTYyNTUyNDM0MTA2MzE2NgZDZD\"\n",
      "        }\n",
      "    }\n",
      "}\n"
     ]
    }
   ],
   "source": [
    "print(decodificar)"
   ]
  },
  {
   "cell_type": "markdown",
   "metadata": {},
   "source": [
    "Agora precisamos iterar sobre os dados retornados e recuperar o token de acesso da página existente:"
   ]
  },
  {
   "cell_type": "code",
   "execution_count": 12,
   "metadata": {
    "collapsed": true
   },
   "outputs": [],
   "source": [
    "for pagina in paginas['data']:\n",
    "    if pagina['id'] == id_pagina:\n",
    "        pagina_token_acesso = pagina['access_token']"
   ]
  },
  {
   "cell_type": "code",
   "execution_count": 13,
   "metadata": {
    "collapsed": false
   },
   "outputs": [
    {
     "name": "stdout",
     "output_type": "stream",
     "text": [
      "EAACUzLmOZC7kBANXdUbWPueNWi1TH4L6w7yimUsdyUNWzGVPH7JQFyZCZCZCZCRr5yDMCzqjl0DzrZCx6cwdKEwyh9NnYwz8tNtiwYOW0y0JhhMLqtjowwuZCyAL0twbNN8m8jsbgISRkMpY1VCbyOxYr9QZBieZBw9VUJRsntSago57VhTRmsOU4\n"
     ]
    }
   ],
   "source": [
    "print(pagina_token_acesso)"
   ]
  },
  {
   "cell_type": "code",
   "execution_count": 14,
   "metadata": {
    "collapsed": false
   },
   "outputs": [],
   "source": [
    "mensagem = 'Python Rocks!!!!'\n",
    "post_pagina = facebook.GraphAPI(pagina_token_acesso)"
   ]
  },
  {
   "cell_type": "code",
   "execution_count": 15,
   "metadata": {
    "collapsed": false
   },
   "outputs": [
    {
     "data": {
      "text/plain": [
       "{'id': '1625524341063166_1761908900758042'}"
      ]
     },
     "execution_count": 15,
     "metadata": {},
     "output_type": "execute_result"
    }
   ],
   "source": [
    "post_pagina.put_wall_post(mensagem)"
   ]
  },
  {
   "cell_type": "code",
   "execution_count": null,
   "metadata": {
    "collapsed": true
   },
   "outputs": [],
   "source": []
  }
 ],
 "metadata": {
  "kernelspec": {
   "display_name": "Python 3",
   "language": "python",
   "name": "python3"
  },
  "language_info": {
   "codemirror_mode": {
    "name": "ipython",
    "version": 3
   },
   "file_extension": ".py",
   "mimetype": "text/x-python",
   "name": "python",
   "nbconvert_exporter": "python",
   "pygments_lexer": "ipython3",
   "version": "3.5.1"
  }
 },
 "nbformat": 4,
 "nbformat_minor": 0
}
