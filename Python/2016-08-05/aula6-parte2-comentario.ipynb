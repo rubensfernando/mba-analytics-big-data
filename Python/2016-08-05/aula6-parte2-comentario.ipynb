{
 "cells": [
  {
   "cell_type": "markdown",
   "metadata": {},
   "source": [
    "# Realizar uma postagem completa, comentar e curtir!\n",
    "\n",
    "## Realizar uma postagem com links, descrição e imagem"
   ]
  },
  {
   "cell_type": "code",
   "execution_count": 1,
   "metadata": {
    "collapsed": true
   },
   "outputs": [],
   "source": [
    "import facebook"
   ]
  },
  {
   "cell_type": "code",
   "execution_count": 2,
   "metadata": {
    "collapsed": true
   },
   "outputs": [],
   "source": [
    "access_token = 'EAACUzLmOZC7kBAODqMlhUdJXEtRJJoDWKJMCC32vC1cd9ou4FBrQNUT1pNxHJZBXZBmCl0dwSNPDl6w3YhjI6DLLwquy9AbWCZAlky2ZCiQRboCJkiuiITS8iZAZALVYZAlQP9d1W47s0j60rYeFk94ctCqrZAxST93KxGZBS5L4cRrgZDZD'"
   ]
  },
  {
   "cell_type": "code",
   "execution_count": 3,
   "metadata": {
    "collapsed": true
   },
   "outputs": [],
   "source": [
    "api = facebook.GraphAPI(access_token)"
   ]
  },
  {
   "cell_type": "code",
   "execution_count": 4,
   "metadata": {
    "collapsed": true
   },
   "outputs": [],
   "source": [
    "mensagem = {\n",
    "    \"name\" : \"MBA Big Data\",\n",
    "    \"link\" : \"http://www.labdata.fia.com.br\",\n",
    "    \"description\" : \"MBA - Laboratório de Análise de dados\",\n",
    "    \"picture\" : \"http://labdata.fia.com.br/categoria/imagens/MBA-Big-Data.jpg\"\n",
    "}"
   ]
  },
  {
   "cell_type": "code",
   "execution_count": 5,
   "metadata": {
    "collapsed": false
   },
   "outputs": [],
   "source": [
    "id_postagem = api.put_wall_post(message='', attachment=mensagem)"
   ]
  },
  {
   "cell_type": "code",
   "execution_count": 6,
   "metadata": {
    "collapsed": false
   },
   "outputs": [
    {
     "name": "stdout",
     "output_type": "stream",
     "text": [
      "{'id': '306405989707205_308011916213279'}\n"
     ]
    }
   ],
   "source": [
    "print(id_postagem)"
   ]
  },
  {
   "cell_type": "markdown",
   "metadata": {},
   "source": [
    "### Comentar e curtir uma publicação realizada"
   ]
  },
  {
   "cell_type": "code",
   "execution_count": 7,
   "metadata": {
    "collapsed": true
   },
   "outputs": [],
   "source": [
    "comentario = api.put_comment(object_id=id_postagem['id'], message='Ótimo curso!')"
   ]
  },
  {
   "cell_type": "code",
   "execution_count": 8,
   "metadata": {
    "collapsed": false
   },
   "outputs": [
    {
     "name": "stdout",
     "output_type": "stream",
     "text": [
      "{'id': '308011916213279_308011992879938'}\n"
     ]
    }
   ],
   "source": [
    "print(comentario)"
   ]
  },
  {
   "cell_type": "code",
   "execution_count": 9,
   "metadata": {
    "collapsed": false
   },
   "outputs": [
    {
     "name": "stdout",
     "output_type": "stream",
     "text": [
      "{'id': '308011916213279_308012012879936'}\n"
     ]
    }
   ],
   "source": [
    "respo_comentario = api.put_comment(object_id=comentario['id'], message=\"Respondendo comentário\")\n",
    "print(respo_comentario)"
   ]
  },
  {
   "cell_type": "code",
   "execution_count": 11,
   "metadata": {
    "collapsed": false
   },
   "outputs": [
    {
     "data": {
      "text/plain": [
       "{'success': True}"
      ]
     },
     "execution_count": 11,
     "metadata": {},
     "output_type": "execute_result"
    }
   ],
   "source": [
    "api.put_like(object_id=respo_comentario['id'])"
   ]
  },
  {
   "cell_type": "markdown",
   "metadata": {},
   "source": [
    "### Deletar um objeto"
   ]
  },
  {
   "cell_type": "code",
   "execution_count": 12,
   "metadata": {
    "collapsed": true
   },
   "outputs": [],
   "source": [
    "api.delete_object(respo_comentario['id'])"
   ]
  },
  {
   "cell_type": "code",
   "execution_count": null,
   "metadata": {
    "collapsed": true
   },
   "outputs": [],
   "source": []
  }
 ],
 "metadata": {
  "kernelspec": {
   "display_name": "Python 3",
   "language": "python",
   "name": "python3"
  },
  "language_info": {
   "codemirror_mode": {
    "name": "ipython",
    "version": 3
   },
   "file_extension": ".py",
   "mimetype": "text/x-python",
   "name": "python",
   "nbconvert_exporter": "python",
   "pygments_lexer": "ipython3",
   "version": "3.5.1"
  }
 },
 "nbformat": 4,
 "nbformat_minor": 0
}
