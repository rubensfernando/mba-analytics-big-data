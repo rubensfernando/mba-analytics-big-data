{
 "cells": [
  {
   "cell_type": "markdown",
   "metadata": {},
   "source": [
    "# Postar uma foto"
   ]
  },
  {
   "cell_type": "code",
   "execution_count": null,
   "metadata": {
    "collapsed": true
   },
   "outputs": [],
   "source": [
    "import facebook "
   ]
  },
  {
   "cell_type": "code",
   "execution_count": null,
   "metadata": {
    "collapsed": true
   },
   "outputs": [],
   "source": [
    "access_token = 'EAACUzLmOZC7kBAPfCPMRBG23rGoY3iQWKJMIO7ESZCp0LPZCwQQv0AoQeEtBm9IyNDi5yP2RHMGzCzjquLb4ZCWUHLZA6vY1Pp6x8oFXZA7IMissQbporZAwUoIZCuZBoOBrWQDxi8PUUZCb96uWmSwB2ZBqEIwnvZCRZBnqJjGZBQJVhl1gZDZD'"
   ]
  },
  {
   "cell_type": "code",
   "execution_count": null,
   "metadata": {
    "collapsed": true
   },
   "outputs": [],
   "source": [
    "api = facebook.GraphAPI(access_token)"
   ]
  },
  {
   "cell_type": "code",
   "execution_count": null,
   "metadata": {
    "collapsed": false
   },
   "outputs": [],
   "source": [
    "api.version"
   ]
  },
  {
   "cell_type": "code",
   "execution_count": null,
   "metadata": {
    "collapsed": true
   },
   "outputs": [],
   "source": [
    "foto = open(\"fia.jpg\", \"rb\")"
   ]
  },
  {
   "cell_type": "code",
   "execution_count": null,
   "metadata": {
    "collapsed": false
   },
   "outputs": [],
   "source": [
    "api.put_photo(foto, name=\"Logo FIA\")"
   ]
  },
  {
   "cell_type": "code",
   "execution_count": null,
   "metadata": {
    "collapsed": true
   },
   "outputs": [],
   "source": [
    "api.put_photo?"
   ]
  },
  {
   "cell_type": "markdown",
   "metadata": {},
   "source": [
    "## Postar uma foto em um Album"
   ]
  },
  {
   "cell_type": "code",
   "execution_count": null,
   "metadata": {
    "collapsed": true
   },
   "outputs": [],
   "source": [
    "import simplejson as json"
   ]
  },
  {
   "cell_type": "markdown",
   "metadata": {},
   "source": [
    "Recuperar os álbuns existentes na minha conta:"
   ]
  },
  {
   "cell_type": "code",
   "execution_count": null,
   "metadata": {
    "collapsed": false
   },
   "outputs": [],
   "source": [
    "albuns = api.get_object('me/albums')"
   ]
  },
  {
   "cell_type": "code",
   "execution_count": null,
   "metadata": {
    "collapsed": false
   },
   "outputs": [],
   "source": [
    "decodificar = json.dumps(albuns, sort_keys=True, indent=4)\n",
    "print(decodificar)"
   ]
  },
  {
   "cell_type": "code",
   "execution_count": null,
   "metadata": {
    "collapsed": false
   },
   "outputs": [],
   "source": [
    "albuns['data'][1] # Recupera o album Cursos"
   ]
  },
  {
   "cell_type": "code",
   "execution_count": null,
   "metadata": {
    "collapsed": false
   },
   "outputs": [],
   "source": [
    "#id_album = api.put_object('me', 'albums', name='FIA')\n",
    "id_album = albuns['data'][1]['id']"
   ]
  },
  {
   "cell_type": "code",
   "execution_count": null,
   "metadata": {
    "collapsed": false
   },
   "outputs": [],
   "source": [
    "api.put_photo(foto, album_path=id_album + '/photos')"
   ]
  },
  {
   "cell_type": "markdown",
   "metadata": {},
   "source": [
    "**Exercício 1 – Crie um álbum de fotos chamado Cursos. Depois adicione as 4 imagens que estão disponíveis na pasta da disciplina.**\n",
    "\n",
    "    Importante – A descrição  (name) de cada imagem deve ser o nome da imagem, sem a extensão (.jpg ou .png).\n",
    "    \n",
    "    Utilize a biblioteca embutida chamada os. Para visualizar todos os arquivos da pasta atual, utilize o método os.listdir('.'), Segue um exemplo para salvar todos os arquivos da pasta atual em uma lista.\n",
    "    \n",
    "```python\n",
    ">>> import os\n",
    ">>> arquivos = os.listdir('.')\n",
    ">>> print(arquivos)\n",
    "['.ipynb_checkpoints', 'Analise-Exploratoria.png', 'aula6-parte1.ipynb', 'aula6-parte2.ipynb', 'aula6-parte3.ipynb', 'Banner-Iot.png', 'banners_hadoop01.png', 'Extensao-Big-Data-01.jpg', 'fia.jpg', 'Untitled.ipynb', 'Untitled1.ipynb', 'Untitled2.ipynb']\n",
    "```\n"
   ]
  },
  {
   "cell_type": "code",
   "execution_count": null,
   "metadata": {
    "collapsed": true
   },
   "outputs": [],
   "source": [
    "import os"
   ]
  },
  {
   "cell_type": "code",
   "execution_count": null,
   "metadata": {
    "collapsed": true
   },
   "outputs": [],
   "source": [
    "arquivos = os.listdir('.')"
   ]
  },
  {
   "cell_type": "code",
   "execution_count": null,
   "metadata": {
    "collapsed": false
   },
   "outputs": [],
   "source": [
    "print(arquivos)"
   ]
  },
  {
   "cell_type": "code",
   "execution_count": null,
   "metadata": {
    "collapsed": true
   },
   "outputs": [],
   "source": []
  },
  {
   "cell_type": "code",
   "execution_count": null,
   "metadata": {
    "collapsed": false
   },
   "outputs": [],
   "source": []
  },
  {
   "cell_type": "code",
   "execution_count": null,
   "metadata": {
    "collapsed": true
   },
   "outputs": [],
   "source": []
  }
 ],
 "metadata": {
  "kernelspec": {
   "display_name": "Python 3",
   "language": "python",
   "name": "python3"
  },
  "language_info": {
   "codemirror_mode": {
    "name": "ipython",
    "version": 3
   },
   "file_extension": ".py",
   "mimetype": "text/x-python",
   "name": "python",
   "nbconvert_exporter": "python",
   "pygments_lexer": "ipython3",
   "version": "3.5.1"
  }
 },
 "nbformat": 4,
 "nbformat_minor": 0
}
