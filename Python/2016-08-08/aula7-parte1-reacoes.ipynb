{
 "cells": [
  {
   "cell_type": "markdown",
   "metadata": {},
   "source": [
    "# Recuperando as reações de um post"
   ]
  },
  {
   "cell_type": "code",
   "execution_count": 48,
   "metadata": {
    "collapsed": true
   },
   "outputs": [],
   "source": [
    "import requests"
   ]
  },
  {
   "cell_type": "markdown",
   "metadata": {},
   "source": [
    "Iremos definir a URL base para realizar as requisições."
   ]
  },
  {
   "cell_type": "code",
   "execution_count": 49,
   "metadata": {
    "collapsed": true
   },
   "outputs": [],
   "source": [
    "url_base = 'https://graph.facebook.com/v2.7'"
   ]
  },
  {
   "cell_type": "markdown",
   "metadata": {},
   "source": [
    "Agora, iremos utilizar um nó (post) que recuperamos na aula passada."
   ]
  },
  {
   "cell_type": "code",
   "execution_count": 50,
   "metadata": {
    "collapsed": true
   },
   "outputs": [],
   "source": [
    "id_post = '/134488303306371_1056521637769695'"
   ]
  },
  {
   "cell_type": "code",
   "execution_count": 51,
   "metadata": {
    "collapsed": true
   },
   "outputs": [],
   "source": [
    "no = id_post"
   ]
  },
  {
   "cell_type": "markdown",
   "metadata": {},
   "source": [
    "Vamos criar a parte da URL em que definimos os campos que queremos recuperar. No caso é o reactions."
   ]
  },
  {
   "cell_type": "code",
   "execution_count": 52,
   "metadata": {
    "collapsed": true
   },
   "outputs": [],
   "source": [
    "campos = '/?fields=reactions'"
   ]
  },
  {
   "cell_type": "markdown",
   "metadata": {},
   "source": [
    "Por fim, temos que criar a parte da URL que contém o token de acesso."
   ]
  },
  {
   "cell_type": "code",
   "execution_count": 58,
   "metadata": {
    "collapsed": true
   },
   "outputs": [],
   "source": [
    "access_token = '&access_token=EAACEdEose0cBAKGD4DeJpEyS5Mvf0v4VZCooTJ8KgSKOwPojIjqej9pEsC6nG4EOVD0Bi6ripn04OP9CuxZAZCqAinpBh75fYCDEalZAcXDlgbbZCyq0IZBtZCgpQZCukscpAiVJFbQs1S1f3k8SCDYw3FWxzL2HBryYrP0MGNIk9QZDZD'"
   ]
  },
  {
   "cell_type": "code",
   "execution_count": 59,
   "metadata": {
    "collapsed": false
   },
   "outputs": [
    {
     "data": {
      "text/plain": [
       "'https://graph.facebook.com/v2.7/134488303306371_1056521637769695/?fields=reactions&access_token=EAACEdEose0cBAKGD4DeJpEyS5Mvf0v4VZCooTJ8KgSKOwPojIjqej9pEsC6nG4EOVD0Bi6ripn04OP9CuxZAZCqAinpBh75fYCDEalZAcXDlgbbZCyq0IZBtZCgpQZCukscpAiVJFbQs1S1f3k8SCDYw3FWxzL2HBryYrP0MGNIk9QZDZD'"
      ]
     },
     "execution_count": 59,
     "metadata": {},
     "output_type": "execute_result"
    }
   ],
   "source": [
    "url_final = url_base+no+campos+access_token\n",
    "url_final"
   ]
  },
  {
   "cell_type": "markdown",
   "metadata": {},
   "source": [
    "Com a URL final, podemos fazer o requisição."
   ]
  },
  {
   "cell_type": "code",
   "execution_count": 60,
   "metadata": {
    "collapsed": true
   },
   "outputs": [],
   "source": [
    "req = requests.get(url_final).json()"
   ]
  },
  {
   "cell_type": "code",
   "execution_count": 61,
   "metadata": {
    "collapsed": false
   },
   "outputs": [],
   "source": [
    "import simplejson as json"
   ]
  },
  {
   "cell_type": "code",
   "execution_count": 62,
   "metadata": {
    "collapsed": false
   },
   "outputs": [
    {
     "name": "stdout",
     "output_type": "stream",
     "text": [
      "{\n",
      "  \"reactions\": {\n",
      "    \"data\": [\n",
      "      {\n",
      "        \"name\": \"Dino Magri\",\n",
      "        \"id\": \"114873192193820\",\n",
      "        \"type\": \"WOW\"\n",
      "      },\n",
      "      {\n",
      "        \"name\": \"Olya Ostasheva\",\n",
      "        \"id\": \"10153793518774056\",\n",
      "        \"type\": \"LIKE\"\n",
      "      },\n",
      "      {\n",
      "        \"name\": \"Huynh Ngoc Phu\",\n",
      "        \"id\": \"1518973238357915\",\n",
      "        \"type\": \"LIKE\"\n",
      "      },\n",
      "      {\n",
      "        \"name\": \"Anna Matevosyan\",\n",
      "        \"id\": \"677824635611754\",\n",
      "        \"type\": \"LIKE\"\n",
      "      },\n",
      "      {\n",
      "        \"name\": \"Frederic Moresmau\",\n",
      "        \"id\": \"4835889712721\",\n",
      "        \"type\": \"LIKE\"\n",
      "      }\n",
      "    ],\n",
      "    \"paging\": {\n",
      "      \"cursors\": {\n",
      "        \"before\": \"TVRBd01ERXdNVE0wTVRnMU56UTRPakUwTnpBMU5EQTNNREk2TnpnNE5qUTRNRE0zT1RFek16RXkZD\",\n",
      "        \"after\": \"TVRjMk1UQTNNRE14TURveE5EY3dOREkxTnpjeE9qSTFOREE1TmpFMk1UTT0ZD\"\n",
      "      }\n",
      "    }\n",
      "  },\n",
      "  \"id\": \"134488303306371_1056521637769695\"\n",
      "}\n"
     ]
    }
   ],
   "source": [
    "print(json.dumps(req, indent=2))"
   ]
  },
  {
   "cell_type": "markdown",
   "metadata": {},
   "source": [
    "Ótimo! Dados foram recuperados!\n",
    "\n",
    "Agora podemos realizar a contagem das reações de um determinado post."
   ]
  },
  {
   "cell_type": "code",
   "execution_count": 63,
   "metadata": {
    "collapsed": true
   },
   "outputs": [],
   "source": [
    "tipos_reacoes = ['LIKE','LOVE', 'WOW', 'HAHA', 'SAD', 'ANGRY']"
   ]
  },
  {
   "cell_type": "code",
   "execution_count": 64,
   "metadata": {
    "collapsed": true
   },
   "outputs": [],
   "source": [
    "dados = req['reactions']['data']"
   ]
  },
  {
   "cell_type": "code",
   "execution_count": 65,
   "metadata": {
    "collapsed": false
   },
   "outputs": [],
   "source": [
    "contagem = dict(zip(tipos_reacoes, [0,0,0,0,0,0]))"
   ]
  },
  {
   "cell_type": "code",
   "execution_count": 66,
   "metadata": {
    "collapsed": false
   },
   "outputs": [],
   "source": [
    "for reacao in dados:\n",
    "    contagem[reacao['type']] += 1"
   ]
  },
  {
   "cell_type": "code",
   "execution_count": 67,
   "metadata": {
    "collapsed": false
   },
   "outputs": [
    {
     "data": {
      "text/plain": [
       "{'ANGRY': 0, 'HAHA': 0, 'LIKE': 4, 'LOVE': 0, 'SAD': 0, 'WOW': 1}"
      ]
     },
     "execution_count": 67,
     "metadata": {},
     "output_type": "execute_result"
    }
   ],
   "source": [
    "contagem"
   ]
  },
  {
   "cell_type": "code",
   "execution_count": null,
   "metadata": {
    "collapsed": true
   },
   "outputs": [],
   "source": []
  }
 ],
 "metadata": {
  "kernelspec": {
   "display_name": "Python 3",
   "language": "python",
   "name": "python3"
  },
  "language_info": {
   "codemirror_mode": {
    "name": "ipython",
    "version": 3
   },
   "file_extension": ".py",
   "mimetype": "text/x-python",
   "name": "python",
   "nbconvert_exporter": "python",
   "pygments_lexer": "ipython3",
   "version": "3.5.1"
  }
 },
 "nbformat": 4,
 "nbformat_minor": 0
}
