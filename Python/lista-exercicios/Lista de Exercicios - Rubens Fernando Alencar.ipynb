{
 "cells": [
  {
   "cell_type": "markdown",
   "metadata": {},
   "source": [
    "# Lista de Exercicios - Rubens Fernando Alencar\n",
    "\n",
    "Os exercícios valem 30% da nota final.\n",
    "\n",
    "* **Data Entrega**: 18/08/2016\n",
    "\n",
    "* **Formato da Entrega**: .ipynb - Clique em File -> Download as -> IPython Notebook (.ipynb)\n",
    "\n",
    "* **Enviar por email** até a data de entrega, onde o assunto do email deve ser: *Exercícios PosMBA Turma2 - SEU NOME*\n",
    "\n",
    "O cálculo da nota final é dado por: ```NF = (lista * 0.3) + (prova * 0.7)```\n",
    "\n",
    "\n"
   ]
  },
  {
   "cell_type": "markdown",
   "metadata": {},
   "source": [
    "## Exercício 1\n",
    "\n",
    "**(0.5 ponto)** Crie uma função chamada ```soma_tres_num``` que irá receber 3 parâmetros(sendo o último com valor padrão 10) e retorne a soma desses três valores."
   ]
  },
  {
   "cell_type": "code",
   "execution_count": 1,
   "metadata": {
    "collapsed": true
   },
   "outputs": [],
   "source": [
    "def soma_tres_num(x,y,z=10):\n",
    "    return x + y + z"
   ]
  },
  {
   "cell_type": "markdown",
   "metadata": {},
   "source": [
    "Teste para as seguintes situações:"
   ]
  },
  {
   "cell_type": "code",
   "execution_count": 2,
   "metadata": {
    "collapsed": false
   },
   "outputs": [
    {
     "name": "stdout",
     "output_type": "stream",
     "text": [
      "20\n"
     ]
    }
   ],
   "source": [
    "print(soma_tres_num(0, 10))"
   ]
  },
  {
   "cell_type": "code",
   "execution_count": 3,
   "metadata": {
    "collapsed": false
   },
   "outputs": [
    {
     "name": "stdout",
     "output_type": "stream",
     "text": [
      "6\n"
     ]
    }
   ],
   "source": [
    "print(soma_tres_num(1,2,3))"
   ]
  },
  {
   "cell_type": "code",
   "execution_count": 4,
   "metadata": {
    "collapsed": false
   },
   "outputs": [
    {
     "name": "stdout",
     "output_type": "stream",
     "text": [
      "20\n"
     ]
    }
   ],
   "source": [
    "print(soma_tres_num(10, 10, 0))"
   ]
  },
  {
   "cell_type": "markdown",
   "metadata": {},
   "source": [
    "## Exercício 2\n",
    "\n",
    "**(0.5 ponto)** Crie uma função ```chamda qtde_caracteres``` que receba um parâmetro e retorne a quantidade de caracteres. Se o valor recebido pelo parâmetro não for uma String,  utilizar a função str() para converter o argumento. "
   ]
  },
  {
   "cell_type": "code",
   "execution_count": 5,
   "metadata": {
    "collapsed": true
   },
   "outputs": [],
   "source": [
    "def qtde_caracteres(entrada):\n",
    "    return len(str(entrada))"
   ]
  },
  {
   "cell_type": "markdown",
   "metadata": {},
   "source": [
    "Teste as seguintes situações:"
   ]
  },
  {
   "cell_type": "code",
   "execution_count": 6,
   "metadata": {
    "collapsed": false
   },
   "outputs": [
    {
     "name": "stdout",
     "output_type": "stream",
     "text": [
      "4\n",
      "3\n",
      "6\n",
      "14\n"
     ]
    }
   ],
   "source": [
    "print(qtde_caracteres(1234))\n",
    "print(qtde_caracteres(', -'))\n",
    "print(qtde_caracteres('python'))\n",
    "print(qtde_caracteres('fia e big data'))\n"
   ]
  },
  {
   "cell_type": "markdown",
   "metadata": {},
   "source": [
    "## Exercicío 3\n",
    "\n",
    "**(1.5 ponto)** Carregue o arquivo chamado funcionarios.txt. Esse arquivo contém nome e o salário anual de cada funcionário.\n",
    "\n",
    "    alexandre,42000\n",
    "    rose,50000\n",
    "    anderson,30000\n",
    "    antonio,60000\n",
    "    maria,120000\n",
    "    carlos,86000\n",
    "    cesar,48000\n",
    "    \n",
    "Faça os seguintes exercícios:\n",
    "\n",
    "**a)** Crie uma função chamda ```carregar_dados_dic``` que deve receber um parâmetro(no caso o arquivo funcionarios.txt) e retorne um dicionário, onde a chave será o nome e o valor será o salário anual."
   ]
  },
  {
   "cell_type": "code",
   "execution_count": 7,
   "metadata": {
    "collapsed": true
   },
   "outputs": [],
   "source": [
    "def carregar_dados_dic(arquivo):\n",
    "    # seu código aqui\n",
    "    dici = {}\n",
    "    with open(arquivo, 'r') as items:\n",
    "        for item in items:\n",
    "            itemSplit = item.split(',')\n",
    "            dici[itemSplit[0]]  = int(itemSplit[1])\n",
    "    return dici\n",
    "            \n",
    "            "
   ]
  },
  {
   "cell_type": "code",
   "execution_count": 8,
   "metadata": {
    "collapsed": false
   },
   "outputs": [],
   "source": [
    "salarios = carregar_dados_dic('funcionarios.txt')"
   ]
  },
  {
   "cell_type": "code",
   "execution_count": 9,
   "metadata": {
    "collapsed": false
   },
   "outputs": [
    {
     "name": "stdout",
     "output_type": "stream",
     "text": [
      "{'cesar': 48000, 'carlos': 86000, 'antonio': 60000, 'anderson': 30000, 'alexandre': 42000, 'maria': 120000, 'rose': 50000}\n"
     ]
    }
   ],
   "source": [
    "print(salarios)"
   ]
  },
  {
   "cell_type": "markdown",
   "metadata": {},
   "source": [
    "**b)** Crie uma função chamada ```calcular_salario_mensal``` que irá calcular quanto o funcionário ganha por mês. Verifique o tipo do campo do valor do dicionário. Utilize a função ```float()``` para converter o valor."
   ]
  },
  {
   "cell_type": "code",
   "execution_count": 10,
   "metadata": {
    "collapsed": false
   },
   "outputs": [],
   "source": [
    "def calcular_salario_mensal(salario_anual):\n",
    "    # seu código aqui\n",
    "    try:\n",
    "        mes = float(salarios[salario_anual]) / 12\n",
    "    except KeyError:\n",
    "        mes = 'Este funcionario nao existe'\n",
    "    return mes"
   ]
  },
  {
   "cell_type": "markdown",
   "metadata": {},
   "source": [
    "**c)** Por fim, imprima para cada funcionário o nome, salário anual e mensal no seguinte formato:\n",
    "\n",
    "    Rose --- R$ 50000 --- R$ 4166.66\n",
    "\n",
    "Dica: Lembre-se do .format para formatar uma string.\n",
    "Utilize a função round para arredondar para 2 casas decimais.\n",
    "\n",
    "```python\n",
    ">>> round(7166.67555, 2)\n",
    "7166.67\n",
    "```"
   ]
  },
  {
   "cell_type": "code",
   "execution_count": 11,
   "metadata": {
    "collapsed": false
   },
   "outputs": [
    {
     "name": "stdout",
     "output_type": "stream",
     "text": [
      "cesar --- R$ 48000 --- R$ 4000.0\n",
      "carlos --- R$ 86000 --- R$ 7166.67\n",
      "antonio --- R$ 60000 --- R$ 5000.0\n",
      "anderson --- R$ 30000 --- R$ 2500.0\n",
      "alexandre --- R$ 42000 --- R$ 3500.0\n",
      "maria --- R$ 120000 --- R$ 10000.0\n",
      "rose --- R$ 50000 --- R$ 4166.67\n"
     ]
    }
   ],
   "source": [
    "for people in salarios:\n",
    "    print('{} --- R$ {} --- R$ {}'.format(people, round(salarios[people],2),round(calcular_salario_mensal(people), 2)))"
   ]
  },
  {
   "cell_type": "markdown",
   "metadata": {},
   "source": [
    "## Exercício 4\n",
    "\n",
    "**(1 ponto)** Crie um programa que deve ler as informações do usuário (nome, idade e salário) através da função ```input```. É necessário validar as informações com os seguintes critérios:\n",
    "* O nome deve ter tamanho maior que 3\n",
    "* A idade deve ser entre 18 e 65\n",
    "* O salário deve ser maior que R$ 788\n",
    "\n",
    "Caso as informações não estejam nos critérios definidos anteriormente, será necessário solicitar ao usuário para digitar novamente. Por fim o programa deverá imprimir o seguinte texto:\n",
    "\n",
    "    NOME tem YY anos, recebe R$ SSS e seu nome tem CC caracteres.\n",
    "    \n",
    "Onde,\n",
    "\n",
    "* NOME deve ser substituído pelo nome digitado.\n",
    "* YY deve ser a idade\n",
    "* SSS deve ser substituído pelo valor do salário.\n",
    "* CC deve ser substituído pela quantidade de caracteres.\n",
    "\n",
    "Lembre-se de formatar o salário para duas casas decimais."
   ]
  },
  {
   "cell_type": "code",
   "execution_count": 12,
   "metadata": {
    "collapsed": false
   },
   "outputs": [
    {
     "name": "stdout",
     "output_type": "stream",
     "text": [
      "Digite o Nome: Rubens\n",
      "Digite a Idade: 22\n",
      "Digite o Salário: 1500\n",
      "Rubens tem 22 anos, recebe R$ 1500.0 e seu nome tem 6 caracteres.\n"
     ]
    }
   ],
   "source": [
    "#Tratamento do Nome\n",
    "nome = (input('Digite o Nome: '))\n",
    "validacao = 0\n",
    "while (validacao == 0):\n",
    "    if len(nome) > 3:\n",
    "        validacao = 1\n",
    "    else:\n",
    "        nome = (input('O Nome deve ter mais que 3 dígitos. Digite novamente: '))\n",
    "        \n",
    "#Tratamento da idade\n",
    "yy = (input('Digite a Idade: '))\n",
    "validacao = 0\n",
    "while (validacao == 0):\n",
    "    try:\n",
    "        newyy = int (yy)\n",
    "    except:\n",
    "        newyy = yy\n",
    "\n",
    "    if type(newyy) == int:\n",
    "        if 18 < newyy < 65:\n",
    "            validacao = 1\n",
    "        else:\n",
    "            yy = (input('A idade deve ser entre 18 e 65 anos. Digite novamente: '))\n",
    "    else:\n",
    "        yy = (input('A idade deve ser de formato inteiro. Digite novamente: '))\n",
    "\n",
    "#Tratamento do salário\n",
    "sss = (input('Digite o Salário: '))\n",
    "validacao = 0\n",
    "while (validacao == 0):\n",
    "    try:\n",
    "        newsss = round(float (sss),2)\n",
    "    except:\n",
    "        newsss = sss\n",
    "\n",
    "    if type(newsss) == float:\n",
    "        if newsss > 788:\n",
    "            validacao = 1\n",
    "        else:\n",
    "            sss = (input('O salário deve ser maior que R$ 788. Digite novamente: '))\n",
    "    else:\n",
    "        sss = (input('O salário deve ter valor numérico. Digite novamente: '))\n",
    "\n",
    "print ('{} tem {} anos, recebe R$ {} e seu nome tem {} caracteres.'.format(nome,newyy,newsss,len(nome)))"
   ]
  },
  {
   "cell_type": "markdown",
   "metadata": {},
   "source": [
    "## Exercicio 5\n",
    "\n",
    "**(1.5 ponto)** Crie uma função que deverá receber dois parâmetros, sendo um o arquivo e o outro a quantidade de palavras que aparecem com mais frequência. O retorno deverá ser uma lista, sendo que cada elemento dessa lista, deve ser uma tupla (chave-valor), sendo chave o nome da palavra e o valor a quantidade de vezes que ela apareceu no texto.\n",
    "\n",
    "Por exemplo,\n",
    "\n",
    "    palavras_frequentes('texto1.txt', 10) - pesquisa no arquivo texto1.txt as 10 palavras mais frequentes.\n",
    "    palavras_frequentes('texto2.txt', 5) - pesquisa no arquivo texto2.txt as 5 palavras mais frequentes.\n",
    "    \n",
    "\n",
    "**<span style=\"color:red\">Lembre-se de tratar possíveis erros!</span>**\n",
    "\n",
    "\n",
    "Exemplo de uso e saida:\n",
    "\n",
    "```python\n",
    ">>> palavras10mais = palavras_frequentes('texto1.txt', 10)\n",
    ">>> print(palavras10mais)\n",
    "[('programas', 662), ('codigos', 661), ('dinheiro', 661), ('fia', 586), ('python', 491), ('data', 434), ('big', 434), ('velocidade', 133), ('Moneyball', 113), ('dados', 95)]\n",
    "```\n",
    "\n",
    "\n",
    "Dica: Verifique o funcionamento da função sorted para ordernar um dicionário com base no valor."
   ]
  },
  {
   "cell_type": "code",
   "execution_count": 13,
   "metadata": {
    "collapsed": false
   },
   "outputs": [],
   "source": [
    "import operator\n",
    "def palavras_frequentes(arquivo, palavras_freq):\n",
    "    todasList = [];\n",
    "    listCount  = {}\n",
    "    with open(arquivo,'r') as linhas:\n",
    "        for linha in linhas:\n",
    "            linha = linha.strip()\n",
    "            linha = linha.replace('  ',' ') #convert duplicates spaces to one space\n",
    "            linhaList = linha.split(' ')\n",
    "            todasList.extend(linhaList)\n",
    "\n",
    "    for palavra in todasList:\n",
    "        try:\n",
    "            if palavra not in listCount:\n",
    "                listCount[palavra] = 1\n",
    "            else:\n",
    "                listCount[palavra] += 1\n",
    "        except KeyError:\n",
    "            'Não Possível'\n",
    "    listSorted = sorted(listCount.items(), key=lambda x:x[1],reverse=True)\n",
    "    \n",
    "    return listSorted[:palavras_freq]\n",
    "        "
   ]
  },
  {
   "cell_type": "markdown",
   "metadata": {},
   "source": [
    "Faça o teste para as seguintes situações:"
   ]
  },
  {
   "cell_type": "code",
   "execution_count": 14,
   "metadata": {
    "collapsed": false
   },
   "outputs": [
    {
     "data": {
      "text/plain": [
       "[('programas', 662),\n",
       " ('codigos', 661),\n",
       " ('dinheiro', 661),\n",
       " ('fia', 586),\n",
       " ('python', 491),\n",
       " ('big', 434),\n",
       " ('data', 434),\n",
       " ('velocidade', 133),\n",
       " ('Moneyball', 113),\n",
       " ('de', 95)]"
      ]
     },
     "execution_count": 14,
     "metadata": {},
     "output_type": "execute_result"
    }
   ],
   "source": [
    "palavras_frequentes('texto1.txt', 10)"
   ]
  },
  {
   "cell_type": "code",
   "execution_count": 15,
   "metadata": {
    "collapsed": false
   },
   "outputs": [
    {
     "data": {
      "text/plain": [
       "[('dinheiro', 251),\n",
       " ('programas', 249),\n",
       " ('codigos', 248),\n",
       " ('fia', 220),\n",
       " ('python', 183),\n",
       " ('big', 166),\n",
       " ('data', 166),\n",
       " ('velocidade', 50),\n",
       " ('Moneyball', 45),\n",
       " ('de', 38)]"
      ]
     },
     "execution_count": 15,
     "metadata": {},
     "output_type": "execute_result"
    }
   ],
   "source": [
    "palavras_frequentes('texto2.txt', 10)"
   ]
  },
  {
   "cell_type": "code",
   "execution_count": 16,
   "metadata": {
    "collapsed": false
   },
   "outputs": [
    {
     "data": {
      "text/plain": [
       "[('programas', 662),\n",
       " ('codigos', 661),\n",
       " ('dinheiro', 661),\n",
       " ('fia', 586),\n",
       " ('python', 491)]"
      ]
     },
     "execution_count": 16,
     "metadata": {},
     "output_type": "execute_result"
    }
   ],
   "source": [
    "palavras_frequentes('texto1.txt', 5)"
   ]
  },
  {
   "cell_type": "code",
   "execution_count": 17,
   "metadata": {
    "collapsed": false
   },
   "outputs": [
    {
     "data": {
      "text/plain": [
       "[('dinheiro', 251),\n",
       " ('programas', 249),\n",
       " ('codigos', 248),\n",
       " ('fia', 220),\n",
       " ('python', 183)]"
      ]
     },
     "execution_count": 17,
     "metadata": {},
     "output_type": "execute_result"
    }
   ],
   "source": [
    "palavras_frequentes('texto2.txt', 5)"
   ]
  },
  {
   "cell_type": "code",
   "execution_count": 18,
   "metadata": {
    "collapsed": false,
    "scrolled": true
   },
   "outputs": [
    {
     "data": {
      "text/plain": [
       "[('programas', 662),\n",
       " ('codigos', 661),\n",
       " ('dinheiro', 661),\n",
       " ('fia', 586),\n",
       " ('python', 491),\n",
       " ('big', 434),\n",
       " ('data', 434),\n",
       " ('velocidade', 133),\n",
       " ('Moneyball', 113),\n",
       " ('de', 95),\n",
       " ('dados', 95),\n",
       " ('conjuntos', 95),\n",
       " ('nuvem', 94),\n",
       " ('carro', 93),\n",
       " ('navio', 93),\n",
       " ('valor', 76),\n",
       " ('variedade', 75),\n",
       " ('hadoop', 75),\n",
       " ('volume', 19),\n",
       " ('', 1)]"
      ]
     },
     "execution_count": 18,
     "metadata": {},
     "output_type": "execute_result"
    }
   ],
   "source": [
    "palavras_frequentes('texto1.txt', 30)"
   ]
  },
  {
   "cell_type": "markdown",
   "metadata": {},
   "source": [
    "## Exercício 6\n",
    "\n",
    "**(2 pontos)** Utilizando o exemplo dado em aula sobre a Streaming API (Desafio 3 da Aula 5), recupere os tweets durante 10 minutos com os seguintes parâmetros:\n",
    "\n",
    "    fluxo.filter(track=['Big Data', 'Hadoop', 'Spark', 'Python', 'Data Science'], languages=['en', 'pt'])\n",
    "    \n",
    "Salve os tweets em um arquivo chamado ```tweets_10min.json```."
   ]
  },
  {
   "cell_type": "markdown",
   "metadata": {},
   "source": [
    "**Importe os módulos necessários**"
   ]
  },
  {
   "cell_type": "code",
   "execution_count": 19,
   "metadata": {
    "collapsed": false
   },
   "outputs": [],
   "source": [
    "import tweepy\n",
    "from time import time"
   ]
  },
  {
   "cell_type": "markdown",
   "metadata": {},
   "source": [
    "**Crie as chaves de acesso**"
   ]
  },
  {
   "cell_type": "code",
   "execution_count": 20,
   "metadata": {
    "collapsed": true
   },
   "outputs": [],
   "source": [
    "consumer_key = 'M6OkpsVkxMo1m4oEpcKrxTG9L'\n",
    "consumer_secret = 'huUxJYdPoddEkvRrmDOFQIuHspkBERTCshx2J5tcj7FeAFdgNp'\n",
    "access_token = '13101632-jfzgS37obVEw5vEQhkg3iHuMSgZFwAnLz55OZcVyi'\n",
    "access_token_secret = 'CeoEHGH6fzrFH1PbXxSwCvmL04rD6nQElJzKgMnAj9AY9'"
   ]
  },
  {
   "cell_type": "markdown",
   "metadata": {},
   "source": [
    "**Realize a autorização e defina a token de acesso**"
   ]
  },
  {
   "cell_type": "code",
   "execution_count": 21,
   "metadata": {
    "collapsed": false
   },
   "outputs": [],
   "source": [
    "autorizar = tweepy.OAuthHandler(consumer_key,consumer_secret)\n",
    "autorizar.set_access_token(access_token,access_token_secret)"
   ]
  },
  {
   "cell_type": "markdown",
   "metadata": {},
   "source": [
    "**Crie a classe ```DadosPublicosTwitter``` herdando da classe tweepy.StreamListener para rodar durante 10 minutos e salvar os tweets no arquivo.**"
   ]
  },
  {
   "cell_type": "code",
   "execution_count": 22,
   "metadata": {
    "collapsed": false
   },
   "outputs": [],
   "source": [
    "class DadosPublicosTwitter(tweepy.StreamListener):\n",
    "    def __init__(self,nomeArquivo,tempoLimiteMinutos):\n",
    "        self.tempoInicial = time()\n",
    "        self.tempoLimite = tempoLimiteMinutos * 60\n",
    "        self.salvarArquivo = open(nomeArquivo,'a',newline='')\n",
    "    \n",
    "    def on_data(self,dados):\n",
    "        if (time() - self.tempoInicial < self.tempoLimite):\n",
    "            self.salvarArquivo.write(dados)\n",
    "            return True\n",
    "        else:\n",
    "            self.salvarArquivo.close()\n",
    "            print('Stream finalizado')\n",
    "            return False\n",
    "        "
   ]
  },
  {
   "cell_type": "markdown",
   "metadata": {},
   "source": [
    "**Crie a instância da classe, o fluxo e realize a filtragem com os parâmetros definidos no enunciado.**"
   ]
  },
  {
   "cell_type": "code",
   "execution_count": 107,
   "metadata": {
    "collapsed": false
   },
   "outputs": [
    {
     "name": "stdout",
     "output_type": "stream",
     "text": [
      "Stream finalizado\n"
     ]
    }
   ],
   "source": [
    "nomeArquivo = 'tweets_10min.json'\n",
    "dadosTwitter = DadosPublicosTwitter(nomeArquivo,10)\n",
    "\n",
    "fluxo = tweepy.Stream(autorizar,dadosTwitter)\n",
    "\n",
    "fluxo.filter(track=['Big Data', 'Hadoop', 'Spark', 'Python', 'Data Science'], languages=['en', 'pt'])"
   ]
  },
  {
   "cell_type": "markdown",
   "metadata": {},
   "source": [
    "## Exercício 7\n",
    "\n",
    "**(3 pontos)** Com os dados salvos no **tweets_10min.json**, crie um DataFrame pandas com as seguintes colunas:\n",
    "\n",
    "* ```text``` - Texto do Tweet\n",
    "* ```created_at``` - Data da criação do Tweet\n",
    "* ```coordinates``` - Coordenadas\n",
    "* ```retweet_count``` - Quantidade de vezes que o tweet foi \"retweetado\".\n",
    "* ```favorite_count``` - Quantidade de vezes que o tweet foi \"favoritado\".\n",
    "\n",
    "* ```screen_name``` - Nome na tela (exemplo: @prof_dinomagri)\n",
    "* ```location``` - Localização\n",
    "* ```lang - Idioma```\n",
    "* ```followers_count``` - Quantidade de seguidores\n",
    "* ```geo_enabled``` - Se tem a geolocalização habilitade\n",
    "* ```statuses_count``` - Quantidade de tweets postados.\n",
    "\n",
    "* ```lat``` - Recuperada através da função desenvolvida em sala\n",
    "* ```long``` - Recuperada através da função desenvolvida em sala\n",
    "* ```hashtags``` - Recuperada através da função desenvolvida em sala\n",
    "\n",
    "Lembre-se de utilizar as funções desenvolvidas em sala de aula para recuperar a latitude, longitude e hastags.\n",
    "\n",
    "No final salve o arquivo no formato CSV, utilizando o separador ponto e virgula (;) e com a codificação 'utf-8'."
   ]
  },
  {
   "cell_type": "markdown",
   "metadata": {
    "collapsed": true
   },
   "source": [
    "**Importe os módulos necessários**"
   ]
  },
  {
   "cell_type": "code",
   "execution_count": 23,
   "metadata": {
    "collapsed": false
   },
   "outputs": [],
   "source": [
    "import pandas as pd\n",
    "import simplejson as json"
   ]
  },
  {
   "cell_type": "markdown",
   "metadata": {
    "collapsed": true
   },
   "source": [
    "**Utilize o comando with para abrir o arquivo 'tweets_10min.json' e salvar em uma lista**"
   ]
  },
  {
   "cell_type": "code",
   "execution_count": 24,
   "metadata": {
    "collapsed": false
   },
   "outputs": [],
   "source": [
    "listTweets = []\n",
    "with open ('tweets_10min.json','r') as arquivo:\n",
    "    for linha in arquivo:\n",
    "        listTweets.append(json.loads(linha))\n",
    "    "
   ]
  },
  {
   "cell_type": "markdown",
   "metadata": {
    "collapsed": true
   },
   "source": [
    "**Crie o DataFrame com os dados e imprima apenas os 3 primeiros tweets (linhas)**"
   ]
  },
  {
   "cell_type": "code",
   "execution_count": 25,
   "metadata": {
    "collapsed": false
   },
   "outputs": [
    {
     "data": {
      "text/html": [
       "<div>\n",
       "<table border=\"1\" class=\"dataframe\">\n",
       "  <thead>\n",
       "    <tr style=\"text-align: right;\">\n",
       "      <th></th>\n",
       "      <th>contributors</th>\n",
       "      <th>coordinates</th>\n",
       "      <th>created_at</th>\n",
       "      <th>entities</th>\n",
       "      <th>extended_entities</th>\n",
       "      <th>favorite_count</th>\n",
       "      <th>favorited</th>\n",
       "      <th>filter_level</th>\n",
       "      <th>geo</th>\n",
       "      <th>id</th>\n",
       "      <th>...</th>\n",
       "      <th>quoted_status_id</th>\n",
       "      <th>quoted_status_id_str</th>\n",
       "      <th>retweet_count</th>\n",
       "      <th>retweeted</th>\n",
       "      <th>retweeted_status</th>\n",
       "      <th>source</th>\n",
       "      <th>text</th>\n",
       "      <th>timestamp_ms</th>\n",
       "      <th>truncated</th>\n",
       "      <th>user</th>\n",
       "    </tr>\n",
       "  </thead>\n",
       "  <tbody>\n",
       "    <tr>\n",
       "      <th>0</th>\n",
       "      <td>None</td>\n",
       "      <td>None</td>\n",
       "      <td>Wed Aug 17 13:36:40 +0000 2016</td>\n",
       "      <td>{'hashtags': [], 'urls': [{'indices': [51, 74]...</td>\n",
       "      <td>NaN</td>\n",
       "      <td>0</td>\n",
       "      <td>False</td>\n",
       "      <td>low</td>\n",
       "      <td>None</td>\n",
       "      <td>765905185994633216</td>\n",
       "      <td>...</td>\n",
       "      <td>NaN</td>\n",
       "      <td>NaN</td>\n",
       "      <td>0</td>\n",
       "      <td>False</td>\n",
       "      <td>NaN</td>\n",
       "      <td>&lt;a href=\"http://twitter.com/download/android\" ...</td>\n",
       "      <td>Data Analytics In Insurance | Articles | Big D...</td>\n",
       "      <td>1471441000828</td>\n",
       "      <td>False</td>\n",
       "      <td>{'geo_enabled': False, 'verified': False, 'pro...</td>\n",
       "    </tr>\n",
       "    <tr>\n",
       "      <th>1</th>\n",
       "      <td>None</td>\n",
       "      <td>None</td>\n",
       "      <td>Wed Aug 17 13:36:44 +0000 2016</td>\n",
       "      <td>{'hashtags': [], 'urls': [{'indices': [117, 14...</td>\n",
       "      <td>NaN</td>\n",
       "      <td>0</td>\n",
       "      <td>False</td>\n",
       "      <td>low</td>\n",
       "      <td>None</td>\n",
       "      <td>765905200007688192</td>\n",
       "      <td>...</td>\n",
       "      <td>NaN</td>\n",
       "      <td>NaN</td>\n",
       "      <td>0</td>\n",
       "      <td>False</td>\n",
       "      <td>NaN</td>\n",
       "      <td>&lt;a href=\"http://www.facebook.com/twitter\" rel=...</td>\n",
       "      <td>Monty Python proclaimed, \"Nobody expects the S...</td>\n",
       "      <td>1471441004169</td>\n",
       "      <td>False</td>\n",
       "      <td>{'geo_enabled': False, 'verified': False, 'pro...</td>\n",
       "    </tr>\n",
       "    <tr>\n",
       "      <th>2</th>\n",
       "      <td>None</td>\n",
       "      <td>None</td>\n",
       "      <td>Wed Aug 17 13:36:45 +0000 2016</td>\n",
       "      <td>{'hashtags': [], 'urls': [{'indices': [28, 51]...</td>\n",
       "      <td>NaN</td>\n",
       "      <td>0</td>\n",
       "      <td>False</td>\n",
       "      <td>low</td>\n",
       "      <td>None</td>\n",
       "      <td>765905206517305344</td>\n",
       "      <td>...</td>\n",
       "      <td>7.659045e+17</td>\n",
       "      <td>765904477471858689</td>\n",
       "      <td>0</td>\n",
       "      <td>False</td>\n",
       "      <td>NaN</td>\n",
       "      <td>&lt;a href=\"http://twitter.com/download/iphone\" r...</td>\n",
       "      <td>You're wasting your data 😂😂 https://t.co/MnD90...</td>\n",
       "      <td>1471441005721</td>\n",
       "      <td>False</td>\n",
       "      <td>{'geo_enabled': True, 'verified': False, 'prof...</td>\n",
       "    </tr>\n",
       "  </tbody>\n",
       "</table>\n",
       "<p>3 rows × 31 columns</p>\n",
       "</div>"
      ],
      "text/plain": [
       "  contributors coordinates                      created_at  \\\n",
       "0         None        None  Wed Aug 17 13:36:40 +0000 2016   \n",
       "1         None        None  Wed Aug 17 13:36:44 +0000 2016   \n",
       "2         None        None  Wed Aug 17 13:36:45 +0000 2016   \n",
       "\n",
       "                                            entities extended_entities  \\\n",
       "0  {'hashtags': [], 'urls': [{'indices': [51, 74]...               NaN   \n",
       "1  {'hashtags': [], 'urls': [{'indices': [117, 14...               NaN   \n",
       "2  {'hashtags': [], 'urls': [{'indices': [28, 51]...               NaN   \n",
       "\n",
       "   favorite_count favorited filter_level   geo                  id  \\\n",
       "0               0     False          low  None  765905185994633216   \n",
       "1               0     False          low  None  765905200007688192   \n",
       "2               0     False          low  None  765905206517305344   \n",
       "\n",
       "                         ...                         quoted_status_id  \\\n",
       "0                        ...                                      NaN   \n",
       "1                        ...                                      NaN   \n",
       "2                        ...                             7.659045e+17   \n",
       "\n",
       "  quoted_status_id_str  retweet_count retweeted  retweeted_status  \\\n",
       "0                  NaN              0     False               NaN   \n",
       "1                  NaN              0     False               NaN   \n",
       "2   765904477471858689              0     False               NaN   \n",
       "\n",
       "                                              source  \\\n",
       "0  <a href=\"http://twitter.com/download/android\" ...   \n",
       "1  <a href=\"http://www.facebook.com/twitter\" rel=...   \n",
       "2  <a href=\"http://twitter.com/download/iphone\" r...   \n",
       "\n",
       "                                                text   timestamp_ms truncated  \\\n",
       "0  Data Analytics In Insurance | Articles | Big D...  1471441000828     False   \n",
       "1  Monty Python proclaimed, \"Nobody expects the S...  1471441004169     False   \n",
       "2  You're wasting your data 😂😂 https://t.co/MnD90...  1471441005721     False   \n",
       "\n",
       "                                                user  \n",
       "0  {'geo_enabled': False, 'verified': False, 'pro...  \n",
       "1  {'geo_enabled': False, 'verified': False, 'pro...  \n",
       "2  {'geo_enabled': True, 'verified': False, 'prof...  \n",
       "\n",
       "[3 rows x 31 columns]"
      ]
     },
     "execution_count": 25,
     "metadata": {},
     "output_type": "execute_result"
    }
   ],
   "source": [
    "df = pd.DataFrame(listTweets)\n",
    "df.head(3)"
   ]
  },
  {
   "cell_type": "markdown",
   "metadata": {
    "collapsed": true
   },
   "source": [
    "**Crie uma lista, onde cada elemento será o nome da coluna**"
   ]
  },
  {
   "cell_type": "code",
   "execution_count": 26,
   "metadata": {
    "collapsed": true
   },
   "outputs": [],
   "source": [
    "colunas = ['text', 'created_at', 'coordinates', 'retweet_count', \n",
    "           'favorite_count', 'screen_name', 'location', 'lang', \n",
    "           'followers_count', 'geo_enabled', 'statuses_count',\n",
    "          'lat', 'long', 'hashtags']"
   ]
  },
  {
   "cell_type": "markdown",
   "metadata": {
    "collapsed": true
   },
   "source": [
    "** Crie um DataFrame auxiliar passando as colunas por parâmetro**"
   ]
  },
  {
   "cell_type": "code",
   "execution_count": 27,
   "metadata": {
    "collapsed": true
   },
   "outputs": [],
   "source": [
    "df_aux = pd.DataFrame(columns=colunas)"
   ]
  },
  {
   "cell_type": "markdown",
   "metadata": {},
   "source": [
    "**Crie a função de pegar_lat_long(local)**"
   ]
  },
  {
   "cell_type": "code",
   "execution_count": 28,
   "metadata": {
    "collapsed": false
   },
   "outputs": [],
   "source": [
    "from geopy.geocoders import Nominatim\n",
    "def pegar_lat_long(local):\n",
    "    geoLocalizador = Nominatim()\n",
    "    try:\n",
    "        localizacao = geoLocalizador.geocode(local)\n",
    "        return (localizacao.latitude,localizacao.longitude)\n",
    "#         return localizacao\n",
    "    except:\n",
    "        return 0"
   ]
  },
  {
   "cell_type": "markdown",
   "metadata": {},
   "source": [
    "**Crie a função para salvar_hashtags(texto)**"
   ]
  },
  {
   "cell_type": "code",
   "execution_count": 29,
   "metadata": {
    "collapsed": true
   },
   "outputs": [],
   "source": [
    "def salvar_hashtags(texto):\n",
    "    hashtags = []\n",
    "    for palavra in texto.split():\n",
    "        if palavra.startswith('#'):\n",
    "            hashtags.append(palavra)\n",
    "    strHashtags = ' '.join(hashtags)\n",
    "    return strHashtags"
   ]
  },
  {
   "cell_type": "markdown",
   "metadata": {
    "collapsed": false
   },
   "source": [
    "**Certifique-se que o DataFrame auxiliar tem as 14 colunas necessárias**"
   ]
  },
  {
   "cell_type": "code",
   "execution_count": 30,
   "metadata": {
    "collapsed": false
   },
   "outputs": [
    {
     "data": {
      "text/plain": [
       "14"
      ]
     },
     "execution_count": 30,
     "metadata": {},
     "output_type": "execute_result"
    }
   ],
   "source": [
    "len(df_aux.columns)"
   ]
  },
  {
   "cell_type": "markdown",
   "metadata": {},
   "source": [
    "**Por fim crie o laço que irá iterar em cada elemento do DataFrame original e salvar apenas o que queremos no DataFrame auxiliar.**\n",
    "\n",
    "Lembre-se de como queremos a latitude e longitude a localização tem que ser diferente de ```None```."
   ]
  },
  {
   "cell_type": "code",
   "execution_count": 57,
   "metadata": {
    "collapsed": false
   },
   "outputs": [
    {
     "name": "stdout",
     "output_type": "stream",
     "text": [
      "Abuja, Nigeria (9.0643305, 7.4892974)\n",
      "[\"You're wasting your data 😂😂 https://t.co/MnD90iiZSl\", 'Wed Aug 17 13:36:45 +0000 2016', None, 0, 0, 'Boss_Haruna', 'Abuja, Nigeria', 'en', 301, True, 9286, 9.0643305, 7.4892974, '']\n",
      "Birmingham, Alabama, USA (33.5206824, -86.8024325)\n",
      "[\"RT @ellisonbg: An incredible collection of Jupyter notebooks-new O'Reilly book by @jakevdp , Data Science Handbook https://t.co/63Ma7xunKn\", 'Wed Aug 17 13:36:46 +0000 2016', None, 0, 0, 'timelyportfolio', 'Birmingham, Alabama, USA', 'en', 2206, False, 19551, 33.5206824, -86.8024325, '']\n",
      "Rhode Island (41.7962409, -71.5992371)\n",
      "[\"RT @craigbrownphd: Amazon Kinesis Analytics and the road to Big Data's killer app: Kinesis Analytics makes i... https://t.co/WOUHY8eXS9 #Bi…\", 'Wed Aug 17 13:36:47 +0000 2016', None, 0, 0, 'sdenfr4shhh', 'Rhode Island', 'en', 45, True, 3620, 41.7962409, -71.5992371, '#Bi…']\n",
      "home (51.8253788, 9.0184079)\n",
      "[\"RT @P0lS0NlVY: he used her MI's to manipulate her and then threw her into acid and in the movie he tortured her to become harley https://t.…\", 'Wed Aug 17 13:36:48 +0000 2016', None, 0, 0, 'E_mily1998', 'home', 'en', 233, True, 4544, 51.8253788, 9.0184079, '']\n",
      "emmnltsn 0\n",
      "Pennsylvania, USA (40.9699889, -77.727883)\n",
      "[\"@Bibobll @JubyPhonic_P We're both valor but Spark is love, Spark is life. https://t.co/yhQJQQJ3h8\", 'Wed Aug 17 13:36:49 +0000 2016', None, 0, 0, 'Gergory001', 'Pennsylvania, USA', 'en', 1, False, 45, 40.9699889, -77.727883, '']\n",
      "Oxford, UK (51.752225, -1.2583027)\n",
      "['Work smarter to get the best return on data analytics: \\nhttps://t.co/fQe26Fc2jY', 'Wed Aug 17 13:36:51 +0000 2016', None, 0, 0, 'DataSalon', 'Oxford, UK', 'en', 1635, False, 950, 51.752225, -1.2583027, '']\n",
      "San Francisco, CA (37.7792808, -122.4192362)\n",
      "['Sentia_UK: 1ClickCassandraCluster for Your Big Data Center Cloud - https://t.co/HzceuBEDq6 The Absorbent Mind: https://t.co/iknHvitZbM', 'Wed Aug 17 13:37:00 +0000 2016', None, 0, 0, 'CloudataNow', 'San Francisco, CA', 'en', 880, False, 2066870, 37.7792808, -122.4192362, '']\n",
      "London, England (51.5073219, -0.1276473)\n",
      "['No #datascience, no problem! Learn to ask big questions with data (even if you stink at math)— smart like how https://t.co/GFhzzC3fST', 'Wed Aug 17 13:37:01 +0000 2016', None, 0, 0, 'ReverseHeadhunt', 'London, England', 'en', 6664, False, 2553, 51.5073219, -0.1276473, '#datascience,']\n",
      "Connecticut, USA (41.6500201, -72.7342162)\n",
      "['RT @dailycampuslife: Brb planning next years summer vacation https://t.co/02jg6J1SIp', 'Wed Aug 17 13:37:02 +0000 2016', None, 0, 0, 'theangiederosa', 'Connecticut, USA', 'en', 157, True, 1974, 41.6500201, -72.7342162, '']\n",
      "ⓡⓨⓛⓔ ❁ ⓜⓒⓡⓘⓢ 0\n",
      "Boston, NYC, SF, Austin 0\n",
      "Torres Vedras Portugal (39.0925372, -9.2598536)\n",
      "['Entities move data from tables to knowledge\\n\\n#OReilly #Data #Science https://t.co/PWHQjuVL9v', 'Wed Aug 17 13:37:10 +0000 2016', None, 0, 0, 'EdgarTwit1', 'Torres Vedras Portugal', 'en', 609, False, 64984, 39.0925372, -9.2598536, '#OReilly #Data #Science']\n",
      "Canton, MO (40.7989522, -81.3784444)\n",
      "[\"RT @craigbrownphd: Amazon Kinesis Analytics and the road to Big Data's killer app: Kinesis Analytics makes i... https://t.co/WOUHY8eXS9 #Bi…\", 'Wed Aug 17 13:37:11 +0000 2016', None, 0, 0, 'URTheTlgersRoar', 'Canton, MO', 'en', 333, True, 4022, 40.7989522, -81.3784444, '#Bi…']\n",
      "Webster NY (43.2122851, -77.4299938)\n",
      "['RT @cxdig: The Hidden Danger of Big Data by @SenseableCity @DirkHelbing https://t.co/11OcJVALt1 https://t.co/8MSScdC9Ux', 'Wed Aug 17 13:37:11 +0000 2016', None, 0, 0, 'MsFluffPawz', 'Webster NY', 'en', 234, False, 2314, 43.2122851, -77.4299938, '']\n",
      "Dublin, Irlande (53.3497645, -6.2602731)\n",
      "['RT @CRMTopNews: Making Big Data Drive Digital Transformation – As Disru... https://t.co/nohehC6tFW via @Greyhound_R https://t.co/QLqDzQ0tzL', 'Wed Aug 17 13:37:16 +0000 2016', None, 0, 0, 'BenjaminMarcon', 'Dublin, Irlande', 'fr', 508, False, 22562, 53.3497645, -6.2602731, '']\n",
      "Natsu... (48.204168, 16.3467727)\n",
      "['RT @randal_olson: https://t.co/ye1XaaENfz : a #Python tool to download and manage TV shows. #entertainment https://t.co/bAwVaAR9vQ', 'Wed Aug 17 13:37:16 +0000 2016', None, 0, 0, 'FenrirJP', 'Natsu...', 'en', 3062, False, 5914, 48.204168, 16.3467727, '#Python #entertainment']\n",
      "mcr (51.7506898, -1.25311198253273)\n",
      "['RT @BestMovieLine: Monty Python and the Holy Grail https://t.co/wHZ2kHAzy5', 'Wed Aug 17 13:37:22 +0000 2016', None, 0, 0, 'griffwilliams_', 'mcr', 'en', 256, False, 5525, 51.7506898, -1.25311198253273, '']\n",
      "Shreveport, LA (32.4828485, -93.8284831615932)\n",
      "[\"RT @MichelleVito: you show me love never apart, you're always there for me i'm alright. you are the spark 🎶 #LSS\\n@lizasoberano 😍😍 https://t…\", 'Wed Aug 17 13:37:24 +0000 2016', None, 0, 0, 'lovelyluv09', 'Shreveport, LA', 'en', 489, True, 75701, 32.4828485, -93.8284831615932, '#LSS']\n",
      "somewhere out there  0\n",
      "CN (35.000074, 104.999927)\n",
      "['#Why does my nested loop throw an exception in Python?\\n#Tech #News #HowTo\\nhttps://t.co/yzfQq1vEyF', 'Wed Aug 17 13:37:27 +0000 2016', None, 0, 0, 'AdamSmitht1', 'CN', 'en', 1410, False, 468436, 35.000074, 104.999927, '#Why #Tech #News #HowTo']\n",
      "Chicago (41.8755546, -87.6244211)\n",
      "[\"RT @craigbrownphd: Amazon Kinesis Analytics and the road to Big Data's killer app: Kinesis Analytics makes i... https://t.co/WOUHY8eXS9 #Bi…\", 'Wed Aug 17 13:37:34 +0000 2016', None, 0, 0, 'j0nkavanaugh', 'Chicago', 'en', 48, True, 3571, 41.8755546, -87.6244211, '#Bi…']\n",
      "Beverly Hills, CA (34.0736204, -118.4003562)\n",
      "['@QNAP_nas debuts double server TDS-16489U featuring dual @Intel #Xeon E5 #CPU for #bigdata computing @AnnaRibeiro9 https://t.co/hXZTgXxBPj', 'Wed Aug 17 13:37:34 +0000 2016', None, 0, 0, 'IoTInnovator', 'Beverly Hills, CA', 'en', 45, False, 208, 34.0736204, -118.4003562, '#Xeon #CPU #bigdata']\n",
      "Atimonan, Calabarzon (13.9968413, 121.9292345)\n",
      "[\"RT @MichelleVito: you show me love never apart, you're always there for me i'm alright. you are the spark 🎶 #LSS\\n@lizasoberano 😍😍 https://t…\", 'Wed Aug 17 13:37:35 +0000 2016', None, 0, 0, 'jaypenpen', 'Atimonan, Calabarzon', 'en', 7, False, 81, 13.9968413, 121.9292345, '#LSS']\n",
      "Deutschland (51.0834196, 10.4234469)\n",
      "['#Sr Software Engineer Java/Python/Javascript Fullstack #jobs #career #: #NJ-South Brunswick, This company run... https://t.co/Y7nThrUCI7', 'Wed Aug 17 13:37:35 +0000 2016', None, 0, 0, 'jobnec', 'Deutschland', 'de', 1555, False, 93409, 51.0834196, 10.4234469, '#Sr #jobs #career #: #NJ-South']\n",
      "Angono,Rizal (14.5253956, 121.1534448)\n",
      "['You are the spark.', 'Wed Aug 17 13:37:42 +0000 2016', None, 0, 0, 'aaaroonvargas', 'Angono,Rizal', 'en', 220, True, 1917, 14.5253956, 121.1534448, '']\n",
      "Orlando, FL (28.5421175, -81.3790461)\n",
      "['RT @Dory: It\\'s always Florida. Always.  RT ”@SeriousStrange: A 17ft python pregnant with 87 eggs was caught in Florida.\" https://t.co/pXJfj…', 'Wed Aug 17 13:37:44 +0000 2016', None, 0, 0, 'LaurenKeller_', 'Orlando, FL', 'en', 927, True, 38676, 28.5421175, -81.3790461, '']\n",
      "San Francisco, CA (37.7792808, -122.4192362)\n",
      "['yadakansei0228: HyperScale HyperConvergence Big Data Cloud Advanced Training - https://t.co/EVzY9GXwa2 Can I Help?: https://t.co/uv043HELe6', 'Wed Aug 17 13:37:54 +0000 2016', None, 0, 0, 'CloudataNow', 'San Francisco, CA', 'en', 880, False, 2066874, 37.7792808, -122.4192362, '']\n",
      "GREAT BRITAIN  (54.31536155, -1.91802339480124)\n",
      "['#Ukip 🇬🇧\\n\\nJean-Claude Juncker warned he could spark European CIVIL WAR with arrogant Brexit stance https://t.co/aKHFZviimU', 'Wed Aug 17 13:37:54 +0000 2016', None, 0, 0, 'Fight4UK', 'GREAT BRITAIN ', 'en', 15440, False, 195780, 54.31536155, -1.91802339480124, '#Ukip']\n",
      "Florida, USA (27.7567667, -81.4639834)\n",
      "['RT @Dory: It\\'s always Florida. Always.  RT ”@SeriousStrange: A 17ft python pregnant with 87 eggs was caught in Florida.\" https://t.co/pXJfj…', 'Wed Aug 17 13:37:55 +0000 2016', None, 0, 0, 'jazlynnivette', 'Florida, USA', 'en', 162, False, 1732, 27.7567667, -81.4639834, '']\n",
      "Kuala Perlis, Perlis (6.400695, 100.136108)\n",
      "['RT @SecurityTube: #Python for Hackers &amp; Pentesters, https://t.co/CxZwWl3fPy Join professionals from 90+ countries! Grab Your Seat Now! http…', 'Wed Aug 17 13:37:55 +0000 2016', None, 0, 0, 'AqilahArffin', 'Kuala Perlis, Perlis', 'en', 639, True, 4984, 6.400695, 100.136108, '#Python']\n",
      "Swindon, England (51.5613683, -1.7856852)\n",
      "['SanDisk Big Data and Flash: Why Is This the Future? [Video] | 7wData https://t.co/m4o3l7gODF', 'Wed Aug 17 13:38:01 +0000 2016', None, 0, 0, 'PhilMarshman', 'Swindon, England', 'en', 2517, True, 425, 51.5613683, -1.7856852, '']\n",
      "San Francisco, CA (37.7792808, -122.4192362)\n",
      "['1llan: 1ClickCassandraCluster for Your Big Data Center Cloud - https://t.co/HzceuBEDq6 Pro Puppet: https://t.co/SbOmyhPREc', 'Wed Aug 17 13:38:01 +0000 2016', None, 0, 0, 'CloudataNow', 'San Francisco, CA', 'en', 880, False, 2066876, 37.7792808, -122.4192362, '']\n",
      "Croissy sur Seine (48.8792031, 2.1325772)\n",
      "['Big data and robotics: A long history together &gt;https://t.co/FCC0iRS9jJ&lt; #analytics #BigData #robotics @ZDNet https://t.co/OsKJeyqCJb', 'Wed Aug 17 13:38:02 +0000 2016', None, 0, 0, 'MTI_France', 'Croissy sur Seine', 'fr', 631, True, 2215, 48.8792031, 2.1325772, '#analytics #BigData #robotics']\n",
      "Huddersfield, England (53.6467031, -1.7832076)\n",
      "['#thoughtposition #sculpture\\na spark between\\nover and over again\\nbegan to corrode', 'Wed Aug 17 13:38:15 +0000 2016', None, 0, 0, 'thoughtposition', 'Huddersfield, England', 'en', 34, False, 7417, 53.6467031, -1.7832076, '#thoughtposition #sculpture']\n",
      "San Francisco, CA (37.7792808, -122.4192362)\n",
      "['lws_101: 1ClickSparkCluster for Your Big Data Center Cloud - https://t.co/Xt9pA8vyao Big Data poder los datos: https://t.co/862zIwgbhd', 'Wed Aug 17 13:38:19 +0000 2016', None, 0, 0, 'CloudataNow', 'San Francisco, CA', 'en', 880, False, 2066877, 37.7792808, -122.4192362, '']\n",
      "Elmhurst, IL (41.8994745, -87.9403417)\n",
      "['RT @BestMovieLine: Monty Python and the Holy Grail https://t.co/wHZ2kHAzy5', 'Wed Aug 17 13:38:20 +0000 2016', None, 0, 0, 'JacobAlley12', 'Elmhurst, IL', 'en', 349, False, 1676, 41.8994745, -87.9403417, '']\n",
      "Dimples ni Liza 0\n",
      "MNL Phil 0\n",
      "Argentina 0\n",
      "New Delhi, India 0\n",
      "Denver, CO (39.7391536, -104.9847033)\n",
      "[\"RT @OReillyMedia: Get beyond the basics of Python with @redsymbol 's 2-day hands-on, in-depth Python training Aug 23-24 https://t.co/rpcos0…\", 'Wed Aug 17 13:38:29 +0000 2016', None, 0, 0, 'MikeHerman', 'Denver, CO', 'en', 802, True, 8114, 39.7391536, -104.9847033, '']\n",
      "University of Rhode Island (41.8295635, -71.4162769)\n",
      "[\"Staying w a nigga for the night for a spark up lmaoooooo bitch please don't get me staaaaarted\", 'Wed Aug 17 13:38:37 +0000 2016', None, 0, 0, 'kbellexx', 'University of Rhode Island', 'en', 9689, True, 60015, 41.8295635, -71.4162769, '']\n",
      "Boston area (14.5879878, 120.9677966)\n",
      "['#Psychosocial #BigData = better patient care/outcomes @MandiBPro @ProfAmyE @keenzai https://t.co/1ImD2zNXmA #hcldr #hit #healthcare #nih', 'Wed Aug 17 13:38:39 +0000 2016', None, 0, 0, 'mbschoening', 'Boston area', 'en', 221, True, 683, 14.5879878, 120.9677966, '#Psychosocial #BigData #hcldr #hit #healthcare #nih']\n",
      "Valparaiso, Chile (-33.0462474, -71.6198031)\n",
      "['RT @BestMovieLine: Monty Python and the Holy Grail https://t.co/wHZ2kHAzy5', 'Wed Aug 17 13:38:41 +0000 2016', None, 0, 0, 'TheNickRamirez', 'Valparaiso, Chile', 'es', 569, False, 9973, -33.0462474, -71.6198031, '']\n",
      "San Francisco, CA (37.7792808, -122.4192362)\n",
      "['idhstg: 1ClickSparkCluster for Your Big Data Center Cloud - https://t.co/Xt9pA8vyao Global Marketing Kate Gillespie: https://t.co/EW3O6aTXJE', 'Wed Aug 17 13:38:45 +0000 2016', None, 0, 0, 'CloudataNow', 'San Francisco, CA', 'en', 880, False, 2066879, 37.7792808, -122.4192362, '']\n",
      "Oregon, USA (43.9792797, -120.7372569)\n",
      "['especially when you are buying BIG DATA?', 'Wed Aug 17 13:38:46 +0000 2016', None, 0, 0, 'ficoshutdown181', 'Oregon, USA', 'en', 1545, False, 24460, 43.9792797, -120.7372569, '']\n",
      "São Paulo, Brasil (-23.5506506, -46.6333823)\n",
      "['This \"hack\" should be turned in to an official #python PEP, so useful (even hacky) https://t.co/GuWFCdRJ73', 'Wed Aug 17 13:38:47 +0000 2016', None, 0, 0, 'rochacbruno', 'São Paulo, Brasil', 'pt', 2580, True, 24503, -23.5506506, -46.6333823, '#python']\n",
      "∞ НσρєѕαηDяєαмs∞ 0\n",
      "San Francisco, CA (37.7792808, -122.4192362)\n",
      "['cabhijeet: 1ClickKafkaCluster for Your Big Data Center Cloud - https://t.co/nw2oSUiyRB Start-up Entrepreneur: 2: https://t.co/BWQvuu1iBw', 'Wed Aug 17 13:38:52 +0000 2016', None, 0, 0, 'CloudataNow', 'San Francisco, CA', 'en', 880, False, 2066880, 37.7792808, -122.4192362, '']\n",
      "instagram: ashleyhollins 0\n",
      "Saint Simons Island, GA (31.2182863, -81.3612076)\n",
      "['This #job might be a great fit for you: Software Engineer-Hadoop-ETL - https://t.co/8S5e2eD2A1 #IT #Newton, MA https://t.co/7RF1JUGknt', 'Wed Aug 17 13:38:57 +0000 2016', {'type': 'Point', 'coordinates': [-70.963869, 42.267327]}, 0, 0, 'FTGiGSJobs', 'Saint Simons Island, GA', 'en', 1167, True, 8687, 31.2182863, -81.3612076, '#job #IT #Newton,']\n",
      "France (46.603354, 1.8883335)\n",
      "['Why Athletes are using Big Data and Analytics to win Olympic Games? #BigData #Rio2016 https://t.co/hG7OGQAs2f', 'Wed Aug 17 13:39:00 +0000 2016', None, 0, 0, 'CharleneMaoFR', 'France', 'en', 37, False, 112, 46.603354, 1.8883335, '#BigData #Rio2016']\n",
      "Bangalore, India (12.9791198, 77.5912997)\n",
      "['@QNAP_nas debuts double server TDS-16489U featuring dual @Intel #Xeon E5 #CPU for #bigdata computing #datacenter https://t.co/j07HdOEeJ7', 'Wed Aug 17 13:39:03 +0000 2016', None, 0, 0, 'AnnaRibeiro9', 'Bangalore, India', 'en', 501, False, 10308, 12.9791198, 77.5912997, '#Xeon #CPU #bigdata #datacenter']\n",
      "London, England (51.5073219, -0.1276473)\n",
      "['RT @HeathWallace: Five interesting ways tech is being used in sports https://t.co/suFSqAVY7B via @techworldnews', 'Wed Aug 17 13:39:05 +0000 2016', None, 0, 0, 'techworldnews', 'London, England', 'en', 13110, True, 15711, 51.5073219, -0.1276473, '']\n",
      "Johnston, IA (41.6731523, -93.6973394)\n",
      "[\"RT @craigbrownphd: Amazon Kinesis Analytics and the road to Big Data's killer app: Kinesis Analytics makes i... https://t.co/WOUHY8eXS9 #Bi…\", 'Wed Aug 17 13:39:06 +0000 2016', None, 0, 0, 'DrewHershey1', 'Johnston, IA', 'en', 252, True, 4141, 41.6731523, -93.6973394, '#Bi…']\n",
      "UK (54.7023545, -3.2765752)\n",
      "[\"RT @TheBeyHiveTeam: And don't come in our mentions trying to spark that old Legion beef. Legion the only 1 keeping ya'll laced with updates…\", 'Wed Aug 17 13:39:06 +0000 2016', None, 0, 0, 'BeyonceBrooklyn', 'UK', 'en', 2413, True, 39281, 54.7023545, -3.2765752, '']\n",
      "Davao City (7.22650725, 125.454887691355)\n",
      "[\"RT @MichelleVito: you show me love never apart, you're always there for me i'm alright. you are the spark 🎶 #LSS\\n@lizasoberano 😍😍 https://t…\", 'Wed Aug 17 13:39:08 +0000 2016', None, 0, 0, 'cardiogirl07', 'Davao City', 'en', 63, False, 14910, 7.22650725, 125.454887691355, '#LSS']\n",
      "New York City (40.7305991, -73.9865811)\n",
      "[\"Check out @govtechnews' article about how government can use big data analytics for the altruistic good of citizens: https://t.co/CeN6Cit4k8\", 'Wed Aug 17 13:39:08 +0000 2016', None, 0, 0, 'SeamlessDocs', 'New York City', 'en', 1038, True, 1172, 40.7305991, -73.9865811, '']\n",
      "Rio de Janeiro (-22.9110136, -43.2093726)\n",
      "['RT @BestMovieLine: Monty Python and the Holy Grail https://t.co/wHZ2kHAzy5', 'Wed Aug 17 13:39:17 +0000 2016', None, 0, 0, 'vinicaz', 'Rio de Janeiro', 'pt', 177, False, 31355, -22.9110136, -43.2093726, '']\n",
      "Dubai, UAE (25.22761165, 55.1750774842824)\n",
      "[\"RT @MichelleVito: you show me love never apart, you're always there for me i'm alright. you are the spark 🎶 #LSS\\n@lizasoberano 😍😍 https://t…\", 'Wed Aug 17 13:39:18 +0000 2016', None, 0, 0, 'AileenJannah', 'Dubai, UAE', 'en', 474, False, 14139, 25.22761165, 55.1750774842824, '#LSS']\n",
      "London, England (51.5073219, -0.1276473)\n",
      "['How Hotels Are Now Benefiting From Big Data https://t.co/73GCacnBUg', 'Wed Aug 17 13:39:18 +0000 2016', None, 0, 0, 'kortxltd', 'London, England', 'en', 10861, False, 3191, 51.5073219, -0.1276473, '']\n",
      "The Ignited States of America 0\n",
      "San Francisco, CA (37.7792808, -122.4192362)\n",
      "['conosilac: 1ClickKafkaCluster for Your Big Data Center Cloud - https://t.co/nw2oSUA9J9 LG Optimus F3 Virgin Mobile: https://t.co/PF7oTOy5ey', 'Wed Aug 17 13:39:28 +0000 2016', None, 0, 0, 'CloudataNow', 'San Francisco, CA', 'en', 880, False, 2066884, 37.7792808, -122.4192362, '']\n",
      "Worthington/Columbus (39.99389515, -83.0124866134615)\n",
      "['1979  Monty Python\\'s \"Life of Brian\" premieres \"Always Look On The Bright Side Of Life\" Eric Idle  https://t.co/TItYPh5w1A', 'Wed Aug 17 13:39:30 +0000 2016', None, 0, 0, 'KBow5', 'Worthington/Columbus', 'en', 940, False, 48277, 39.99389515, -83.0124866134615, '']\n",
      "Huntingdon, PA (40.3446332, -78.0281184)\n",
      "['RT @Pitt_ATHLETICS: #PantherNation...Get a closer look at the #PittRetro uniforms: https://t.co/mQAGZnGUL4 https://t.co/ScocSHNYU2', 'Wed Aug 17 13:39:34 +0000 2016', None, 0, 0, 'FragelloLA', 'Huntingdon, PA', 'en', 573, True, 10574, 40.3446332, -78.0281184, '#PantherNation...Get #PittRetro']\n",
      "New York City (40.7305991, -73.9865811)\n",
      "['‘Big Data’ has quickly become an outdated, catch-all phrase for online marketers #Content https://t.co/hcIEVGkfqC https://t.co/n9UZZipfJx', 'Wed Aug 17 13:39:45 +0000 2016', None, 0, 0, 'Jon_Gelberg', 'New York City', 'en', 1379, True, 2674, 40.7305991, -73.9865811, '#Content']\n",
      "Winnipeg, MB (49.8833343, -97.166674)\n",
      "['@reggiewatts @_liooil sf? Spark Fun?', 'Wed Aug 17 13:39:50 +0000 2016', None, 0, 0, '3D_Solutions', 'Winnipeg, MB', 'en', 128, False, 171, 49.8833343, -97.166674, '']\n",
      "Mountain View, CA (37.3855745, -122.0820499)\n",
      "['#raspberry #tech #pi - Python • Help programming dht11 sensor - https://t.co/BkpZjOvbdT - I am having trouble using my dht11 reading as a …', 'Wed Aug 17 13:39:54 +0000 2016', None, 0, 0, 'jimoiduts', 'Mountain View, CA', 'en', 2487, False, 5215, 37.3855745, -122.0820499, '#raspberry #tech #pi']\n",
      "Allí donde solíamos gritar 0\n",
      "Justin followed March 04, 2016 0\n",
      "London, England (51.5073219, -0.1276473)\n",
      "['Efficient String Concatenation in #Python\\n\\n.join() wins ....\\n\\nhttps://t.co/P9FnZlYvvg', 'Wed Aug 17 13:39:58 +0000 2016', None, 0, 0, 'postenterprise', 'London, England', 'en', 431, False, 4166, 51.5073219, -0.1276473, '#Python']\n",
      "Tulsa, Oklahoma (U.S.A.) 0\n",
      "Florida, USA (27.7567667, -81.4639834)\n",
      "['Lucky me https://t.co/jciBtpn7wS', 'Wed Aug 17 13:40:01 +0000 2016', None, 0, 0, 'isabellajcurtis', 'Florida, USA', 'en', 56, False, 97, 27.7567667, -81.4639834, '']\n",
      "Australia (-24.7761085, 134.755)\n",
      "['#python_assignment and submission deadline is  close. Get help from python experts https://t.co/07lrFZ05et', 'Wed Aug 17 13:40:01 +0000 2016', None, 0, 0, 'Essay_Corp', 'Australia', 'en', 914, False, 4439, -24.7761085, 134.755, '#python_assignment']\n",
      "Houston Texas Area 0\n",
      "Boracay Island, Philippines (11.9693449, 121.922731243477)\n",
      "[\"RT @MichelleVito: you show me love never apart, you're always there for me i'm alright. you are the spark 🎶 #LSS\\n@lizasoberano 😍😍 https://t…\", 'Wed Aug 17 13:40:08 +0000 2016', None, 0, 0, 'BamosNelsa', 'Boracay Island, Philippines', 'en', 228, False, 14650, 11.9693449, 121.922731243477, '#LSS']\n",
      "Virtual World (15.591717, 73.810089)\n",
      "['#science Nearly two decades of data reinforce concerns that pesticides are really bad for bees –… https://t.co/BgiXNXg4D2 #maths #tech', 'Wed Aug 17 13:40:09 +0000 2016', None, 0, 0, 'librarynext', 'Virtual World', 'en', 780, False, 84437, 15.591717, 73.810089, '#science #maths #tech']\n",
      "Central Region, Singapore (1.28584945, 103.806995929441)\n",
      "[\"RT @ULTIMATE_LQFANB: I made a cover of SPARK. Hope it's not too offensive to the ears 🙈😁\\n\\nArt by @mspainteilyn ✏\\n\\n@lizasoberano 💙 https://t…\", 'Wed Aug 17 13:40:10 +0000 2016', None, 0, 0, 'hunnycrise', 'Central Region, Singapore', 'en', 183, True, 101125, 1.28584945, 103.806995929441, '']\n",
      "reg's (41.779955, 0.8342466)\n",
      "[\"RT @ULTIMATE_LQFANB: I made a cover of SPARK. Hope it's not too offensive to the ears 🙈😁\\n\\nArt by @mspainteilyn ✏\\n\\n@lizasoberano 💙 https://t…\", 'Wed Aug 17 13:40:11 +0000 2016', None, 0, 0, 'onetwotria', \"reg's\", 'en', 563, True, 5091, 41.779955, 0.8342466, '']\n",
      "Ruins of Valyria 0\n",
      "ph ✈️ sg 0\n",
      "San Francisco, CA (37.7792808, -122.4192362)\n",
      "['EmereoBooks: 1ClickSparkCluster for Your Big Data Center Cloud - https://t.co/Xt9pA8vyao What Wish Knew When Was: https://t.co/G5Dj5WeTeH', 'Wed Aug 17 13:40:15 +0000 2016', None, 0, 0, 'CloudataNow', 'San Francisco, CA', 'en', 880, False, 2066886, 37.7792808, -122.4192362, '']\n",
      "Viersen, Germany (51.2561445, 6.3904284)\n",
      "['6 Great Reasons to Bend Big Data to your Will - markITwrite https://t.co/Q4RMykzFdW #BigData', 'Wed Aug 17 13:40:17 +0000 2016', None, 0, 0, 'Brandsensations', 'Viersen, Germany', 'de', 4677, True, 14972, 51.2561445, 6.3904284, '#BigData']\n",
      "United States (39.7837304, -100.4458824)\n",
      "['# dog #python #newvideo Animal Fight to Death - Dog vs Python https://t.co/6eZ0Cyj3DV', 'Wed Aug 17 13:40:17 +0000 2016', None, 0, 0, 'SinclairOZ', 'United States', 'en', 37, True, 1331, 39.7837304, -100.4458824, '# #python #newvideo']\n",
      "under ur bed 0\n",
      "Puerto Princesa City (9.8688777, 118.7479986)\n",
      "[\"RT @ULTIMATE_LQFANB: I made a cover of SPARK. Hope it's not too offensive to the ears 🙈😁\\n\\nArt by @mspainteilyn ✏\\n\\n@lizasoberano 💙 https://t…\", 'Wed Aug 17 13:40:19 +0000 2016', None, 0, 0, 'JusFuertes', 'Puerto Princesa City', 'en', 403, True, 3007, 9.8688777, 118.7479986, '']\n",
      "614✈️302/336 (13.7979205, 100.5880152)\n",
      "['Great movie😂😂 https://t.co/V8pdVeMgR1', 'Wed Aug 17 13:40:21 +0000 2016', None, 0, 0, 'LPerez400m', '614✈️302/336', 'en', 1802, True, 52931, 13.7979205, 100.5880152, '']\n",
      "Qatar doha, h& E 0\n",
      "Baguio City, Cordillera Admin Region 0\n",
      "614✈️302/336 (13.7979205, 100.5880152)\n",
      "['RT @BestMovieLine: Monty Python and the Holy Grail https://t.co/wHZ2kHAzy5', 'Wed Aug 17 13:40:24 +0000 2016', None, 0, 0, 'LPerez400m', '614✈️302/336', 'en', 1802, True, 52932, 13.7979205, 100.5880152, '']\n",
      "Salford (53.4877463, -2.289192)\n",
      "['RT @Fight4UK: #Ukip 🇬🇧\\n\\nJean-Claude Juncker warned he could spark European CIVIL WAR with arrogant Brexit stance https://t.co/aKHFZviimU', 'Wed Aug 17 13:40:26 +0000 2016', None, 0, 0, 'ONCEaBLUE2012', 'Salford', 'en-gb', 40, True, 703, 53.4877463, -2.289192, '#Ukip']\n",
      "USA (39.7837304, -100.4458824)\n",
      "['@TacticalTony702 @amountainman69 @bikesnbullets17 They spray our skies daily then everything erupts like crazy w/a little spark', 'Wed Aug 17 13:40:29 +0000 2016', None, 0, 0, 'PoliticalPort', 'USA', 'en', 2606, False, 52045, 39.7837304, -100.4458824, '']\n",
      "カラ松の心 0\n",
      "sa bahay (12.6369835, 124.437435426217)\n",
      "[\"RT @ULTIMATE_LQFANB: I made a cover of SPARK. Hope it's not too offensive to the ears 🙈😁\\n\\nArt by @mspainteilyn ✏\\n\\n@lizasoberano 💙 https://t…\", 'Wed Aug 17 13:40:33 +0000 2016', None, 0, 0, 'Trishhhh11', 'sa bahay', 'en', 12, False, 2024, 12.6369835, 124.437435426217, '']\n",
      "Quezon Quezon (14.066667, 122.133333)\n",
      "['RT @lizasoberano: Listen to \"Spark,\" my single from the Dolce Amore OST album - now on Spotify. Physical release on August 19! ❤️ https://t…', 'Wed Aug 17 13:40:33 +0000 2016', None, 0, 0, 'rolainelorraine', 'Quezon Quezon', 'en', 354, True, 10313, 14.066667, 122.133333, '']\n",
      "Baguio City, Cordillera Admin Region 0\n",
      "Madrid (40.4167047, -3.7035824)\n",
      "['The many layers of NoSQL big data security - Gemalto blog #bigdata - https://t.co/LVqiwKGWHJ https://t.co/QwT7llTHdd', 'Wed Aug 17 13:40:34 +0000 2016', None, 0, 0, 'ElsaToutlemonde', 'Madrid', 'en', 210, True, 473, 40.4167047, -3.7035824, '#bigdata']\n",
      "Los Angeles, CA (34.0543942, -118.2439408)\n",
      "[\"RT @MichelleVito: you show me love never apart, you're always there for me i'm alright. you are the spark 🎶 #LSS\\n@lizasoberano 😍😍 https://t…\", 'Wed Aug 17 13:40:36 +0000 2016', None, 0, 0, 'KingMylene', 'Los Angeles, CA', 'en', 12, False, 1360, 34.0543942, -118.2439408, '#LSS']\n",
      "主に本アカの方 0\n",
      "New York, USA (40.7305991, -73.9865811)\n",
      "['RT @machinelearnbot: Guide To High Performance Distributed Computing: Case Studies With Hadoop, Scalding A here  https://t.co/UVwg4H1xH1 #h…', 'Wed Aug 17 13:40:37 +0000 2016', None, 0, 0, 'CornellMBA_IC', 'New York, USA', 'en', 1834, True, 19132, 40.7305991, -73.9865811, '#h…']\n",
      "At the crossroads.. (54.2382505, -2.9193406)\n",
      "[\"RT @ULTIMATE_LQFANB: I made a cover of SPARK. Hope it's not too offensive to the ears 🙈😁\\n\\nArt by @mspainteilyn ✏\\n\\n@lizasoberano 💙 https://t…\", 'Wed Aug 17 13:40:38 +0000 2016', None, 0, 0, 'allybc17', 'At the crossroads..', 'en', 33, False, 3023, 54.2382505, -2.9193406, '']\n",
      "Calamba City, Calabarzon (14.20332695, 121.15481880539)\n",
      "[\"RT @ULTIMATE_LQFANB: I made a cover of SPARK. Hope it's not too offensive to the ears 🙈😁\\n\\nArt by @mspainteilyn ✏\\n\\n@lizasoberano 💙 https://t…\", 'Wed Aug 17 13:40:38 +0000 2016', None, 0, 0, 'iamkathlene0314', 'Calamba City, Calabarzon', 'en', 2, False, 1, 14.20332695, 121.15481880539, '']\n",
      "092815 0\n",
      "55062 Garner Plain Suite 905\n",
      "New Michael, HI 34904-5445 0\n",
      "nuggets (42.3485752, -71.0943232)\n",
      "[\"RT @ULTIMATE_LQFANB: I made a cover of SPARK. Hope it's not too offensive to the ears 🙈😁\\n\\nArt by @mspainteilyn ✏\\n\\n@lizasoberano 💙 https://t…\", 'Wed Aug 17 13:40:40 +0000 2016', None, 0, 0, 'soberabno', 'nuggets', 'en', 1158, True, 335, 42.3485752, -71.0943232, '']\n",
      "Pila Laguna  (14.2374875, 121.3618083)\n",
      "[\"RT @ULTIMATE_LQFANB: I made a cover of SPARK. Hope it's not too offensive to the ears 🙈😁\\n\\nArt by @mspainteilyn ✏\\n\\n@lizasoberano 💙 https://t…\", 'Wed Aug 17 13:40:42 +0000 2016', None, 0, 0, 'LIZAnianzLguna', 'Pila Laguna ', 'en', 2925, False, 6355, 14.2374875, 121.3618083, '']\n",
      "LizQuen Universe 0\n",
      "west tokyo (35.666924, 139.724555)\n",
      "['RT @MongoDB: #MongoDB named a leader in The @Forrester Wave: #BigData #NoSQL Q3 2016\\u200b. Download it now: https://t.co/in4nG37gX2 https://t.c…', 'Wed Aug 17 13:40:45 +0000 2016', None, 0, 0, 'jeanepaul', 'west tokyo', 'en', 717, True, 55698, 35.666924, 139.724555, '#MongoDB #BigData #NoSQL']\n",
      "New York, USA (40.7305991, -73.9865811)\n",
      "['RT @machinelearnbot: Hadoop Big Data Interview Questions (illustrated): Shyam Mallesh here  https://t.co/m1h4dyxnXd #hadoop @machinelearnbot', 'Wed Aug 17 13:40:46 +0000 2016', None, 0, 0, 'CornellMBA_IC', 'New York, USA', 'en', 1834, True, 19135, 40.7305991, -73.9865811, '#hadoop']\n",
      "Paris, France (48.8566101, 2.3514992)\n",
      "[\"RT @ULTIMATE_LQFANB: I made a cover of SPARK. Hope it's not too offensive to the ears 🙈😁\\n\\nArt by @mspainteilyn ✏\\n\\n@lizasoberano 💙 https://t…\", 'Wed Aug 17 13:40:46 +0000 2016', None, 0, 0, 'PrettyVessa', 'Paris, France', 'en', 181, False, 1294, 48.8566101, 2.3514992, '']\n",
      "Dumaguete City (9.3054777, 123.3080446)\n",
      "['Walay spark ang born for you! 😟', 'Wed Aug 17 13:40:48 +0000 2016', None, 0, 0, 'estano2009', 'Dumaguete City', 'en', 80, True, 991, 9.3054777, 123.3080446, '']\n",
      "Detroit (42.3486635, -83.0567374)\n",
      "[\"RT @craigbrownphd: Amazon Kinesis Analytics and the road to Big Data's killer app: Kinesis Analytics makes i... https://t.co/WOUHY8eXS9 #Bi…\", 'Wed Aug 17 13:40:52 +0000 2016', None, 0, 0, 'iresonm6', 'Detroit', 'en', 56, True, 3360, 42.3486635, -83.0567374, '#Bi…']\n",
      "LizQuen Universe 0\n",
      "San Francisco, CA (37.7792808, -122.4192362)\n",
      "['_moam4: HyperScale HyperConvergence Big Data Cloud Advanced Training - https://t.co/fFZnt8PZ0S 19th Wife: A Novel: https://t.co/sPjKcNem7e', 'Wed Aug 17 13:40:56 +0000 2016', None, 0, 0, 'CloudataNow', 'San Francisco, CA', 'en', 880, False, 2066889, 37.7792808, -122.4192362, '']\n",
      "Pakistan | Kashmir| (34.3752779, 73.4730602)\n",
      "['RT @ayeshakhan251: Burqa clad Extremist  #Hindu from #RSS caught Red handed while Throwing Beef at Hindu Temple to spark &amp; Muslim riots htt…', 'Wed Aug 17 13:40:57 +0000 2016', None, 0, 0, 'Ashikhan251', 'Pakistan | Kashmir|', 'en', 24711, True, 22722, 34.3752779, 73.4730602, '#Hindu #RSS']\n",
      "Greater Seattle Area 0\n",
      "E (8.166667, -69.8333329)\n",
      "[\"RT @ULTIMATE_LQFANB: I made a cover of SPARK. Hope it's not too offensive to the ears 🙈😁\\n\\nArt by @mspainteilyn ✏\\n\\n@lizasoberano 💙 https://t…\", 'Wed Aug 17 13:40:58 +0000 2016', None, 0, 0, 'sarinasaito_', 'E', 'en', 1029, True, 54555, 8.166667, -69.8333329, '']\n",
      "Wonderland ✨ (16.3131877, 121.1297478)\n",
      "[\"RT @ULTIMATE_LQFANB: I made a cover of SPARK. Hope it's not too offensive to the ears 🙈😁\\n\\nArt by @mspainteilyn ✏\\n\\n@lizasoberano 💙 https://t…\", 'Wed Aug 17 13:40:58 +0000 2016', None, 0, 0, 'Iam_Hayzeel', 'Wonderland ✨', 'en', 129, False, 1819, 16.3131877, 121.1297478, '']\n",
      "Philippines (12.7503486, 122.7312101)\n",
      "[\"RT @ULTIMATE_LQFANB: I made a cover of SPARK. Hope it's not too offensive to the ears 🙈😁\\n\\nArt by @mspainteilyn ✏\\n\\n@lizasoberano 💙 https://t…\", 'Wed Aug 17 13:41:02 +0000 2016', None, 0, 0, 'dendenmarieampo', 'Philippines', 'en', 67, False, 2049, 12.7503486, 122.7312101, '']\n",
      "필리핀 (12.7503486, 122.7312101)\n",
      "[\"RT @ULTIMATE_LQFANB: I made a cover of SPARK. Hope it's not too offensive to the ears 🙈😁\\n\\nArt by @mspainteilyn ✏\\n\\n@lizasoberano 💙 https://t…\", 'Wed Aug 17 13:41:04 +0000 2016', None, 0, 0, 'vLaineUI', '필리핀', 'en', 123, True, 2381, 12.7503486, 122.7312101, '']\n",
      "NY (43.1561681, -75.8449945)\n",
      "['RT @Dory: It\\'s always Florida. Always.  RT ”@SeriousStrange: A 17ft python pregnant with 87 eggs was caught in Florida.\" https://t.co/pXJfj…', 'Wed Aug 17 13:41:04 +0000 2016', None, 0, 0, 'Rebeccaharrisx', 'NY', 'en', 546, True, 54527, 43.1561681, -75.8449945, '']\n",
      "Texas (31.8160381, -99.5120985)\n",
      "['RT @PGOTeamValor: Every revolution begins with a spark. #TeamValor https://t.co/yvbBmfmFHu', 'Wed Aug 17 13:41:04 +0000 2016', None, 0, 0, 'Miss_Plain_Jane', 'Texas', 'en', 10, False, 113, 31.8160381, -99.5120985, '#TeamValor']\n",
      "Philippines (12.7503486, 122.7312101)\n",
      "[\"RT @ULTIMATE_LQFANB: I made a cover of SPARK. Hope it's not too offensive to the ears 🙈😁\\n\\nArt by @mspainteilyn ✏\\n\\n@lizasoberano 💙 https://t…\", 'Wed Aug 17 13:41:05 +0000 2016', None, 0, 0, 'zenny_joy', 'Philippines', 'en', 77, True, 295, 12.7503486, 122.7312101, '']\n",
      "sa bahay nag t-twitter,Manila 0\n",
      "balungao, pangasinan (15.8983735, 120.6724552)\n",
      "[\"RT @ULTIMATE_LQFANB: I made a cover of SPARK. Hope it's not too offensive to the ears 🙈😁\\n\\nArt by @mspainteilyn ✏\\n\\n@lizasoberano 💙 https://t…\", 'Wed Aug 17 13:41:06 +0000 2016', None, 0, 0, 'aeinkixzer', 'balungao, pangasinan', 'en', 13, False, 65, 15.8983735, 120.6724552, '']\n",
      "Qatar doha, h& E 0\n",
      "LizQuen's 0\n",
      "Pasig city, Philippines (11.1075813, 122.4738288)\n",
      "[\"RT @MichelleVito: you show me love never apart, you're always there for me i'm alright. you are the spark 🎶 #LSS\\n@lizasoberano 😍😍 https://t…\", 'Wed Aug 17 13:41:07 +0000 2016', None, 0, 0, 'LReigna', 'Pasig city, Philippines', 'en', 35, False, 5455, 11.1075813, 122.4738288, '#LSS']\n",
      "PaSaWaY Universe 0\n",
      "7430 Ikast Denmark Europe 0\n",
      "الدوحة, دولة قطر (25.2856329, 51.5264162)\n",
      "[\"RT @ULTIMATE_LQFANB: I made a cover of SPARK. Hope it's not too offensive to the ears 🙈😁\\n\\nArt by @mspainteilyn ✏\\n\\n@lizasoberano 💙 https://t…\", 'Wed Aug 17 13:41:12 +0000 2016', None, 0, 0, 'IsabellaAnne5', 'الدوحة, دولة قطر', 'en', 0, False, 38, 25.2856329, 51.5264162, '']\n",
      "Paris old EU 0\n",
      "spark  (37.7707735, -122.391549575732)\n",
      "[\"RT @ULTIMATE_LQFANB: I made a cover of SPARK. Hope it's not too offensive to the ears 🙈😁\\n\\nArt by @mspainteilyn ✏\\n\\n@lizasoberano 💙 https://t…\", 'Wed Aug 17 13:41:19 +0000 2016', None, 0, 0, 'lizasobayrano', 'spark ', 'en', 858, False, 18814, 37.7707735, -122.391549575732, '']\n",
      "Dolce Amore (37.7892086, -122.4223588)\n",
      "[\"RT @ULTIMATE_LQFANB: I made a cover of SPARK. Hope it's not too offensive to the ears 🙈😁\\n\\nArt by @mspainteilyn ✏\\n\\n@lizasoberano 💙 https://t…\", 'Wed Aug 17 13:41:19 +0000 2016', None, 0, 0, 'lizquen_kyla', 'Dolce Amore', 'ja', 498, True, 6155, 37.7892086, -122.4223588, '']\n",
      "Republic of the Philippines (12.7503486, 122.7312101)\n",
      "[\"RT @ULTIMATE_LQFANB: I made a cover of SPARK. Hope it's not too offensive to the ears 🙈😁\\n\\nArt by @mspainteilyn ✏\\n\\n@lizasoberano 💙 https://t…\", 'Wed Aug 17 13:41:23 +0000 2016', None, 0, 0, 'kimlugylle_', 'Republic of the Philippines', 'en', 393, False, 1448, 12.7503486, 122.7312101, '']\n",
      "Gurgaon, Haryana, India (28.4646148, 77.0299194)\n",
      "['How can we get python3 docs to show up before python2 docs in google? https://t.co/1uq7xCXjmT #Python \\n\\nWith extremely small exception, I …', 'Wed Aug 17 13:41:23 +0000 2016', None, 0, 0, 'programmingncr', 'Gurgaon, Haryana, India', 'en', 590, False, 111575, 28.4646148, 77.0299194, '#Python']\n",
      "San Mateo, CA (37.496904, -122.3330572)\n",
      "['#MotorolaMobility NZ firefighters adopt Motorola and Spark radio. Read more: https://t.co/h0DU4tZjnJ', 'Wed Aug 17 13:41:25 +0000 2016', None, 0, 0, 'tc_equipment', 'San Mateo, CA', 'en', 152, False, 37012, 37.496904, -122.3330572, '#MotorolaMobility']\n",
      "Bipolar (39.4737322, -0.3818643)\n",
      "[\"RT @ULTIMATE_LQFANB: I made a cover of SPARK. Hope it's not too offensive to the ears 🙈😁\\n\\nArt by @mspainteilyn ✏\\n\\n@lizasoberano 💙 https://t…\", 'Wed Aug 17 13:41:29 +0000 2016', None, 0, 0, 'Desdes_Gil', 'Bipolar', 'en', 455, False, 15775, 39.4737322, -0.3818643, '']\n",
      "Navotas City (14.6569825, 120.9478036)\n",
      "[\"RT @ULTIMATE_LQFANB: I made a cover of SPARK. Hope it's not too offensive to the ears 🙈😁\\n\\nArt by @mspainteilyn ✏\\n\\n@lizasoberano 💙 https://t…\", 'Wed Aug 17 13:41:32 +0000 2016', None, 0, 0, 'maevi_rizza', 'Navotas City', 'en', 28, False, 112, 14.6569825, 120.9478036, '']\n",
      "Sa baba ni Liza 0\n",
      "Munich, Bavaria (48.1371079, 11.5753822)\n",
      "[\"RT @openshift: Don't miss this new #OpenShift Commons #BigData session in a couple of hours. https://t.co/8ZcTiNQP2z\", 'Wed Aug 17 13:41:35 +0000 2016', None, 0, 0, 'Joerg1968', 'Munich, Bavaria', 'en', 298, True, 4491, 48.1371079, 11.5753822, '#OpenShift #BigData']\n",
      "Kansas, USA (38.27312, -98.5821871)\n",
      "['RT @SeriousStrange: A 17ft python pregnant with 87 eggs was caught in Florida. https://t.co/MM8milG7TV', 'Wed Aug 17 13:41:36 +0000 2016', None, 0, 0, '_PomegranateJas', 'Kansas, USA', 'en', 985, True, 23276, 38.27312, -98.5821871, '']\n",
      "PH (12.44249325, 122.160395163807)\n",
      "[\"RT @MichelleVito: you show me love never apart, you're always there for me i'm alright. you are the spark 🎶 #LSS\\n@lizasoberano 😍😍 https://t…\", 'Wed Aug 17 13:41:38 +0000 2016', None, 0, 0, 'lizasoberano_ph', 'PH', 'en', 10657, True, 24768, 12.44249325, 122.160395163807, '#LSS']\n",
      "Berlin, London, Boston (42.3648603, -71.5938478)\n",
      "['Rethinking Chilled Water Temperatures Can Bring Big Savings in Data Center Cooling: There’s no sug... https://t.co/tEt5iTXYLO #IoT #IIoT', 'Wed Aug 17 13:41:38 +0000 2016', None, 0, 0, 'weCONECTMedia', 'Berlin, London, Boston', 'de', 23828, False, 9047, 42.3648603, -71.5938478, '#IoT #IIoT']\n",
      "USA (39.7837304, -100.4458824)\n",
      "['#Why does my nested loop throw an exception in Python?\\n#Tech #Internet #Question #HowTO\\nhttps://t.co/9q4or5C0r6', 'Wed Aug 17 13:41:40 +0000 2016', None, 0, 0, 'UriSamuels', 'USA', 'en', 386, False, 442518, 39.7837304, -100.4458824, '#Why #Tech #Internet #Question #HowTO']\n",
      "Valenzuela City (14.5711849, 121.0241195)\n",
      "[\"RT @ULTIMATE_LQFANB: I made a cover of SPARK. Hope it's not too offensive to the ears 🙈😁\\n\\nArt by @mspainteilyn ✏\\n\\n@lizasoberano 💙 https://t…\", 'Wed Aug 17 13:41:46 +0000 2016', None, 0, 0, 'ViaCiashet', 'Valenzuela City', 'en', 88, True, 970, 14.5711849, 121.0241195, '']\n",
      "Pakistan (30.3308401, 71.247499)\n",
      "['Big Data Byte: Analyzing the Medicaid expansion population https://t.co/zyURTfOm7T via @HealthITNews', 'Wed Aug 17 13:41:49 +0000 2016', None, 0, 0, 'MrMazharShah', 'Pakistan', 'en', 6686, False, 68764, 30.3308401, 71.247499, '']\n",
      "1.usa.gov/asaOYG bit.ly/8D3pYx 0\n",
      "San Francisco, CA (37.7792808, -122.4192362)\n",
      "['PR__Backlinks: Live Streaming Your Event to the World - https://t.co/wrTECwv9Jm Hadoop Action Chuck Lam 2010: https://t.co/3FcjHodcCV', 'Wed Aug 17 13:41:51 +0000 2016', None, 0, 0, 'CloudataNow', 'San Francisco, CA', 'en', 880, False, 2066890, 37.7792808, -122.4192362, '']\n",
      "india (22.3511148, 78.6677428)\n",
      "['RT @Hema_SK_: Started frm t Spark! Now his films Never fail to Do big in BoxOffice😎 Yes he is a Prince @Siva_Kartikeyan Na😎 #PrinceOfKollyw…', 'Wed Aug 17 13:41:53 +0000 2016', None, 0, 0, 'indu_sk', 'india', 'en', 1637, True, 49079, 22.3511148, 78.6677428, '#PrinceOfKollyw…']\n",
      "Coningsby, Lincs 0\n",
      "Sa Puso Mo 0\n",
      "Grand Rapids, MI (42.9632405, -85.6678638)\n",
      "[\"RT @openshift: Don't miss this new #OpenShift Commons #BigData session in a couple of hours. https://t.co/8ZcTiNQP2z\", 'Wed Aug 17 13:41:58 +0000 2016', None, 0, 0, 'JoshuaAllenHolm', 'Grand Rapids, MI', 'en', 74, False, 142, 42.9632405, -85.6678638, '#OpenShift #BigData']\n",
      "Sydney, New South Wales (-33.8679573, 151.210047)\n",
      "[\"@SkyNews Holy cr@p that's a looot of people. Thought networks &amp; big data were on the rise?\", 'Wed Aug 17 13:42:00 +0000 2016', None, 0, 0, 'ShameTorturers', 'Sydney, New South Wales', 'en', 85, False, 1428, -33.8679573, 151.210047, '']\n",
      "Bengaluru, India (12.9791198, 77.5912997)\n",
      "['How can I check that a list has one and only one truthy value? #python https://t.co/1TWPVSTrZJ', 'Wed Aug 17 13:42:00 +0000 2016', None, 0, 0, 'PythonQnA', 'Bengaluru, India', 'en', 128, False, 12454, 12.9791198, 77.5912997, '#python']\n",
      "Dammam Saudi Arabia  (26.4367824, 50.1039991)\n",
      "['RT @lizasoberano: Listen to \"Spark,\" my single from the Dolce Amore OST album - now on Spotify. Physical release on August 19! ❤️ https://t…', 'Wed Aug 17 13:42:04 +0000 2016', None, 0, 0, 'kayella11_me', 'Dammam Saudi Arabia ', 'en', 66, False, 2952, 26.4367824, 50.1039991, '']\n",
      "Wonderland (16.3131877, 121.1297478)\n",
      "['RT @lizasoberano: Listen to \"Spark,\" my single from the Dolce Amore OST album - now on Spotify. Physical release on August 19! ❤️ https://t…', 'Wed Aug 17 13:42:04 +0000 2016', None, 0, 0, 'mamaradloicka_', 'Wonderland', 'en', 641, True, 40343, 16.3131877, 121.1297478, '']\n",
      "Appleton, WI (44.2611337, -88.4067603)\n",
      "['Use Big Data to Create Value for Customers, Not Just Target Them via @HarvardBiz https://t.co/G5IWo6Qqj4', 'Wed Aug 17 13:42:06 +0000 2016', None, 0, 0, 'CarlAckermann', 'Appleton, WI', 'en', 333, False, 382, 44.2611337, -88.4067603, '']\n",
      "Who Knows Where I am? (43.6848045, -79.6150858)\n",
      "[\"Tis' but a SCRATCH! https://t.co/mlDXrR1yWT\", 'Wed Aug 17 13:42:06 +0000 2016', None, 0, 0, 'Capotain_Media', 'Who Knows Where I am?', 'en', 829, False, 632, 43.6848045, -79.6150858, '']\n",
      "Canada (61.0666922, -107.991707)\n",
      "[\"RT @ULTIMATE_LQFANB: I made a cover of SPARK. Hope it's not too offensive to the ears 🙈😁\\n\\nArt by @mspainteilyn ✏\\n\\n@lizasoberano 💙 https://t…\", 'Wed Aug 17 13:42:07 +0000 2016', None, 0, 0, 'jazzicban', 'Canada', 'en', 48, False, 271, 61.0666922, -107.991707, '']\n",
      "Mandaluyong City l Baguio City 0\n",
      "Silay City, Western Visayas 0\n",
      "Marikina City (14.6640304, 121.101115169968)\n",
      "[\"RT @MichelleVito: you show me love never apart, you're always there for me i'm alright. you are the spark 🎶 #LSS\\n@lizasoberano 😍😍 https://t…\", 'Wed Aug 17 13:42:16 +0000 2016', None, 0, 0, 'rominapmrtnz', 'Marikina City', 'en', 111, False, 22371, 14.6640304, 121.101115169968, '#LSS']\n",
      "Bogor Agricultural University 0\n",
      "Teaneck, USA (40.8975992, -74.0159726)\n",
      "[\"We're #hiring! Click to apply: Python Admin - https://t.co/DX6gz0tSl8 #Job #IT #Riverwoods, IL #Jobs\", 'Wed Aug 17 13:42:17 +0000 2016', {'type': 'Point', 'coordinates': [-87.897014, 42.1675254]}, 0, 0, 'USJobsCognizant', 'Teaneck, USA', 'en', 868, True, 11585, 40.8975992, -74.0159726, '#hiring! #Job #IT #Riverwoods, #Jobs']\n",
      "San Francisco, CA (37.7792808, -122.4192362)\n",
      "['BridgetoWealth: Live Streaming Your Event to the World - https://t.co/wrTECwdykM Python 3 al descubierto: https://t.co/zBiRuA1kwR', 'Wed Aug 17 13:42:19 +0000 2016', None, 0, 0, 'CloudataNow', 'San Francisco, CA', 'en', 880, False, 2066892, 37.7792808, -122.4192362, '']\n",
      "San Francisco, CA (37.7792808, -122.4192362)\n",
      "['sonicrank2: 1ClickStormCluster for Your Big Data Center Cloud - https://t.co/uTyoALAWoI 4D Concepts Corner TV Stand: https://t.co/qCGbMeSwNj', 'Wed Aug 17 13:42:20 +0000 2016', None, 0, 0, 'CloudataNow', 'San Francisco, CA', 'en', 880, False, 2066893, 37.7792808, -122.4192362, '']\n",
      "60.152756,24.655643 (60.1526715, 24.6554282)\n",
      "['Interview with #DataScience Hiring Manager: Nick Larusso, Graphiq https://t.co/fkaTe9hr5B', 'Wed Aug 17 13:42:20 +0000 2016', None, 0, 0, 'sakalli', '60.152756,24.655643', 'en', 1402, True, 5768, 60.1526715, 24.6554282, '#DataScience']\n",
      "United States (39.7837304, -100.4458824)\n",
      "['#Technology, #Science New Data Shows #Instagram Stories is Not Slowing #Snapchat Use - Yet … https://t.co/slT498pLLu', 'Wed Aug 17 13:42:24 +0000 2016', None, 0, 0, 'SEMonline4u', 'United States', 'en-gb', 120, False, 1896, 39.7837304, -100.4458824, '#Technology, #Science #Instagram #Snapchat']\n",
      "Williams Bay, WI (42.5780721, -88.5409332)\n",
      "['RT @MongoDB: #MongoDB named a leader in The @Forrester Wave: #BigData #NoSQL Q3 2016\\u200b. Download it now: https://t.co/in4nG37gX2 https://t.c…', 'Wed Aug 17 13:42:25 +0000 2016', None, 0, 0, 'schwartzrw', 'Williams Bay, WI', 'en', 403, False, 1547, 42.5780721, -88.5409332, '#MongoDB #BigData #NoSQL']\n",
      "Clondulane,Fermoy,Co.Cork 0\n",
      "Santo Tomas, Ilocos Region (15.878228, 120.5860753)\n",
      "[\"RT @ULTIMATE_LQFANB: I made a cover of SPARK. Hope it's not too offensive to the ears 🙈😁\\n\\nArt by @mspainteilyn ✏\\n\\n@lizasoberano 💙 https://t…\", 'Wed Aug 17 13:42:27 +0000 2016', None, 0, 0, 'NBarbachano', 'Santo Tomas, Ilocos Region', 'en', 22, False, 23, 15.878228, 120.5860753, '']\n",
      "Zaragoza  (41.6521342, -0.8809427)\n",
      "['#data science #big data - Benchmarking Digital Transformation - https://t.co/zt8kJzZQLq https://t.co/jJ7rNYilGN', 'Wed Aug 17 13:42:34 +0000 2016', None, 0, 0, 'davidjcc_Zgz', 'Zaragoza ', 'es', 6283, True, 582492, 41.6521342, -0.8809427, '#data #big']\n",
      "Caker Towns (51.1489036, -0.9757676)\n",
      "[\"RT @ULTIMATE_LQFANB: I made a cover of SPARK. Hope it's not too offensive to the ears 🙈😁\\n\\nArt by @mspainteilyn ✏\\n\\n@lizasoberano 💙 https://t…\", 'Wed Aug 17 13:42:34 +0000 2016', None, 0, 0, 'iCaKeyouu', 'Caker Towns', 'en', 250, True, 3477, 51.1489036, -0.9757676, '']\n",
      "Hopefully lane three  0\n",
      "San Francisco, CA (37.7792808, -122.4192362)\n",
      "['MoneyOnMobile_: 1ClickSparkCluster for Your Big Data Center Cloud - https://t.co/Xt9pA8vyao More: https://t.co/EkT7homobk', 'Wed Aug 17 13:42:37 +0000 2016', None, 0, 0, 'CloudataNow', 'San Francisco, CA', 'en', 880, False, 2066894, 37.7792808, -122.4192362, '']\n",
      "Hongkong (22.2793278, 114.1628131)\n",
      "[\"RT @ULTIMATE_LQFANB: I made a cover of SPARK. Hope it's not too offensive to the ears 🙈😁\\n\\nArt by @mspainteilyn ✏\\n\\n@lizasoberano 💙 https://t…\", 'Wed Aug 17 13:42:39 +0000 2016', None, 0, 0, '85256875303M', 'Hongkong', 'en', 30, False, 27336, 22.2793278, 114.1628131, '']\n",
      "Paragould, AR (36.0584021, -90.4973285)\n",
      "[\"RT @craigbrownphd: Amazon Kinesis Analytics and the road to Big Data's killer app: Kinesis Analytics makes i... https://t.co/WOUHY8eXS9 #Bi…\", 'Wed Aug 17 13:42:39 +0000 2016', None, 0, 0, 'jennlMlamb', 'Paragould, AR', 'en', 14, True, 1318, 36.0584021, -90.4973285, '#Bi…']\n",
      "England (52.7954791, -0.540240236617432)\n",
      "['Use Big Data to Create Value for Customers, Not Just Target Them https://t.co/A7AALD6DLM', 'Wed Aug 17 13:42:42 +0000 2016', None, 0, 0, 'echostarcat', 'England', 'en', 90, False, 393, 52.7954791, -0.540240236617432, '']\n",
      "Jakarta - Jogja (-7.7991377, 110.3621344)\n",
      "['RT @Dory: It\\'s always Florida. Always.  RT ”@SeriousStrange: A 17ft python pregnant with 87 eggs was caught in Florida.\" https://t.co/pXJfj…', 'Wed Aug 17 13:42:43 +0000 2016', None, 0, 0, 'octafredi17', 'Jakarta - Jogja', 'en', 224, True, 2187, -7.7991377, 110.3621344, '']\n",
      "Glasgow, Scotland (55.856656, -4.2435816)\n",
      "['RT @UofGSciEng: The IBM Bluemix #hackathon on 30/31 Aug @GlasgowCS! Interested in data/computing science &amp; smart cities? Come along! https:…', 'Wed Aug 17 13:42:43 +0000 2016', None, 0, 0, 'LynneBCoSE', 'Glasgow, Scotland', 'en', 119, False, 85, 55.856656, -4.2435816, '#hackathon']\n",
      "Manila City (14.6783319, 121.0649551)\n",
      "['so nice https://t.co/uIIPksn21H', 'Wed Aug 17 13:42:48 +0000 2016', None, 0, 0, 'rose_janrose', 'Manila City', 'en', 51, False, 318, 14.6783319, 121.0649551, '']\n",
      "Dubai, United Arab Emirates (25.2683521, 55.2961962)\n",
      "[\"RT @MzkayeL: #PushAwardsLizQuens cto lizasoberano: RT ULTIMATE_LQFANB: I made a cover of SPARK. Hope it's not too offensive to … https://t.…\", 'Wed Aug 17 13:42:50 +0000 2016', None, 0, 0, 'serten_ibarra', 'Dubai, United Arab Emirates', 'en', 65, False, 9232, 25.2683521, 55.2961962, '#PushAwardsLizQuens']\n",
      "Cincinnati, OH (39.1014537, -84.5124601)\n",
      "['@cincylibrary director Kimberly Fender shares how customer data helps her make big decisions. @OrangeBoyInc https://t.co/Jvh5P0yEqF', 'Wed Aug 17 13:42:51 +0000 2016', None, 0, 0, 'webmastergirl', 'Cincinnati, OH', 'en', 2666, True, 10995, 39.1014537, -84.5124601, '']\n",
      "Europe & UK (52.4897433, -1.8540987)\n",
      "['New #job: Senior Developer - Scala, Java, Big Data, Banking,City of London .. https://t.co/JpSX3YAHcw #jobs #hiring', 'Wed Aug 17 13:42:57 +0000 2016', None, 0, 0, 'TEKsystemsJobs', 'Europe & UK', 'en', 812, False, 315, 52.4897433, -1.8540987, '#job: #jobs #hiring']\n",
      "Findlay, Ohio (41.0413873, -83.6503981)\n",
      "[\"sad news: juice truck won't start for some odd reason. Pretty sure it the humidity/spark plug combo. Closed today :/ https://t.co/1A76QS8WGP\", 'Wed Aug 17 13:42:58 +0000 2016', None, 0, 0, 'JKJuices', 'Findlay, Ohio', 'en', 130, False, 433, 41.0413873, -83.6503981, '']\n",
      "Boise, Idaho (43.61656, -116.2008349)\n",
      "['Now Playing on #UniversityPulse - The Python - Tickley Feather - Tune in at https://t.co/B50ytDApC5', 'Wed Aug 17 13:42:59 +0000 2016', None, 0, 0, 'PlayingPulse', 'Boise, Idaho', 'en', 79, False, 127657, 43.61656, -116.2008349, '#UniversityPulse']\n",
      "MNL Phil 0\n",
      "LizQuen Universe 0\n",
      "Worldwide (53.4575797, -2.226672)\n",
      "[\"RT @openshift: Don't miss this new #OpenShift Commons #BigData session in a couple of hours. https://t.co/8ZcTiNQP2z\", 'Wed Aug 17 13:43:00 +0000 2016', None, 0, 0, 'binaryloom', 'Worldwide', 'en', 2311, False, 29257, 53.4575797, -2.226672, '#OpenShift #BigData']\n",
      "Antartica (-82.1081819, 34.378236)\n",
      "['Big Data: By How Many People Are We Separated On This Planet? - https://t.co/xaiITjnZum', 'Wed Aug 17 13:43:00 +0000 2016', None, 0, 0, 'Ahn_Rho', 'Antartica', 'en', 15, False, 186, -82.1081819, 34.378236, '']\n",
      "Cambridge, UK (52.2033051, 0.124862)\n",
      "['Almost time to sign in to watch the Rothschild webinar - Statistics and Data Science https://t.co/qjuuIA4mii https://t.co/VZY3jAflaE', 'Wed Aug 17 13:43:00 +0000 2016', None, 0, 0, 'NewtonInstitute', 'Cambridge, UK', 'en', 1870, False, 592, 52.2033051, 0.124862, '']\n",
      "San Francisco, CA (37.7792808, -122.4192362)\n",
      "['nwhitington: 1ClickStormCluster for Your Big Data Center Cloud - https://t.co/uTyoALAWoI Python Bibliography: https://t.co/edpKnmByZn', 'Wed Aug 17 13:43:01 +0000 2016', None, 0, 0, 'CloudataNow', 'San Francisco, CA', 'en', 880, False, 2066897, 37.7792808, -122.4192362, '']\n",
      "Long Branch, NJ (40.3042778, -73.9923595)\n",
      "['Within each heart is a spark of the Divine. These sparks of Divinity and love can reach into the darkness and... https://t.co/B81nrWukRL', 'Wed Aug 17 13:43:01 +0000 2016', None, 0, 0, 'kevin_cieri', 'Long Branch, NJ', 'en', 57, False, 5361, 40.3042778, -73.9923595, '']\n",
      "McLean, VA (38.9342888, -77.1776326)\n",
      "['Apply Today: Data Engineer, Apache Spark in McLean, VA https://t.co/OgdrKLbriO #job', 'Wed Aug 17 13:43:06 +0000 2016', None, 0, 0, 'RWard_CapOne', 'McLean, VA', 'en', 83, True, 5022, 38.9342888, -77.1776326, '#job']\n",
      "Portland, OR and Columbus, OH 0\n",
      "cocoon (50.1121813, 8.7147231)\n",
      "[\"RT @ULTIMATE_LQFANB: I made a cover of SPARK. Hope it's not too offensive to the ears 🙈😁\\n\\nArt by @mspainteilyn ✏\\n\\n@lizasoberano 💙 https://t…\", 'Wed Aug 17 13:43:07 +0000 2016', None, 0, 0, 'lizasobrabantot', 'cocoon', 'en', 850, True, 53865, 50.1121813, 8.7147231, '']\n",
      "Yakima, WA (46.601557, -120.510842)\n",
      "['RT @BestMovieLine: Monty Python and the Holy Grail https://t.co/wHZ2kHAzy5', 'Wed Aug 17 13:43:07 +0000 2016', None, 0, 0, 'nick23perry', 'Yakima, WA', 'en', 418, True, 4296, 46.601557, -120.510842, '']\n",
      "Stockholm (59.3251172, 18.0710935)\n",
      "['RT @PeaceOpsCIC: Where are the #Europeans? Will they ever again be big contributors to @UNPeacekeeping?  https://t.co/ohakpBXpDM https://t.…', 'Wed Aug 17 13:43:08 +0000 2016', None, 0, 0, 'FBAFolke', 'Stockholm', 'en', 3594, False, 3920, 59.3251172, 18.0710935, '#Europeans?']\n",
      "Budapest, Magyarország (47.4983815, 19.0404707)\n",
      "['RT @wordpressbot_: Python: For Beginners, Learn Python Fast! Python Programming Language Crash Course  here  https://t.co/UajffKuiBL #javas…', 'Wed Aug 17 13:43:09 +0000 2016', None, 0, 0, 'annatomkaartist', 'Budapest, Magyarország', 'hu', 1198, False, 19629, 47.4983815, 19.0404707, '#javas…']\n",
      "Utrecht, The Netherlands (52.08095165, 5.12768031549829)\n",
      "['RT @Write4Research: Five Minutes with Professor Gary King: Transformational power of big data lies, pure and simple, in its analytics https…', 'Wed Aug 17 13:43:09 +0000 2016', None, 0, 0, 'elfriesen', 'Utrecht, The Netherlands', 'en', 304, True, 5962, 52.08095165, 5.12768031549829, '']\n",
      "Oakland, CA / SFO 0\n",
      "Paris, France (48.8566101, 2.3514992)\n",
      "[\"RT @ULTIMATE_LQFANB: I made a cover of SPARK. Hope it's not too offensive to the ears 🙈😁\\n\\nArt by @mspainteilyn ✏\\n\\n@lizasoberano 💙 https://t…\", 'Wed Aug 17 13:43:11 +0000 2016', None, 0, 0, 'lalainedgs', 'Paris, France', 'en', 857, True, 18906, 48.8566101, 2.3514992, '']\n",
      "sleezburg,VA 0\n",
      "sleezburg,VA 0\n",
      "Pennsylvania, USA (40.9699889, -77.727883)\n",
      "['RT @NYCHBL: RT @HealthITNews: Precision medicine: Analytics, data science and EHRs in the new age https://t.co/Q81uRo6fUv #PopHealthIT', 'Wed Aug 17 13:43:20 +0000 2016', None, 0, 0, 'AGDGRoque', 'Pennsylvania, USA', 'en', 6535, True, 3101, 40.9699889, -77.727883, '#PopHealthIT']\n",
      "Cabangan, Central Luzon (15.1589735, 120.0555503)\n",
      "[\"RT @ULTIMATE_LQFANB: I made a cover of SPARK. Hope it's not too offensive to the ears 🙈😁\\n\\nArt by @mspainteilyn ✏\\n\\n@lizasoberano 💙 https://t…\", 'Wed Aug 17 13:43:20 +0000 2016', None, 0, 0, 'acihrbabe18', 'Cabangan, Central Luzon', 'en', 12, False, 120, 15.1589735, 120.0555503, '']\n",
      "FL (27.7567667, -81.4639834)\n",
      "['RT @Dory: It\\'s always Florida. Always.  RT ”@SeriousStrange: A 17ft python pregnant with 87 eggs was caught in Florida.\" https://t.co/pXJfj…', 'Wed Aug 17 13:43:21 +0000 2016', None, 0, 0, 'meliigalvan17', 'FL', 'en', 487, True, 6709, 27.7567667, -81.4639834, '']\n",
      "LizQuenUniverse 0\n",
      "Palmetto, FL (27.5278065, -82.5836068572292)\n",
      "['The best comedy ever! https://t.co/1jYsmvuoMq', 'Wed Aug 17 13:43:27 +0000 2016', None, 0, 0, 'hight_frank', 'Palmetto, FL', 'en', 119, False, 1486, 27.5278065, -82.5836068572292, '']\n",
      "New York, NY (40.7305991, -73.9865811)\n",
      "[\"RT @chrisfholm: Is it just me, or is Trump's campaign starting to look like the credits to Monty Python and the Holy Grail? #ThoseResponsib…\", 'Wed Aug 17 13:43:30 +0000 2016', None, 0, 0, 'EvieManieri', 'New York, NY', 'en', 740, False, 5351, 40.7305991, -73.9865811, '#ThoseResponsib…']\n",
      "mabalacat city, pampanga (15.2228211, 120.5733105)\n",
      "['Spark🎶', 'Wed Aug 17 13:43:34 +0000 2016', None, 0, 0, 'kpicban', 'mabalacat city, pampanga', 'en', 254, False, 3528, 15.2228211, 120.5733105, '']\n",
      "Budapest, Magyarország (47.4983815, 19.0404707)\n",
      "['RT @pypi_updates2: frida 7.3.1: Inject JavaScript to explore native apps on Windows, Mac, Linux, iOS and A... https://t.co/9Kai4UMthu', 'Wed Aug 17 13:43:34 +0000 2016', None, 0, 0, 'annatomkaartist', 'Budapest, Magyarország', 'hu', 1198, False, 19689, 47.4983815, 19.0404707, '']\n",
      "Republic of @lizasoberano 0\n",
      "Lucena City, Calabarzon (13.9269297, 121.6131654)\n",
      "[\"RT @MichelleVito: you show me love never apart, you're always there for me i'm alright. you are the spark 🎶 #LSS\\n@lizasoberano 😍😍 https://t…\", 'Wed Aug 17 13:43:39 +0000 2016', None, 0, 0, 'carstine_26', 'Lucena City, Calabarzon', 'en', 132, False, 1307, 13.9269297, 121.6131654, '#LSS']\n",
      "South Africa - North Japan 0\n",
      "Highland Village, TX (33.091788, -97.0466758)\n",
      "['RT @BestMovieLine: Monty Python and the Holy Grail https://t.co/wHZ2kHAzy5', 'Wed Aug 17 13:43:48 +0000 2016', None, 0, 0, 'Li__um', 'Highland Village, TX', 'en', 285, False, 5931, 33.091788, -97.0466758, '']\n",
      "Earth-616 (14.6761486, 121.0348183)\n",
      "[\"I'm a spark and you're a boom\", 'Wed Aug 17 13:43:57 +0000 2016', None, 0, 0, 'ANTlbiotics', 'Earth-616', 'en', 1151, False, 24338, 14.6761486, 121.0348183, '']\n",
      "Philippines (12.7503486, 122.7312101)\n",
      "['\"you are the spark, undying light\\nyou are my everything,my desire...\"\\n\\nlss na talaga @lizasoberano\\n#DolceAmoreBusted https://t.co/HK69FO6gSS', 'Wed Aug 17 13:43:57 +0000 2016', None, 0, 0, 'jemlovesyuu', 'Philippines', 'en', 1613, True, 54549, 12.7503486, 122.7312101, '#DolceAmoreBusted']\n",
      "Chester, UK (53.1908873, -2.8908954)\n",
      "['New report: Hadoop software industry analysis, size, share and 2021 forecast - WhaTech https://t.co/fMLHSWCnez https://t.co/22LREDUCa5', 'Wed Aug 17 13:43:58 +0000 2016', None, 0, 0, 'ProjectAnalysis', 'Chester, UK', 'en', 1369, False, 29216, 53.1908873, -2.8908954, '']\n",
      "Snapchat: tevin_omg 0\n",
      "San Francisco, CA (37.7792808, -122.4192362)\n",
      "['qtgurlxx: 1ClickSparkCluster for Your Big Data Center Cloud - https://t.co/Xt9pA8dXiQ Relativity Visualized: https://t.co/f92cqyL1YP', 'Wed Aug 17 13:44:03 +0000 2016', None, 0, 0, 'CloudataNow', 'San Francisco, CA', 'en', 880, False, 2066900, 37.7792808, -122.4192362, '']\n",
      "WI.MN.USA (44.00044095, -92.45452705)\n",
      "['RT @coast2coastpd: How Your Biggest Failure Can Spark Your Greatest Success... - https://t.co/Xw0EfMmUKs', 'Wed Aug 17 13:44:03 +0000 2016', None, 0, 0, 'Raymond_Norman', 'WI.MN.USA', 'en', 23977, False, 265835, 44.00044095, -92.45452705, '']\n",
      "Grenoble (45.182478, 5.7210773)\n",
      "['RT @BestMovieLine: Monty Python and the Holy Grail https://t.co/wHZ2kHAzy5', 'Wed Aug 17 13:44:04 +0000 2016', None, 0, 0, 'Mohradim', 'Grenoble', 'en', 140, False, 3470, 45.182478, 5.7210773, '']\n",
      "Florida (27.7567667, -81.4639834)\n",
      "[\".@JustinCapponPro on #Periscope: 🎯 THE ELEVATOR PITCH 🎯Tips, Do's, &amp; Don'ts for crafting a pitch that will SPARK … https://t.co/S0ls3Id9vw\", 'Wed Aug 17 13:44:06 +0000 2016', None, 0, 0, 'toniaquarterman', 'Florida', 'en', 81, False, 864, 27.7567667, -81.4639834, '#Periscope:']\n",
      "Madrid, Comunidad de Madrid (40.4167047, -3.7035824)\n",
      "['Seeking Experienced Researcher for MSCA-IF-EF-SE 2016. Background in data science and IoT-smart sensors required https://t.co/DsWWP1h58E', 'Wed Aug 17 13:44:06 +0000 2016', None, 0, 0, 'NSAlmodovar', 'Madrid, Comunidad de Madrid', 'es', 125, True, 124, 40.4167047, -3.7035824, '']\n",
      "San Francisco, CA (37.7792808, -122.4192362)\n",
      "['RebeEngland: 1ClickKafkaCluster for Your Big Data Center Cloud - https://t.co/nw2oSUiyRB Real ACT 3rd Prep Guide: https://t.co/mx4kTQVoKC', 'Wed Aug 17 13:44:07 +0000 2016', None, 0, 0, 'CloudataNow', 'San Francisco, CA', 'en', 880, False, 2066901, 37.7792808, -122.4192362, '']\n",
      "Republic of the Philippines (12.7503486, 122.7312101)\n",
      "['#lizasoberano posted August 17, 2016 at 09:39PM https://t.co/qr1uIAO1vx', 'Wed Aug 17 13:44:09 +0000 2016', None, 0, 0, 'sweetamoreblog', 'Republic of the Philippines', 'en', 4, False, 541, 12.7503486, 122.7312101, '#lizasoberano']\n",
      "Wonderland (16.3131877, 121.1297478)\n",
      "['you are the spark, undying light, you are my everything , my desire 💕🎧\\n#PushAwardsLizQuens \\n#DolceAmoreBusted', 'Wed Aug 17 13:44:09 +0000 2016', None, 0, 0, 'mamaradloicka_', 'Wonderland', 'en', 641, True, 40344, 16.3131877, 121.1297478, '#PushAwardsLizQuens #DolceAmoreBusted']\n",
      "Vollen, Norway (59.8084096, 10.4818905)\n",
      "['RT @PeaceOpsCIC: Where are the #Europeans? Will they ever again be big contributors to @UNPeacekeeping?  https://t.co/ohakpBXpDM https://t.…', 'Wed Aug 17 13:44:11 +0000 2016', None, 0, 0, 'bjornhamland', 'Vollen, Norway', 'no', 520, False, 694, 59.8084096, 10.4818905, '#Europeans?']\n",
      "my mind (39.3313419, -76.6339949)\n",
      "['Sarah? Have we ever even talked about Monty Python \\U000fec2e? https://t.co/UqLVER7RAH', 'Wed Aug 17 13:44:14 +0000 2016', None, 0, 0, 'nathanmaschine', 'my mind', 'en', 58, True, 1880, 39.3313419, -76.6339949, '']\n",
      "Arnold, MO (38.4328317, -90.3776186)\n",
      "[\"RT @craigbrownphd: Amazon Kinesis Analytics and the road to Big Data's killer app: Kinesis Analytics makes i... https://t.co/WOUHY8eXS9 #Bi…\", 'Wed Aug 17 13:44:15 +0000 2016', None, 0, 0, 's0schurch', 'Arnold, MO', 'en', 273, True, 3989, 38.4328317, -90.3776186, '#Bi…']\n",
      "rome,italy 0\n",
      "são paulo, sp 0\n",
      "Penrith, Sydney (-33.751111, 150.6941667)\n",
      "[\"@bjee77 @Mary27Ellen You could say exactly the same about sperm, and in one Tweet you've reached Monty Python. Don't be daft.\", 'Wed Aug 17 13:44:21 +0000 2016', None, 0, 0, 'HappySinger', 'Penrith, Sydney', 'en', 3162, True, 63281, -33.751111, 150.6941667, '']\n",
      "Bangued, Cordillera Admin Regi 0\n",
      "United States (39.7837304, -100.4458824)\n",
      "['Data Analyst Hadoop Python Developer Jobs in Irving, TX #Irving #TX #jobs #jobsearch https://t.co/SmapxH4Ypp', 'Wed Aug 17 13:44:32 +0000 2016', None, 0, 0, 'jobfindlypython', 'United States', 'en', 960, False, 95734, 39.7837304, -100.4458824, '#Irving #TX #jobs #jobsearch']\n",
      "lizquen, justin & ariana 0\n",
      "Manila,Philippines (14.5906216, 120.9799696)\n",
      "['RT @lizasoberano: Listen to \"Spark,\" my single from the Dolce Amore OST album - now on Spotify. Physical release on August 19! ❤️ https://t…', 'Wed Aug 17 13:44:34 +0000 2016', None, 0, 0, 'mariakath_', 'Manila,Philippines', 'en', 111, True, 6800, 14.5906216, 120.9799696, '']\n",
      "In A White Van 0\n",
      "Montreal  (45.5087928, -73.5539819)\n",
      "['RT @SilverSherpa: New research: earliest signs of #Alzheimers related to decreased blood flow #ElderCare  @OntarioBrain @TheNeuro_MNI  http…', 'Wed Aug 17 13:44:36 +0000 2016', None, 0, 0, 'TheNeuro_MNI', 'Montreal ', 'en', 2682, False, 1329, 45.5087928, -73.5539819, '#Alzheimers #ElderCare']\n",
      "Bonifacio High Street (14.55049515, 121.051316013746)\n",
      "[\"RT @ULTIMATE_LQFANB: I made a cover of SPARK. Hope it's not too offensive to the ears 🙈😁\\n\\nArt by @mspainteilyn ✏\\n\\n@lizasoberano 💙 https://t…\", 'Wed Aug 17 13:44:37 +0000 2016', None, 0, 0, 'Realbebay', 'Bonifacio High Street', 'en', 74, False, 19637, 14.55049515, 121.051316013746, '']\n",
      "La Presa, Benguet (16.4589777, 120.745447804036)\n",
      "[\"RT @ULTIMATE_LQFANB: I made a cover of SPARK. Hope it's not too offensive to the ears 🙈😁\\n\\nArt by @mspainteilyn ✏\\n\\n@lizasoberano 💙 https://t…\", 'Wed Aug 17 13:44:41 +0000 2016', None, 0, 0, 'HopeLoveQuenito', 'La Presa, Benguet', 'en', 131, False, 15180, 16.4589777, 120.745447804036, '']\n",
      "San Francisco, CA (37.7792808, -122.4192362)\n",
      "['CARRINDIAN: 1ClickCassandraCluster for Your Big Data Center Cloud - https://t.co/HzceuBn21w Those Who Can, Teach: https://t.co/MjDhPEdsjp', 'Wed Aug 17 13:44:41 +0000 2016', None, 0, 0, 'CloudataNow', 'San Francisco, CA', 'en', 880, False, 2066906, 37.7792808, -122.4192362, '']\n",
      "Tweets may be scheduled.   0\n",
      "  Chicago   (41.8755546, -87.6244211)\n",
      "['RT @Dory: It\\'s always Florida. Always.  RT ”@SeriousStrange: A 17ft python pregnant with 87 eggs was caught in Florida.\" https://t.co/pXJfj…', 'Wed Aug 17 13:44:45 +0000 2016', None, 0, 0, 'Waves_So_Sick', '  Chicago  ', 'en', 6592, False, 19809, 41.8755546, -87.6244211, '']\n",
      "Montreal, Quebec (45.5087928, -73.5539819)\n",
      "['Looking for a Senior Big Data #Architect - #Toronto in Toronto, ON Canada https://t.co/HTBsmiU0a3 #job #architect', 'Wed Aug 17 13:44:54 +0000 2016', None, 0, 0, 'DavangPatel', 'Montreal, Quebec', 'en', 391, True, 7543, 45.5087928, -73.5539819, '#Architect #Toronto #job #architect']\n",
      "San Francisco, CA (37.7792808, -122.4192362)\n",
      "['carlottarichar7: HyperScale HyperConvergence Big Data Cloud Advanced Training - https://t.co/rXPdl5ke1O: https://t.co/kFx1mtQpos', 'Wed Aug 17 13:44:56 +0000 2016', None, 0, 0, 'CloudataNow', 'San Francisco, CA', 'en', 880, False, 2066907, 37.7792808, -122.4192362, '']\n",
      "LizQuen's 0\n",
      "♡♡♡ Happy @ Syder's ♡♡♡ 0\n",
      "New York (40.7305991, -73.9865811)\n",
      "['RT @MongoDB: #MongoDB named a leader in The @Forrester Wave: #BigData #NoSQL Q3 2016\\u200b. Download it now: https://t.co/in4nG37gX2 https://t.c…', 'Wed Aug 17 13:45:00 +0000 2016', None, 0, 0, 'Jennifer_Seelin', 'New York', 'en', 849, True, 2429, 40.7305991, -73.9865811, '#MongoDB #BigData #NoSQL']\n",
      "Bengaluru, India (12.9791198, 77.5912997)\n",
      "['Python: user input and commandline arguments #python #input #command-line-arguments https://t.co/ejxaScFQm1', 'Wed Aug 17 13:45:00 +0000 2016', None, 0, 0, 'PythonQnA', 'Bengaluru, India', 'en', 128, False, 12455, 12.9791198, 77.5912997, '#python #input #command-line-arguments']\n",
      "Marlow (51.5718668, -0.7769499)\n",
      "['Burn the talent churn using Big Data https://t.co/2FEhN4ju1z', 'Wed Aug 17 13:45:01 +0000 2016', None, 0, 0, 'russellharper', 'Marlow', 'en', 389, False, 4543, 51.5718668, -0.7769499, '']\n",
      "Paris, France (48.8566101, 2.3514992)\n",
      "['Getting started with machine learning in Python - Crowdcast https://t.co/aSTLTCH1f8 https://t.co/jeVWKgTehg', 'Wed Aug 17 13:45:02 +0000 2016', None, 0, 0, 'darkelda', 'Paris, France', 'fr', 656, True, 21312, 48.8566101, 2.3514992, '']\n",
      "Worldwide (53.4575797, -2.226672)\n",
      "['RT @nicolambn: How to become a Data driven Business \\nhttps://t.co/OIZCmeoffS … \\n#Data #BigData #DataDriven #DataQuality', 'Wed Aug 17 13:45:02 +0000 2016', None, 0, 0, 'DQ_Global', 'Worldwide', 'en', 1344, False, 3003, 53.4575797, -2.226672, '#Data #BigData #DataDriven #DataQuality']\n",
      "Ontario, Canada (50.0000002, -86.0)\n",
      "[\"'Does your Work Spark JOY?' by @leepryke shared via @KlussterApp https://t.co/jjK53GFKfI\", 'Wed Aug 17 13:45:03 +0000 2016', None, 0, 0, 'zimpeterw', 'Ontario, Canada', 'en', 14598, False, 41405, 50.0000002, -86.0, '']\n",
      "London (51.5073219, -0.1276473)\n",
      "['The next big thing: outsourcing your data analytics https://t.co/s9BbK6EyBK', 'Wed Aug 17 13:45:04 +0000 2016', None, 0, 0, 'Gabokappa', 'London', 'en', 355, True, 3725, 51.5073219, -0.1276473, '']\n",
      "Leeds, England (53.7974185, -1.543794)\n",
      "['The Science of Data-Driven Storytelling #measure #analytics #bigdata #datascience https://t.co/4HRoAMerEo', 'Wed Aug 17 13:45:04 +0000 2016', None, 0, 0, 'jonnylongden', 'Leeds, England', 'en', 17749, False, 8311, 53.7974185, -1.543794, '#measure #analytics #bigdata #datascience']\n",
      "Zürich, Switzerland (47.3685586, 8.5404434)\n",
      "['The next big thing: outsourcing your data analytics - https://t.co/fth2JgPjkA', 'Wed Aug 17 13:45:05 +0000 2016', None, 0, 0, 'thusmann', 'Zürich, Switzerland', 'de', 470, True, 1567, 47.3685586, 8.5404434, '']\n",
      "Budapest, Hungary (47.4983815, 19.0404707)\n",
      "['5 Free Data Science eBooks For Your Summer Reading List https://t.co/in8OPYYSsv', 'Wed Aug 17 13:45:05 +0000 2016', None, 0, 0, 'Szaki85', 'Budapest, Hungary', 'en', 1353, False, 3805, 47.4983815, 19.0404707, '']\n",
      "New Jersey, USA (40.0757384, -74.4041621)\n",
      "['#Opinion: Are #big #data #analytics more important than the #cloud? @RWW #PLATFORMS https://t.co/I589hq3iyn https://t.co/UAqVW23DUm', 'Wed Aug 17 13:45:08 +0000 2016', None, 0, 0, 'LXRGuide', 'New Jersey, USA', 'en', 294, False, 243, 40.0757384, -74.4041621, '#Opinion: #big #data #analytics #cloud? #PLATFORMS']\n",
      "Kampala, Uganda (0.3177137, 32.5813539)\n",
      "['Making LOCAL GOVERNMENT work in Africa is to make them have  BIG DATA oriented development- (data on everything in development)', 'Wed Aug 17 13:45:09 +0000 2016', None, 0, 0, 'UIDC_UG', 'Kampala, Uganda', 'sv', 381, False, 10031, 0.3177137, 32.5813539, '']\n",
      "Kentucky, USA (37.5726028, -85.155141)\n",
      "['RT @Dory: It\\'s always Florida. Always.  RT ”@SeriousStrange: A 17ft python pregnant with 87 eggs was caught in Florida.\" https://t.co/pXJfj…', 'Wed Aug 17 13:45:09 +0000 2016', None, 0, 0, 'spoiledjimmies', 'Kentucky, USA', 'en', 88, False, 2071, 37.5726028, -85.155141, '']\n",
      "North Carolina, USA☀️ 0\n",
      "New Brunswick, Canada (46.5, -66.7499999)\n",
      "[\"RT @HuddleToday: T4G president Geoff Flood talks big, but he's got the data to back it up: https://t.co/yhzMJYvsi4\", 'Wed Aug 17 13:45:10 +0000 2016', None, 0, 0, 'jkamerman', 'New Brunswick, Canada', 'en', 67, True, 255, 46.5, -66.7499999, '']\n",
      "London, England (51.5073219, -0.1276473)\n",
      "['‘How Patients Think’: Filling In Big Data’s Gaps https://t.co/lgizKgzQ6y', 'Wed Aug 17 13:45:17 +0000 2016', None, 0, 0, 'Innovatorunit', 'London, England', 'en-gb', 82, False, 208, 51.5073219, -0.1276473, '']\n",
      "Bengaluru, India (12.9791198, 77.5912997)\n",
      "['RT @IBMzSystems: A or B: The top business beneﬁt of improved data analytics is ____. More info: https://t.co/p3e2hfVDnI #Spark #IBMz https:…', 'Wed Aug 17 13:45:19 +0000 2016', None, 0, 0, 'g_vinay15', 'Bengaluru, India', 'en', 167, True, 7524, 12.9791198, 77.5912997, '#Spark #IBMz']\n",
      "Away from Home (38.9125, -77.0167999)\n",
      "[\"RT @MzkayeL: #PushAwardsLizQuens cto lizasoberano: RT ULTIMATE_LQFANB: I made a cover of SPARK. Hope it's not too offensive to … https://t.…\", 'Wed Aug 17 13:45:24 +0000 2016', None, 0, 0, 'quenhope2014', 'Away from Home', 'en', 11, False, 10633, 38.9125, -77.0167999, '#PushAwardsLizQuens']\n",
      "Boise, Idaho (43.61656, -116.2008349)\n",
      "['Please do your part and follow #fire restrictions. One spark is all it takes to ignite a fire. https://t.co/HRJtjiycN7', 'Wed Aug 17 13:45:25 +0000 2016', None, 0, 0, 'BoiseFire', 'Boise, Idaho', 'en', 1915, True, 613, 43.61656, -116.2008349, '#fire']\n",
      "Alberta, Canada (55.0, -114.9999998)\n",
      "['RT @BestMovieLine: Monty Python and the Holy Grail https://t.co/wHZ2kHAzy5', 'Wed Aug 17 13:45:31 +0000 2016', None, 0, 0, 'CantosPM', 'Alberta, Canada', 'en', 517, False, 3368, 55.0, -114.9999998, '']\n",
      "Indonesia (-4.7993355, 114.5632032)\n",
      "['Send big data to your family, friends and colleagues! https://t.co/27pXMPTtBM', 'Wed Aug 17 13:45:32 +0000 2016', None, 0, 0, 'ki_twap', 'Indonesia', 'id', 12, False, 234, -4.7993355, 114.5632032, '']\n",
      "San Jose, CA (37.3361905, -121.8905832)\n",
      "['RT @marcusborba: Use Big Data to Create Value for Customers, Not Just Target Them https://t.co/o5xhogEfXe via @data_nerd #BigData', 'Wed Aug 17 13:45:32 +0000 2016', None, 0, 0, 'datatorrent', 'San Jose, CA', 'en', 4415, True, 879, 37.3361905, -121.8905832, '#BigData']\n",
      "Tomorrow Isn't Promised 0\n",
      "Amsterdam (52.374436, 4.8979956033677)\n",
      "['@HeerJeet Some on the left want Trump win to spark revolutionary change. Might Britebart want same for establishment GOP to spark uprising?', 'Wed Aug 17 13:45:49 +0000 2016', None, 0, 0, 'mrlloydgp', 'Amsterdam', 'en', 166, False, 526, 52.374436, 4.8979956033677, '']\n",
      "California (36.7014631, -118.7559973)\n",
      "['Now hiring for https://t.co/FfjkY7UIxK Engineer (Hadoop) Needed - FL in Temple Terrace, FL https://t.co/bSAqM4QuKn #job', 'Wed Aug 17 13:45:52 +0000 2016', None, 0, 0, 'Janovah', 'California', 'en', 434, False, 24355, 36.7014631, -118.7559973, '#job']\n",
      "Atlanta, GA (33.7490987, -84.3901848)\n",
      "['Here is the huge collection of numpy, pandas, matplotlib, and seaborn examples that you have been looking for. https://t.co/klZjmmvr62', 'Wed Aug 17 13:45:52 +0000 2016', None, 0, 0, 'jacobeisenstein', 'Atlanta, GA', 'en', 1964, False, 1419, 33.7490987, -84.3901848, '']\n",
      "Chennai, India (13.0796914, 80.2829533)\n",
      "['RT @TeluguStates: No one can replace chiranjeevi ,but i like the spark &amp; spontaneity of Allu Arjun . My Favorite Hero is Prabhas  - Telanga…', 'Wed Aug 17 13:45:53 +0000 2016', None, 0, 0, 'ArjunFanatic', 'Chennai, India', 'en', 126, False, 3006, 13.0796914, 80.2829533, '']\n",
      "San Francisco, CA (37.7792808, -122.4192362)\n",
      "['kamzou08: 1ClickElasticSearchCluster for Your Big Data Center Cloud - https://t.co/KJWVbv890U Management: https://t.co/XBdWorVvYy', 'Wed Aug 17 13:45:55 +0000 2016', None, 0, 0, 'CloudataNow', 'San Francisco, CA', 'en', 880, False, 2066909, 37.7792808, -122.4192362, '']\n",
      "London (51.5073219, -0.1276473)\n",
      "[\"You're only given a little spark of madness. You mustn't lose it. -Robin Williams\", 'Wed Aug 17 13:45:58 +0000 2016', None, 0, 0, 'NancyPowell3', 'London', 'en', 9, False, 621, 51.5073219, -0.1276473, '']\n",
      "Global client base 0\n",
      "Holmdel, NJ (40.3451095, -74.1840321)\n",
      "['@JoshLuke4Health thanks 4 the follow! Curious how #bigdata can benefit ur company? Check out https://t.co/OtbiH5PH2x for big data solutions!', 'Wed Aug 17 13:46:08 +0000 2016', None, 0, 0, 'AvlinoAlenza', 'Holmdel, NJ', 'en', 1360, True, 965, 40.3451095, -74.1840321, '#bigdata']\n",
      "Boise, ID (43.61656, -116.2008349)\n",
      "['RT @BoiseFire: Please do your part and follow #fire restrictions. One spark is all it takes to ignite a fire. https://t.co/HRJtjiycN7', 'Wed Aug 17 13:46:10 +0000 2016', None, 0, 0, 'idahogrizzley', 'Boise, ID', 'en', 55, False, 59, 43.61656, -116.2008349, '#fire']\n",
      "Ny  (43.1561681, -75.8449945)\n",
      "['So why did they have to kill it though?  https://t.co/PRfHoFMeGw', 'Wed Aug 17 13:46:14 +0000 2016', None, 0, 0, 'therealwavey', 'Ny ', 'en', 1095, True, 69823, 43.1561681, -75.8449945, '']\n",
      "Nord-Pas-de-Calais, France (50.52939535, 2.45002734526307)\n",
      "['RT @EasyAnalytics1: How data science conquered baseball – and why fantasy baseball is next https://t.co/pSSikOVwTU https://t.co/82bIa7bjcm', 'Wed Aug 17 13:46:15 +0000 2016', None, 0, 0, 'Pvalsfr', 'Nord-Pas-de-Calais, France', 'fr', 1600, False, 260558, 50.52939535, 2.45002734526307, '']\n",
      "Ile-de-France, France (48.5716633, 2.5670187)\n",
      "['@BenjaminMarcon: Making Big Data Drive Digital Transformation – As Disru...... https://t.co/42LpIkeh2t https://t.co/0voQvOJBLL', 'Wed Aug 17 13:46:15 +0000 2016', None, 0, 0, 'GuegoC', 'Ile-de-France, France', 'fr', 92, True, 3319, 48.5716633, 2.5670187, '']\n",
      "San Francisco, CA (37.7792808, -122.4192362)\n",
      "['arcade_mobile: 1ClickElasticSearchCluster for Your Big Data Center Cloud - https://t.co/UQxpVCWtol: Live Bait: https://t.co/N56nKwiuoH', 'Wed Aug 17 13:46:16 +0000 2016', None, 0, 0, 'CloudataNow', 'San Francisco, CA', 'en', 880, False, 2066911, 37.7792808, -122.4192362, '']\n",
      "Toronto, ON (43.6529206, -79.3849007)\n",
      "['RT @jacobeisenstein: Here is the huge collection of numpy, pandas, matplotlib, and seaborn examples that you have been looking for. https:/…', 'Wed Aug 17 13:46:18 +0000 2016', None, 0, 0, 'alexhanna', 'Toronto, ON', 'en', 3611, True, 61492, 43.6529206, -79.3849007, '']\n",
      "London, England (51.5073219, -0.1276473)\n",
      "['Big Data Is Taking The Digital World By Storm https://t.co/uWIDAOeOji #tech #bigdata #cloud https://t.co/Uk2DNuVIcn', 'Wed Aug 17 13:46:20 +0000 2016', None, 0, 0, 'AukseNzir', 'London, England', 'en', 44, False, 2247, 51.5073219, -0.1276473, '#tech #bigdata #cloud']\n",
      "London (51.5073219, -0.1276473)\n",
      "['Big Data Is Taking The Digital World By Storm https://t.co/Hrx8WsS0pg #tech #bigdata #cloud https://t.co/4yobRecirF', 'Wed Aug 17 13:46:22 +0000 2016', None, 0, 0, 'pattersonpolly1', 'London', 'en', 63, False, 2233, 51.5073219, -0.1276473, '#tech #bigdata #cloud']\n",
      "Baltimore, MD (39.2908608, -76.6108072)\n",
      "['Must watch movies on Data Science via /r/datascience https://t.co/pgvymYLBl4', 'Wed Aug 17 13:46:24 +0000 2016', None, 0, 0, 'chris_n_vinegar', 'Baltimore, MD', 'en', 254, True, 31334, 39.2908608, -76.6108072, '']\n",
      "Where Sunderland Lives 0\n",
      "http://www.thewoodlandstech.ne 0\n",
      "The Woodlands, TX (30.1734194, -95.5046859)\n",
      "[\"Amazon Kinesis Analytics and the road to Big Data's killer app: Kinesis Analytics makes it easier to do strea... https://t.co/lg3Beib7Qk\", 'Wed Aug 17 13:46:29 +0000 2016', None, 0, 0, 'tWoodlandsTech', 'The Woodlands, TX', 'en', 165, False, 1796, 30.1734194, -95.5046859, '']\n",
      "ouat, jtv, bates motel, pll  0\n",
      "Philadelphia, PA (39.9523993, -75.1635898)\n",
      "['RT @jacobeisenstein: Here is the huge collection of numpy, pandas, matplotlib, and seaborn examples that you have been looking for. https:/…', 'Wed Aug 17 13:46:30 +0000 2016', None, 0, 0, 'ccb', 'Philadelphia, PA', 'en', 2351, True, 1189, 39.9523993, -75.1635898, '']\n",
      "Overland Park, Kansas (38.9822282, -94.6707916)\n",
      "['Updated guides for Adobe Spark Page and Adobe Spark Video (formerly Adobe Voice) https://t.co/AkoPgoDRIO', 'Wed Aug 17 13:46:32 +0000 2016', None, 0, 0, 'BVEdTec', 'Overland Park, Kansas', 'en', 1647, False, 5173, 38.9822282, -94.6707916, '']\n"
     ]
    }
   ],
   "source": [
    "for i in range(0, len(df)):\n",
    "    if df.user[i]['location'] != None:\n",
    "        latLong  = pegar_lat_long(df.user[i]['location'])\n",
    "        print(df.user[i]['location'],latLong)\n",
    "        if latLong != 0:\n",
    "            tweet = [\n",
    "                df.text[i],\n",
    "                df.created_at[i],\n",
    "                df.coordinates[i],\n",
    "                df.retweet_count[i],\n",
    "                df.favorite_count[i],\n",
    "                df.user[i]['screen_name'],\n",
    "                df.user[i]['location'],\n",
    "                df.user[i]['lang'],\n",
    "                df.user[i]['followers_count'],\n",
    "                df.user[i]['geo_enabled'],\n",
    "                df.user[i]['statuses_count'],\n",
    "                latLong[0],\n",
    "                latLong[1],\n",
    "                salvar_hashtags(df.text[i]),\n",
    "            ]\n",
    "            series = pd.Series(tweet, index=colunas)\n",
    "            df_aux = df_aux.append(series, ignore_index=True)\n",
    "        "
   ]
  },
  {
   "cell_type": "markdown",
   "metadata": {
    "collapsed": true
   },
   "source": [
    "**Imprima o tamanho da DataFrame original e do auxiliar**"
   ]
  },
  {
   "cell_type": "code",
   "execution_count": 31,
   "metadata": {
    "collapsed": false
   },
   "outputs": [
    {
     "name": "stdout",
     "output_type": "stream",
     "text": [
      "Dataframe orginal: 442\n",
      "Dataframe auxiliar: 0\n"
     ]
    }
   ],
   "source": [
    "total_df = len(df)\n",
    "total_aux = len(df_aux)\n",
    "\n",
    "print('Dataframe orginal:', total_df)\n",
    "print('Dataframe auxiliar:', total_aux)"
   ]
  },
  {
   "cell_type": "markdown",
   "metadata": {},
   "source": [
    "### Responda:\n",
    "\n",
    "1) Qual foi a porcentagem de Tweets descartados?"
   ]
  },
  {
   "cell_type": "code",
   "execution_count": 32,
   "metadata": {
    "collapsed": false
   },
   "outputs": [
    {
     "name": "stdout",
     "output_type": "stream",
     "text": [
      "O percentual de tweets descartados foi de 0.0%\n"
     ]
    }
   ],
   "source": [
    "perc = total_aux * 100 / total_df\n",
    "print('O percentual de tweets descartados foi de {}%'.format(round(perc,2)))\n"
   ]
  },
  {
   "cell_type": "markdown",
   "metadata": {},
   "source": [
    "2) Qual a porcentagem de tweets que tinham habilitado o geo_enabled?"
   ]
  },
  {
   "cell_type": "code",
   "execution_count": 33,
   "metadata": {
    "collapsed": false
   },
   "outputs": [
    {
     "name": "stdout",
     "output_type": "stream",
     "text": [
      "39.14% dos tweets totais tinham o habilitado o geo_enabled\n"
     ]
    }
   ],
   "source": [
    "totalGeoEnabled = 0\n",
    "for i in range (1, len(df)):\n",
    "    if (df.user[i]['geo_enabled'] == True):\n",
    "        totalGeoEnabled += 1\n",
    "percGeo = totalGeoEnabled * 100 / total_df\n",
    "print('{}% dos tweets totais tinham o habilitado o geo_enabled'.format(round(percGeo,2)))"
   ]
  },
  {
   "cell_type": "markdown",
   "metadata": {},
   "source": [
    "### Salve os dados em arquivos em arquivo CSV"
   ]
  },
  {
   "cell_type": "code",
   "execution_count": 72,
   "metadata": {
    "collapsed": true
   },
   "outputs": [],
   "source": [
    "df_aux.to_csv('tweets_lat-long.csv',sep=';',index=False)"
   ]
  },
  {
   "cell_type": "code",
   "execution_count": null,
   "metadata": {
    "collapsed": true
   },
   "outputs": [],
   "source": []
  }
 ],
 "metadata": {
  "kernelspec": {
   "display_name": "Python 3",
   "language": "python",
   "name": "python3"
  },
  "language_info": {
   "codemirror_mode": {
    "name": "ipython",
    "version": 3
   },
   "file_extension": ".py",
   "mimetype": "text/x-python",
   "name": "python",
   "nbconvert_exporter": "python",
   "pygments_lexer": "ipython3",
   "version": "3.5.2"
  }
 },
 "nbformat": 4,
 "nbformat_minor": 0
}
