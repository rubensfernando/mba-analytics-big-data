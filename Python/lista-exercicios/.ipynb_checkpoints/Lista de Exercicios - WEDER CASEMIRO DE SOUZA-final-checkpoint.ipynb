{
 "cells": [
  {
   "cell_type": "markdown",
   "metadata": {},
   "source": [
    "# Lista de Exercícios - WEDER CASEMIRO DE SOUZA\n",
    "\n",
    "Os exercícios valem 30% da nota final.\n",
    "\n",
    "* **Data Entrega**: 18/09/2016\n",
    "\n",
    "* **Formato da Entrega**: .ipynb - Clique em File -> Download as -> IPython Notebook (.ipynb)\n",
    "\n",
    "* **Enviar por email** até a data de entrega, onde o assunto do email deve ser: *Exercícios PosMBA Turma2 - SEU NOME*\n",
    "\n",
    "O cálculo da nota final é dado por: ```NF = (lista * 0.3) + (prova * 0.7)```\n",
    "\n",
    "\n"
   ]
  },
  {
   "cell_type": "markdown",
   "metadata": {},
   "source": [
    "## Exercício 1\n",
    "\n",
    "**(0.5 ponto)** Crie uma função chamada ```soma_tres_num``` que irá receber 3 parâmetros(sendo o último com valor padrão 10) e retorne a soma desses três valores."
   ]
  },
  {
   "cell_type": "code",
   "execution_count": null,
   "metadata": {
    "collapsed": true
   },
   "outputs": [],
   "source": [
    "def soma_tres_num (valor1, valor2, valor3=150):\n",
    "    total = valor1 + valor2 + valor3\n",
    "    return(total)"
   ]
  },
  {
   "cell_type": "markdown",
   "metadata": {},
   "source": [
    "Teste para as seguintes situações:"
   ]
  },
  {
   "cell_type": "code",
   "execution_count": null,
   "metadata": {
    "collapsed": false
   },
   "outputs": [],
   "source": [
    "print(soma_tres_num(0, 10))"
   ]
  },
  {
   "cell_type": "code",
   "execution_count": null,
   "metadata": {
    "collapsed": false
   },
   "outputs": [],
   "source": [
    "print(soma_tres_num(1,2,3))"
   ]
  },
  {
   "cell_type": "code",
   "execution_count": null,
   "metadata": {
    "collapsed": false
   },
   "outputs": [],
   "source": [
    "print(soma_tres_num(10, 10, 0))"
   ]
  },
  {
   "cell_type": "markdown",
   "metadata": {},
   "source": [
    "## Exercício 2\n",
    "\n",
    "**(0.5 ponto)** Crie uma função ```chamda qtde_caracteres``` que receba um parâmetro e retorne a quantidade de caracteres. Se o valor recebido pelo parâmetro não for uma String,  utilizar a função str() para converter o argumento. "
   ]
  },
  {
   "cell_type": "code",
   "execution_count": null,
   "metadata": {
    "collapsed": true
   },
   "outputs": [],
   "source": [
    "def qtde_caracteres(texto):\n",
    "    try:\n",
    "        qtd = len(texto)\n",
    "    except:\n",
    "        qtd = len(str(texto))\n",
    "    return (qtd)"
   ]
  },
  {
   "cell_type": "markdown",
   "metadata": {},
   "source": [
    "Teste as seguintes situações:"
   ]
  },
  {
   "cell_type": "code",
   "execution_count": null,
   "metadata": {
    "collapsed": false
   },
   "outputs": [],
   "source": [
    "print(qtde_caracteres(12345))\n",
    "print(qtde_caracteres(', -'))\n",
    "print(qtde_caracteres('python'))\n",
    "print(qtde_caracteres('fia e big data'))\n"
   ]
  },
  {
   "cell_type": "markdown",
   "metadata": {},
   "source": [
    "## Exercicío 3\n",
    "\n",
    "**(1.5 ponto)** Carregue o arquivo chamado funcionarios.txt. Esse arquivo contém nome e o salário anual de cada funcionário.\n",
    "\n",
    "    alexandre,42000\n",
    "    rose,50000\n",
    "    anderson,30000\n",
    "    antonio,60000\n",
    "    maria,120000\n",
    "    carlos,86000\n",
    "    cesar,48000\n",
    "    \n",
    "Faça os seguintes exercícios:\n",
    "\n",
    "**a)** Crie uma função chamda ```carregar_dados_dic``` que deve receber um parâmetro(no caso o arquivo funcionarios.txt) e retorne um dicionário, onde a chave será o nome e o valor será o salário anual."
   ]
  },
  {
   "cell_type": "code",
   "execution_count": null,
   "metadata": {
    "collapsed": true
   },
   "outputs": [],
   "source": [
    "def carregar_dados_dic(arquivo):\n",
    "    arq = open(arquivo,'r')\n",
    "    linhas = arq.readlines()\n",
    "    dici = {}\n",
    "    for linha in linhas:\n",
    "        linha = linha.strip()\n",
    "        linha = linha.split(',')\n",
    "        dici[linha[0]] = int(linha[1])\n",
    "    return (dici)\n",
    "    arq.close()    "
   ]
  },
  {
   "cell_type": "code",
   "execution_count": null,
   "metadata": {
    "collapsed": false
   },
   "outputs": [],
   "source": [
    "salarios = carregar_dados_dic('funcionarios.txt')"
   ]
  },
  {
   "cell_type": "code",
   "execution_count": null,
   "metadata": {
    "collapsed": false
   },
   "outputs": [],
   "source": [
    "print(salarios)"
   ]
  },
  {
   "cell_type": "markdown",
   "metadata": {},
   "source": [
    "**b)** Crie uma função chamada ```calcular_salario_mensal``` que irá calcular quanto o funcionário ganha por mês. Verifique o tipo do campo do valor do dicionário. Utilize a função ```float()``` para converter o valor."
   ]
  },
  {
   "cell_type": "code",
   "execution_count": null,
   "metadata": {
    "collapsed": false
   },
   "outputs": [],
   "source": [
    "def calcular_salario_mensal(salario_anual):\n",
    "    try:\n",
    "        mes = float(salarios[salario_anual]/12)\n",
    "    except KeyError:\n",
    "        mes = \"Este funcionário não existe\"\n",
    "    return (mes)"
   ]
  },
  {
   "cell_type": "code",
   "execution_count": null,
   "metadata": {
    "collapsed": false
   },
   "outputs": [],
   "source": [
    "mensal = calcular_salario_mensal('carlos')\n",
    "print(mensal)"
   ]
  },
  {
   "cell_type": "markdown",
   "metadata": {},
   "source": [
    "**c)** Por fim, imprima para cada funcionário o nome, salário anual e mensal no seguinte formato:\n",
    "\n",
    "    Rose --- R$ 50000 --- R$ 4166.66\n",
    "\n",
    "Dica: Lembre-se do .format para formatar uma string.\n",
    "Utilize a função round para arredondar para 2 casas decimais.\n",
    "\n",
    "```python\n",
    ">>> round(7166.67555, 2)\n",
    "7166.67\n",
    "```"
   ]
  },
  {
   "cell_type": "code",
   "execution_count": null,
   "metadata": {
    "collapsed": false
   },
   "outputs": [],
   "source": [
    "for key in salarios:\n",
    "    print (\"{} --- R$ {} --- R$ {}\".format(key,salarios[key],round(calcular_salario_mensal(key),2)))"
   ]
  },
  {
   "cell_type": "markdown",
   "metadata": {},
   "source": [
    "## Exercício 4\n",
    "\n",
    "**(1 ponto)** Crie um programa que deve ler as informações do usuário (nome, idade e salário) através da função ```input```. É necessário validar as informações com os seguintes critérios:\n",
    "* O nome deve ter tamanho maior que 3\n",
    "* A idade deve ser entre 18 e 65\n",
    "* O salário deve ser maior que R$ 788\n",
    "\n",
    "Caso as informações não estejam nos critérios definidos anteriormente, será necessário solicitar ao usuário para digitar novamente. Por fim o programa deverá imprimir o seguinte texto:\n",
    "\n",
    "    NOME tem YY anos, recebe R$ SSS e seu nome tem CC caracteres.\n",
    "    \n",
    "Onde,\n",
    "\n",
    "* NOME deve ser substituído pelo nome digitado.\n",
    "* YY deve ser a idade\n",
    "* SSS deve ser substituído pelo valor do salário.\n",
    "* CC deve ser substituído pela quantidade de caracteres.\n",
    "\n",
    "Lembre-se de formatar o salário para duas casas decimais."
   ]
  },
  {
   "cell_type": "code",
   "execution_count": null,
   "metadata": {
    "collapsed": false
   },
   "outputs": [],
   "source": [
    "#Tratamento do Nome\n",
    "nome = (input('Digite o Nome: '))\n",
    "sucesso = 0\n",
    "while (sucesso == 0):\n",
    "    if len(nome) > 3:\n",
    "        sucesso = 1\n",
    "    else:\n",
    "        nome = (input('O Nome deve ter mais que 3 dígitos, Digite novamente: '))\n",
    "        \n",
    "#Tratamento da idade\n",
    "yy = (input('Digite a Idade: '))\n",
    "sucesso = 0\n",
    "while (sucesso == 0):\n",
    "    try:\n",
    "        newyy = int (yy)\n",
    "    except:\n",
    "        newyy = yy\n",
    "\n",
    "    if type(newyy) == int:\n",
    "        if 18 < newyy < 65:\n",
    "            sucesso = 1\n",
    "        else:\n",
    "            yy = (input('A idade deve ser entre 18 e 65 anos, Digite novamente: '))\n",
    "    else:\n",
    "        yy = (input('A idade deve ser de formato inteiro, Digite novamente: '))\n",
    "\n",
    "#Tratamento do salário\n",
    "sss = (input('Digite o Salário: '))\n",
    "sucesso = 0\n",
    "while (sucesso == 0):\n",
    "    try:\n",
    "        newsss = round(float (sss),2)\n",
    "    except:\n",
    "        newsss = sss\n",
    "\n",
    "    if type(newsss) == float:\n",
    "        if newsss > 788:\n",
    "            sucesso = 1\n",
    "        else:\n",
    "            sss = (input('O salário deve ser maior que R$ 788, Digite novamente: '))\n",
    "    else:\n",
    "        sss = (input('O salário deve ter valor numérico, Digite novamente: '))\n",
    "\n",
    "print ('{} tem {} anos, recebe R$ {} e seu nome tem {} caracteres.'.format(nome,newyy,newsss,len(nome)))\n",
    "    \n",
    "        "
   ]
  },
  {
   "cell_type": "markdown",
   "metadata": {},
   "source": [
    "## Exercicio 5\n",
    "\n",
    "**(1.5 ponto)** Crie uma função que deverá receber dois parâmetros, sendo um o arquivo e o outro a quantidade de palavras que aparecem com mais frequência. O retorno deverá ser uma lista, sendo que cada elemento dessa lista, deve ser uma tupla (chave-valor), sendo chave o nome da palavra e o valor a quantidade de vezes que ela apareceu no texto.\n",
    "\n",
    "Por exemplo,\n",
    "\n",
    "    palavras_frequentes('texto1.txt', 10) - pesquisa no arquivo texto1.txt as 10 palavras mais frequentes.\n",
    "    palavras_frequentes('texto2.txt', 5) - pesquisa no arquivo texto2.txt as 5 palavras mais frequentes.\n",
    "    \n",
    "\n",
    "**<span style=\"color:red\">Lembre-se de tratar possíveis erros!</span>**\n",
    "\n",
    "\n",
    "Exemplo de uso e saida:\n",
    "\n",
    "```python\n",
    ">>> palavras10mais = palavras_frequentes('texto1.txt', 10)\n",
    ">>> print(palavras10mais)\n",
    "[('programas', 662), ('codigos', 661), ('dinheiro', 661), ('fia', 586), ('python', 491), ('data', 434), ('big', 434), ('velocidade', 133), ('Moneyball', 113), ('dados', 95)]\n",
    "```\n",
    "\n",
    "\n",
    "Dica: Verifique o funcionamento da função sorted para ordernar um dicionário com base no valor."
   ]
  },
  {
   "cell_type": "code",
   "execution_count": null,
   "metadata": {
    "collapsed": false
   },
   "outputs": [],
   "source": [
    "def palavras_frequentes(arquivo, palavras_freq):\n",
    "    arq = open(arquivo,'r')\n",
    "    linhas = arq.readlines()\n",
    "    arq.close()\n",
    "    for linha in linhas:\n",
    "        linha = linha.strip()\n",
    "        linha = linha.replace('  ',' ') #trata o erro de duplo espaço na separação\n",
    "        linha = linha.split(' ')\n",
    "    lista = []\n",
    "    disti = set(linha) #pega apenas as palavras distintas\n",
    "    for word in disti: \n",
    "        x = (word,linha.count(word)) #Cria a tupla com palavra e contador\n",
    "        lista.append (x) # coloca a tupla na lista\n",
    "    listasort = sorted(lista, key=lambda palavra: palavra[1], reverse = True)\n",
    "    topN = listasort[:palavras_freq]\n",
    "    return (topN)"
   ]
  },
  {
   "cell_type": "markdown",
   "metadata": {},
   "source": [
    "Faça o teste para as seguintes situações:"
   ]
  },
  {
   "cell_type": "code",
   "execution_count": null,
   "metadata": {
    "collapsed": false
   },
   "outputs": [],
   "source": [
    "palavras_frequentes('texto1.txt', 10)"
   ]
  },
  {
   "cell_type": "code",
   "execution_count": null,
   "metadata": {
    "collapsed": false
   },
   "outputs": [],
   "source": [
    "palavras_frequentes('texto2.txt', 10)"
   ]
  },
  {
   "cell_type": "code",
   "execution_count": null,
   "metadata": {
    "collapsed": false
   },
   "outputs": [],
   "source": [
    "palavras_frequentes('texto1.txt', 5)"
   ]
  },
  {
   "cell_type": "code",
   "execution_count": null,
   "metadata": {
    "collapsed": false
   },
   "outputs": [],
   "source": [
    "palavras_frequentes('texto2.txt', 5)"
   ]
  },
  {
   "cell_type": "code",
   "execution_count": null,
   "metadata": {
    "collapsed": false
   },
   "outputs": [],
   "source": [
    "palavras_frequentes('texto1.txt', 30)"
   ]
  },
  {
   "cell_type": "markdown",
   "metadata": {},
   "source": [
    "## Exercício 6\n",
    "\n",
    "**(2 pontos)** Utilizando o exemplo dado em aula sobre a Streaming API (Desafio 3 da Aula 5), recupere os tweets durante 10 minutos com os seguintes parâmetros:\n",
    "\n",
    "    fluxo.filter(track=['Big Data', 'Hadoop', 'Spark', 'Python', 'Data Science'], languages=['en', 'pt'])\n",
    "    \n",
    "Salve os tweets em um arquivo chamado ```tweets_10min.json```."
   ]
  },
  {
   "cell_type": "markdown",
   "metadata": {},
   "source": [
    "**Importe os módulos necessários**"
   ]
  },
  {
   "cell_type": "code",
   "execution_count": null,
   "metadata": {
    "collapsed": false
   },
   "outputs": [],
   "source": [
    "import tweepy\n",
    "from time import time"
   ]
  },
  {
   "cell_type": "markdown",
   "metadata": {},
   "source": [
    "**Crie as chaves de acesso**"
   ]
  },
  {
   "cell_type": "code",
   "execution_count": null,
   "metadata": {
    "collapsed": true
   },
   "outputs": [],
   "source": [
    "consumer_key = 'U8tDrebFQkzdMLIvyljut6LSA'\n",
    "consumer_secret = 'rHhLLB16nroyXlyZi4GTAE5Gg8hBo4PC7mI8ebTLuIcOpdn76O'\n",
    "access_token = '259907386-gyiTNCFVbosGkUinOAx2vP63o8obXhNxO57ZiDUO'\n",
    "access_token_secret = 'JJ8D2oJpaNMNi7cj1n6lepT9gl08vVIVQ5eMkETpWdvpG'"
   ]
  },
  {
   "cell_type": "markdown",
   "metadata": {},
   "source": [
    "**Realize a autorização e defina a token de acesso**"
   ]
  },
  {
   "cell_type": "code",
   "execution_count": null,
   "metadata": {
    "collapsed": false
   },
   "outputs": [],
   "source": [
    "autorizar = tweepy.OAuthHandler(consumer_key, consumer_secret)\n",
    "autorizar.set_access_token(access_token, access_token_secret)"
   ]
  },
  {
   "cell_type": "markdown",
   "metadata": {},
   "source": [
    "**Crie a classe ```DadosPublicosTwitter``` herdando da classe tweepy.StreamListener para rodar durante 10 minutos e salvar os tweets no arquivo.**"
   ]
  },
  {
   "cell_type": "code",
   "execution_count": null,
   "metadata": {
    "collapsed": true
   },
   "outputs": [],
   "source": [
    "class DadosPublicosTwitter(tweepy.StreamListener):\n",
    "    def __init__(self, nome_arq, limite):\n",
    "        self.tempo_inicial = time()\n",
    "        self.limite = limite # 10 minutos == 600 segundos\n",
    "        self.salvar_arquivo = open(nome_arq, 'a', newline='')\n",
    "        \n",
    "    def on_data(self, dados):\n",
    "        if(time() - self.tempo_inicial < self.limite):\n",
    "            self.salvar_arquivo.write(dados)            \n",
    "            return True\n",
    "        else:\n",
    "            self.salvar_arquivo.close()\n",
    "            return False"
   ]
  },
  {
   "cell_type": "markdown",
   "metadata": {},
   "source": [
    "**Crie a instância da classe, o fluxo e realize a filtragem com os parâmetros definidos no enunciado.**"
   ]
  },
  {
   "cell_type": "code",
   "execution_count": null,
   "metadata": {
    "collapsed": false
   },
   "outputs": [],
   "source": [
    "nome_arq = 'tweets_10min.json'\n",
    "dados_twitter = DadosPublicosTwitter(nome_arq, 600)"
   ]
  },
  {
   "cell_type": "code",
   "execution_count": null,
   "metadata": {
    "collapsed": true
   },
   "outputs": [],
   "source": [
    "fluxo = tweepy.Stream(autorizar, dados_twitter)"
   ]
  },
  {
   "cell_type": "code",
   "execution_count": null,
   "metadata": {
    "collapsed": true
   },
   "outputs": [],
   "source": [
    "fluxo.filter(track=['Big Data', 'Hadoop', 'Spark', 'Python', 'Data Science'], languages=['en', 'pt'])"
   ]
  },
  {
   "cell_type": "markdown",
   "metadata": {},
   "source": [
    "## Exercício 7\n",
    "\n",
    "**(3 pontos)** Com os dados salvos no **tweets_10min.json**, crie um DataFrame pandas com as seguintes colunas:\n",
    "\n",
    "* ```text``` - Texto do Tweet\n",
    "* ```created_at``` - Data da criação do Tweet\n",
    "* ```coordinates``` - Coordenadas\n",
    "* ```retweet_count``` - Quantidade de vezes que o tweet foi \"retweetado\".\n",
    "* ```favorite_count``` - Quantidade de vezes que o tweet foi \"favoritado\".\n",
    "\n",
    "* ```screen_name``` - Nome na tela (exemplo: @prof_dinomagri)\n",
    "* ```location``` - Localização\n",
    "* ```lang - Idioma```\n",
    "* ```followers_count``` - Quantidade de seguidores\n",
    "* ```geo_enabled``` - Se tem a geolocalização habilitade\n",
    "* ```statuses_count``` - Quantidade de tweets postados.\n",
    "\n",
    "* ```lat``` - Recuperada através da função desenvolvida em sala\n",
    "* ```long``` - Recuperada através da função desenvolvida em sala\n",
    "* ```hashtags``` - Recuperada através da função desenvolvida em sala\n",
    "\n",
    "Lembre-se de utilizar as funções desenvolvidas em sala de aula para recuperar a latitude, longitude e hastags.\n",
    "\n",
    "No final salve o arquivo no formato CSV, utilizando o separador ponto e virgula (;) e com a codificação 'utf-8'."
   ]
  },
  {
   "cell_type": "markdown",
   "metadata": {
    "collapsed": true
   },
   "source": [
    "**Importe os módulos necessários**"
   ]
  },
  {
   "cell_type": "code",
   "execution_count": null,
   "metadata": {
    "collapsed": true
   },
   "outputs": [],
   "source": [
    "import simplejson as json\n",
    "import pandas as pd"
   ]
  },
  {
   "cell_type": "markdown",
   "metadata": {
    "collapsed": true
   },
   "source": [
    "**Utilize o comando with para abrir o arquivo 'tweets_10min.json' e salvar em uma lista**"
   ]
  },
  {
   "cell_type": "code",
   "execution_count": null,
   "metadata": {
    "collapsed": true
   },
   "outputs": [],
   "source": [
    "dados = []\n",
    "with open('tweets_10min.json') as arquivo:\n",
    "    for linha in arquivo:\n",
    "        dados.append(json.loads(linha))"
   ]
  },
  {
   "cell_type": "markdown",
   "metadata": {
    "collapsed": true
   },
   "source": [
    "**Crie o DataFrame com os dados e imprima apenas os 3 primeiros tweets (linhas)**"
   ]
  },
  {
   "cell_type": "code",
   "execution_count": null,
   "metadata": {
    "collapsed": false
   },
   "outputs": [],
   "source": [
    "df = pd.DataFrame(dados)\n",
    "df.head(3)\n"
   ]
  },
  {
   "cell_type": "markdown",
   "metadata": {
    "collapsed": true
   },
   "source": [
    "**Crie uma lista, onde cada elemento será o nome da coluna**"
   ]
  },
  {
   "cell_type": "code",
   "execution_count": null,
   "metadata": {
    "collapsed": true
   },
   "outputs": [],
   "source": [
    "colunas = ['text', 'created_at', 'coordinates', 'retweet_count', \n",
    "           'favorite_count', 'screen_name', 'location', 'lang', \n",
    "           'followers_count', 'geo_enabled', 'statuses_count',\n",
    "          'lat', 'long', 'hashtags']"
   ]
  },
  {
   "cell_type": "markdown",
   "metadata": {
    "collapsed": true
   },
   "source": [
    "** Crie um DataFrame auxiliar passando as colunas por parâmetro**"
   ]
  },
  {
   "cell_type": "code",
   "execution_count": null,
   "metadata": {
    "collapsed": false
   },
   "outputs": [],
   "source": [
    "df_aux = pd.DataFrame(columns=colunas)\n",
    "df_aux"
   ]
  },
  {
   "cell_type": "markdown",
   "metadata": {},
   "source": [
    "**Crie a função de pegar_lat_long(local)**"
   ]
  },
  {
   "cell_type": "code",
   "execution_count": null,
   "metadata": {
    "collapsed": false
   },
   "outputs": [],
   "source": [
    "from geopy.geocoders import Nominatim\n",
    "def pegar_lat_long(local):\n",
    "    try:\n",
    "        geolocalizador = Nominatim()\n",
    "        localizacao = geolocalizador.geocode(local)\n",
    "        if localizacao == None:\n",
    "            return('','')\n",
    "        else:       \n",
    "            return (localizacao.latitude,localizacao.longitude)\n",
    "    except:\n",
    "        pass"
   ]
  },
  {
   "cell_type": "code",
   "execution_count": null,
   "metadata": {
    "collapsed": false
   },
   "outputs": [],
   "source": [
    "weder = pegar_lat_long(df['user'][219]['location'])\n",
    "print(weder)"
   ]
  },
  {
   "cell_type": "markdown",
   "metadata": {},
   "source": [
    "**Crie a função para salvar_hashtags(texto)**"
   ]
  },
  {
   "cell_type": "code",
   "execution_count": null,
   "metadata": {
    "collapsed": false
   },
   "outputs": [],
   "source": [
    "def salvar_hashtags(texto):\n",
    "    aux = []\n",
    "    for palavra in texto.split():\n",
    "        if palavra.startswith('#'):\n",
    "            aux.append(palavra)\n",
    "        converter = ' '.join(aux)\n",
    "    return converter"
   ]
  },
  {
   "cell_type": "markdown",
   "metadata": {
    "collapsed": false
   },
   "source": [
    "**Certifique-se que o DataFrame auxiliar tem as 14 colunas necessárias**"
   ]
  },
  {
   "cell_type": "code",
   "execution_count": null,
   "metadata": {
    "collapsed": false
   },
   "outputs": [],
   "source": [
    "len(df_aux.columns)"
   ]
  },
  {
   "cell_type": "markdown",
   "metadata": {},
   "source": [
    "**Por fim crie o laço que irá iterar em cada elemento do DataFrame original e salvar apenas o que queremos no DataFrame auxiliar.**\n",
    "\n",
    "Lembre-se de como queremos a latitude e longitude a localização tem que ser diferente de ```None```."
   ]
  },
  {
   "cell_type": "code",
   "execution_count": null,
   "metadata": {
    "collapsed": false
   },
   "outputs": [],
   "source": [
    "for i in range(215, len(df)):\n",
    "    if df['user'][i]['location'] != None:\n",
    "        lat_long = pegar_lat_long(df['user'][i]['location'])\n",
    "        if lat_long != 0 and lat_long != None:\n",
    "            dados = [\n",
    "            df['text'][i],\n",
    "            df['created_at'][i],\n",
    "            df['coordinates'][i],\n",
    "            df['retweet_count'][i],\n",
    "            df['favorite_count'][i],         \n",
    "            df['user'][i]['screen_name'],\n",
    "            df['user'][i]['location'],\n",
    "            df['user'][i]['lang'],\n",
    "            df['user'][i]['followers_count'],\n",
    "            df['user'][i]['geo_enabled'],\n",
    "            df['user'][i]['statuses_count'],\n",
    "            lat_long[0], #Latitude\n",
    "            lat_long[1], #Longitude\n",
    "            salvar_hashtags(df['text'][i])\n",
    "            ]\n",
    "            print(i,end=\" \")\n",
    "            series = pd.Series(dados,index=colunas)\n",
    "            df_aux = df_aux.append(series, ignore_index=True)"
   ]
  },
  {
   "cell_type": "markdown",
   "metadata": {
    "collapsed": true
   },
   "source": [
    "**Imprima o tamanho da DataFrame original e do auxiliar**"
   ]
  },
  {
   "cell_type": "code",
   "execution_count": null,
   "metadata": {
    "collapsed": false
   },
   "outputs": [],
   "source": [
    "print(len(df))\n",
    "print(len(df_aux))"
   ]
  },
  {
   "cell_type": "markdown",
   "metadata": {},
   "source": [
    "### Responda:\n",
    "\n",
    "1) Qual foi a porcentagem de Tweets descartados?"
   ]
  },
  {
   "cell_type": "code",
   "execution_count": null,
   "metadata": {
    "collapsed": false
   },
   "outputs": [],
   "source": [
    "percentual = round((1-(len(df_aux)/len(df)))*100,2)\n",
    "print ('{}% de Tweets descartados por não terem geolocalização'.format(percentual))"
   ]
  },
  {
   "cell_type": "markdown",
   "metadata": {},
   "source": [
    "2) Qual a porcentagem de tweets que tinham habilitado o geo_enabled?"
   ]
  },
  {
   "cell_type": "code",
   "execution_count": null,
   "metadata": {
    "collapsed": false
   },
   "outputs": [],
   "source": [
    "verdadeiro = 0\n",
    "falso = 0\n",
    "for i in range(0, len(df)):\n",
    "    if df['user'][i]['geo_enabled'] == True:\n",
    "        verdadeiro = verdadeiro + 1\n",
    "    else:\n",
    "        falso = falso + 1\n",
    "percentual = round((1-(verdadeiro/len(df)))*100,2)\n",
    "print ('{}% de Tweets com geo_enable'.format(percentual))"
   ]
  },
  {
   "cell_type": "markdown",
   "metadata": {},
   "source": [
    "### Salve os dados em arquivos em arquivo CSV"
   ]
  },
  {
   "cell_type": "code",
   "execution_count": null,
   "metadata": {
    "collapsed": true
   },
   "outputs": [],
   "source": [
    "df_aux.to_csv('exercicio7_final.csv', sep=';', encoding='utf-8', index=False)"
   ]
  }
 ],
 "metadata": {
  "kernelspec": {
   "display_name": "Python 3",
   "language": "python",
   "name": "python3"
  },
  "language_info": {
   "codemirror_mode": {
    "name": "ipython",
    "version": 3
   },
   "file_extension": ".py",
   "mimetype": "text/x-python",
   "name": "python",
   "nbconvert_exporter": "python",
   "pygments_lexer": "ipython3",
   "version": "3.5.2"
  }
 },
 "nbformat": 4,
 "nbformat_minor": 0
}
