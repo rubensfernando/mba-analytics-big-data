{
 "cells": [
  {
   "cell_type": "markdown",
   "metadata": {},
   "source": [
    "# Lista de Exercícios - SEU NOME\n",
    "\n",
    "Os exercícios valem 30% da nota final.\n",
    "\n",
    "* **Data Entrega**: 18/09/2016\n",
    "\n",
    "* **Formato da Entrega**: .ipynb - Clique em File -> Download as -> IPython Notebook (.ipynb)\n",
    "\n",
    "* **Enviar por email** até a data de entrega, onde o assunto do email deve ser: *Exercícios PosMBA Turma2 - SEU NOME*\n",
    "\n",
    "O cálculo da nota final é dado por: ```NF = (lista * 0.3) + (prova * 0.7)```\n",
    "\n",
    "\n"
   ]
  },
  {
   "cell_type": "markdown",
   "metadata": {},
   "source": [
    "## Exercício 1\n",
    "\n",
    "**(0.5 ponto)** Crie uma função chamada ```soma_tres_num``` que irá receber 3 parâmetros(sendo o último com valor padrão 10) e retorne a soma desses três valores."
   ]
  },
  {
   "cell_type": "code",
   "execution_count": 1,
   "metadata": {
    "collapsed": true
   },
   "outputs": [],
   "source": [
    "def soma_tres_num(x,y,z=10):\n",
    "    return x+y+z"
   ]
  },
  {
   "cell_type": "markdown",
   "metadata": {},
   "source": [
    "Teste para as seguintes situações:"
   ]
  },
  {
   "cell_type": "code",
   "execution_count": 2,
   "metadata": {
    "collapsed": false
   },
   "outputs": [
    {
     "name": "stdout",
     "output_type": "stream",
     "text": [
      "20\n"
     ]
    }
   ],
   "source": [
    "print(soma_tres_num(0, 10))"
   ]
  },
  {
   "cell_type": "code",
   "execution_count": 3,
   "metadata": {
    "collapsed": false
   },
   "outputs": [
    {
     "name": "stdout",
     "output_type": "stream",
     "text": [
      "6\n"
     ]
    }
   ],
   "source": [
    "print(soma_tres_num(1,2,3))"
   ]
  },
  {
   "cell_type": "code",
   "execution_count": 4,
   "metadata": {
    "collapsed": false
   },
   "outputs": [
    {
     "name": "stdout",
     "output_type": "stream",
     "text": [
      "20\n"
     ]
    }
   ],
   "source": [
    "print(soma_tres_num(10, 10, 0))"
   ]
  },
  {
   "cell_type": "markdown",
   "metadata": {},
   "source": [
    "## Exercício 2\n",
    "\n",
    "**(0.5 ponto)** Crie uma função ```chamda qtde_caracteres``` que receba um parâmetro e retorne a quantidade de caracteres. Se o valor recebido pelo parâmetro não for uma String,  utilizar a função str() para converter o argumento. "
   ]
  },
  {
   "cell_type": "code",
   "execution_count": null,
   "metadata": {
    "collapsed": true
   },
   "outputs": [],
   "source": []
  },
  {
   "cell_type": "markdown",
   "metadata": {},
   "source": [
    "Teste as seguintes situações:"
   ]
  },
  {
   "cell_type": "code",
   "execution_count": null,
   "metadata": {
    "collapsed": false
   },
   "outputs": [],
   "source": [
    "print(qtde_caracteres(1234))\n",
    "print(qtde_caracteres(', -'))\n",
    "print(qtde_caracteres('python'))\n",
    "print(qtde_caracteres('fia e big data'))\n"
   ]
  },
  {
   "cell_type": "markdown",
   "metadata": {},
   "source": [
    "## Exercicío 3\n",
    "\n",
    "**(1.5 ponto)** Carregue o arquivo chamado funcionarios.txt. Esse arquivo contém nome e o salário anual de cada funcionário.\n",
    "\n",
    "    alexandre,42000\n",
    "    rose,50000\n",
    "    anderson,30000\n",
    "    antonio,60000\n",
    "    maria,120000\n",
    "    carlos,86000\n",
    "    cesar,48000\n",
    "    \n",
    "Faça os seguintes exercícios:\n",
    "\n",
    "**a)** Crie uma função chamda ```carregar_dados_dic``` que deve receber um parâmetro(no caso o arquivo funcionarios.txt) e retorne um dicionário, onde a chave será o nome e o valor será o salário anual."
   ]
  },
  {
   "cell_type": "code",
   "execution_count": null,
   "metadata": {
    "collapsed": true
   },
   "outputs": [],
   "source": [
    "def carregar_dados_dic(arquivo):\n",
    "    # seu código aqui"
   ]
  },
  {
   "cell_type": "code",
   "execution_count": null,
   "metadata": {
    "collapsed": false
   },
   "outputs": [],
   "source": [
    "salarios = carregar_dados_dic('funcionarios.txt')"
   ]
  },
  {
   "cell_type": "code",
   "execution_count": null,
   "metadata": {
    "collapsed": false
   },
   "outputs": [],
   "source": [
    "print(salarios)"
   ]
  },
  {
   "cell_type": "markdown",
   "metadata": {},
   "source": [
    "**b)** Crie uma função chamada ```calcular_salario_mensal``` que irá calcular quanto o funcionário ganha por mês. Verifique o tipo do campo do valor do dicionário. Utilize a função ```float()``` para converter o valor."
   ]
  },
  {
   "cell_type": "code",
   "execution_count": null,
   "metadata": {
    "collapsed": false
   },
   "outputs": [],
   "source": [
    "def calcular_salario_mensal(salario_anual):\n",
    "    # seu código aqui"
   ]
  },
  {
   "cell_type": "markdown",
   "metadata": {},
   "source": [
    "**c)** Por fim, imprima para cada funcionário o nome, salário anual e mensal no seguinte formato:\n",
    "\n",
    "    Rose --- R$ 50000 --- R$ 4166.66\n",
    "\n",
    "Dica: Lembre-se do .format para formatar uma string.\n",
    "Utilize a função round para arredondar para 2 casas decimais.\n",
    "\n",
    "```python\n",
    ">>> round(7166.67555, 2)\n",
    "7166.67\n",
    "```"
   ]
  },
  {
   "cell_type": "code",
   "execution_count": null,
   "metadata": {
    "collapsed": false
   },
   "outputs": [],
   "source": []
  },
  {
   "cell_type": "markdown",
   "metadata": {},
   "source": [
    "## Exercício 4\n",
    "\n",
    "**(1 ponto)** Crie um programa que deve ler as informações do usuário (nome, idade e salário) através da função ```input```. É necessário validar as informações com os seguintes critérios:\n",
    "* O nome deve ter tamanho maior que 3\n",
    "* A idade deve ser entre 18 e 65\n",
    "* O salário deve ser maior que R$ 788\n",
    "\n",
    "Caso as informações não estejam nos critérios definidos anteriormente, será necessário solicitar ao usuário para digitar novamente. Por fim o programa deverá imprimir o seguinte texto:\n",
    "\n",
    "    NOME tem YY anos, recebe R$ SSS e seu nome tem CC caracteres.\n",
    "    \n",
    "Onde,\n",
    "\n",
    "* NOME deve ser substituído pelo nome digitado.\n",
    "* YY deve ser a idade\n",
    "* SSS deve ser substituído pelo valor do salário.\n",
    "* CC deve ser substituído pela quantidade de caracteres.\n",
    "\n",
    "Lembre-se de formatar o salário para duas casas decimais."
   ]
  },
  {
   "cell_type": "code",
   "execution_count": null,
   "metadata": {
    "collapsed": false
   },
   "outputs": [],
   "source": []
  },
  {
   "cell_type": "code",
   "execution_count": null,
   "metadata": {
    "collapsed": false
   },
   "outputs": [],
   "source": []
  },
  {
   "cell_type": "code",
   "execution_count": null,
   "metadata": {
    "collapsed": false
   },
   "outputs": [],
   "source": []
  },
  {
   "cell_type": "code",
   "execution_count": null,
   "metadata": {
    "collapsed": false
   },
   "outputs": [],
   "source": []
  },
  {
   "cell_type": "markdown",
   "metadata": {},
   "source": [
    "## Exercicio 5\n",
    "\n",
    "**(1.5 ponto)** Crie uma função que deverá receber dois parâmetros, sendo um o arquivo e o outro a quantidade de palavras que aparecem com mais frequência. O retorno deverá ser uma lista, sendo que cada elemento dessa lista, deve ser uma tupla (chave-valor), sendo chave o nome da palavra e o valor a quantidade de vezes que ela apareceu no texto.\n",
    "\n",
    "Por exemplo,\n",
    "\n",
    "    palavras_frequentes('texto1.txt', 10) - pesquisa no arquivo texto1.txt as 10 palavras mais frequentes.\n",
    "    palavras_frequentes('texto2.txt', 5) - pesquisa no arquivo texto2.txt as 5 palavras mais frequentes.\n",
    "    \n",
    "\n",
    "**<span style=\"color:red\">Lembre-se de tratar possíveis erros!</span>**\n",
    "\n",
    "\n",
    "Exemplo de uso e saida:\n",
    "\n",
    "```python\n",
    ">>> palavras10mais = palavras_frequentes('texto1.txt', 10)\n",
    ">>> print(palavras10mais)\n",
    "[('programas', 662), ('codigos', 661), ('dinheiro', 661), ('fia', 586), ('python', 491), ('data', 434), ('big', 434), ('velocidade', 133), ('Moneyball', 113), ('dados', 95)]\n",
    "```\n",
    "\n",
    "\n",
    "Dica: Verifique o funcionamento da função sorted para ordernar um dicionário com base no valor."
   ]
  },
  {
   "cell_type": "code",
   "execution_count": null,
   "metadata": {
    "collapsed": true
   },
   "outputs": [],
   "source": [
    "def palavras_frequentes(arquivo, palavras_freq):\n",
    "        # seu código aqui\n",
    "        "
   ]
  },
  {
   "cell_type": "markdown",
   "metadata": {},
   "source": [
    "Faça o teste para as seguintes situações:"
   ]
  },
  {
   "cell_type": "code",
   "execution_count": null,
   "metadata": {
    "collapsed": false
   },
   "outputs": [],
   "source": [
    "palavras_frequentes('texto1.txt', 10)"
   ]
  },
  {
   "cell_type": "code",
   "execution_count": null,
   "metadata": {
    "collapsed": false
   },
   "outputs": [],
   "source": [
    "palavras_frequentes('texto2.txt', 10)"
   ]
  },
  {
   "cell_type": "code",
   "execution_count": null,
   "metadata": {
    "collapsed": false
   },
   "outputs": [],
   "source": [
    "palavras_frequentes('texto1.txt', 5)"
   ]
  },
  {
   "cell_type": "code",
   "execution_count": null,
   "metadata": {
    "collapsed": false
   },
   "outputs": [],
   "source": [
    "palavras_frequentes('texto2.txt', 5)"
   ]
  },
  {
   "cell_type": "code",
   "execution_count": null,
   "metadata": {
    "collapsed": false
   },
   "outputs": [],
   "source": [
    "palavras_frequentes('texto1.txt', 30)"
   ]
  },
  {
   "cell_type": "markdown",
   "metadata": {},
   "source": [
    "## Exercício 6\n",
    "\n",
    "**(2 pontos)** Utilizando o exemplo dado em aula sobre a Streaming API (Desafio 3 da Aula 5), recupere os tweets durante 10 minutos com os seguintes parâmetros:\n",
    "\n",
    "    fluxo.filter(track=['Big Data', 'Hadoop', 'Spark', 'Python', 'Data Science'], languages=['en', 'pt'])\n",
    "    \n",
    "Salve os tweets em um arquivo chamado ```tweets_10min.json```."
   ]
  },
  {
   "cell_type": "markdown",
   "metadata": {},
   "source": [
    "**Importe os módulos necessários**"
   ]
  },
  {
   "cell_type": "code",
   "execution_count": null,
   "metadata": {
    "collapsed": true
   },
   "outputs": [],
   "source": []
  },
  {
   "cell_type": "markdown",
   "metadata": {},
   "source": [
    "**Crie as chaves de acesso**"
   ]
  },
  {
   "cell_type": "code",
   "execution_count": null,
   "metadata": {
    "collapsed": true
   },
   "outputs": [],
   "source": [
    "consumer_key = ''\n",
    "consumer_secret = ''\n",
    "access_token = ''\n",
    "access_token_secret = ''"
   ]
  },
  {
   "cell_type": "markdown",
   "metadata": {},
   "source": [
    "**Realize a autorização e defina a token de acesso**"
   ]
  },
  {
   "cell_type": "code",
   "execution_count": null,
   "metadata": {
    "collapsed": false
   },
   "outputs": [],
   "source": []
  },
  {
   "cell_type": "markdown",
   "metadata": {},
   "source": [
    "**Crie a classe ```DadosPublicosTwitter``` herdando da classe tweepy.StreamListener para rodar durante 10 minutos e salvar os tweets no arquivo.**"
   ]
  },
  {
   "cell_type": "code",
   "execution_count": null,
   "metadata": {
    "collapsed": true
   },
   "outputs": [],
   "source": [
    "class DadosPublicosTwitter(tweepy.StreamListener):\n",
    "    # seu código aqui"
   ]
  },
  {
   "cell_type": "markdown",
   "metadata": {},
   "source": [
    "**Crie a instância da classe, o fluxo e realize a filtragem com os parâmetros definidos no enunciado.**"
   ]
  },
  {
   "cell_type": "code",
   "execution_count": null,
   "metadata": {
    "collapsed": true
   },
   "outputs": [],
   "source": []
  },
  {
   "cell_type": "markdown",
   "metadata": {},
   "source": [
    "## Exercício 7\n",
    "\n",
    "**(3 pontos)** Com os dados salvos no **tweets_10min.json**, crie um DataFrame pandas com as seguintes colunas:\n",
    "\n",
    "* ```text``` - Texto do Tweet\n",
    "* ```created_at``` - Data da criação do Tweet\n",
    "* ```coordinates``` - Coordenadas\n",
    "* ```retweet_count``` - Quantidade de vezes que o tweet foi \"retweetado\".\n",
    "* ```favorite_count``` - Quantidade de vezes que o tweet foi \"favoritado\".\n",
    "\n",
    "* ```screen_name``` - Nome na tela (exemplo: @prof_dinomagri)\n",
    "* ```location``` - Localização\n",
    "* ```lang - Idioma```\n",
    "* ```followers_count``` - Quantidade de seguidores\n",
    "* ```geo_enabled``` - Se tem a geolocalização habilitade\n",
    "* ```statuses_count``` - Quantidade de tweets postados.\n",
    "\n",
    "* ```lat``` - Recuperada através da função desenvolvida em sala\n",
    "* ```long``` - Recuperada através da função desenvolvida em sala\n",
    "* ```hashtags``` - Recuperada através da função desenvolvida em sala\n",
    "\n",
    "Lembre-se de utilizar as funções desenvolvidas em sala de aula para recuperar a latitude, longitude e hastags.\n",
    "\n",
    "No final salve o arquivo no formato CSV, utilizando o separador ponto e virgula (;) e com a codificação 'utf-8'."
   ]
  },
  {
   "cell_type": "markdown",
   "metadata": {
    "collapsed": true
   },
   "source": [
    "**Importe os módulos necessários**"
   ]
  },
  {
   "cell_type": "code",
   "execution_count": null,
   "metadata": {
    "collapsed": true
   },
   "outputs": [],
   "source": []
  },
  {
   "cell_type": "markdown",
   "metadata": {
    "collapsed": true
   },
   "source": [
    "**Utilize o comando with para abrir o arquivo 'tweets_10min.json' e salvar em uma lista**"
   ]
  },
  {
   "cell_type": "code",
   "execution_count": null,
   "metadata": {
    "collapsed": true
   },
   "outputs": [],
   "source": []
  },
  {
   "cell_type": "markdown",
   "metadata": {
    "collapsed": true
   },
   "source": [
    "**Crie o DataFrame com os dados e imprima apenas os 3 primeiros tweets (linhas)**"
   ]
  },
  {
   "cell_type": "code",
   "execution_count": null,
   "metadata": {
    "collapsed": true
   },
   "outputs": [],
   "source": []
  },
  {
   "cell_type": "markdown",
   "metadata": {
    "collapsed": true
   },
   "source": [
    "**Crie uma lista, onde cada elemento será o nome da coluna**"
   ]
  },
  {
   "cell_type": "code",
   "execution_count": null,
   "metadata": {
    "collapsed": true
   },
   "outputs": [],
   "source": [
    "colunas = ['text', 'created_at', 'coordinates', 'retweet_count', \n",
    "           'favorite_count', 'screen_name', 'location', 'lang', \n",
    "           'followers_count', 'geo_enabled', 'statuses_count',\n",
    "          'lat', 'long', 'hashtags']"
   ]
  },
  {
   "cell_type": "markdown",
   "metadata": {
    "collapsed": true
   },
   "source": [
    "** Crie um DataFrame auxiliar passando as colunas por parâmetro**"
   ]
  },
  {
   "cell_type": "code",
   "execution_count": null,
   "metadata": {
    "collapsed": true
   },
   "outputs": [],
   "source": []
  },
  {
   "cell_type": "markdown",
   "metadata": {},
   "source": [
    "**Crie a função de pegar_lat_long(local)**"
   ]
  },
  {
   "cell_type": "code",
   "execution_count": null,
   "metadata": {
    "collapsed": true
   },
   "outputs": [],
   "source": [
    "from geopy.geocoders import Nominatim\n",
    "def pegar_lat_long(local):\n",
    "    # seu código aqui"
   ]
  },
  {
   "cell_type": "markdown",
   "metadata": {},
   "source": [
    "**Crie a função para salvar_hashtags(texto)**"
   ]
  },
  {
   "cell_type": "code",
   "execution_count": null,
   "metadata": {
    "collapsed": true
   },
   "outputs": [],
   "source": [
    "def salvar_hashtags(texto):\n",
    "    # seu código aqui"
   ]
  },
  {
   "cell_type": "markdown",
   "metadata": {
    "collapsed": false
   },
   "source": [
    "**Certifique-se que o DataFrame auxiliar tem as 14 colunas necessárias**"
   ]
  },
  {
   "cell_type": "code",
   "execution_count": null,
   "metadata": {
    "collapsed": false
   },
   "outputs": [],
   "source": [
    "len(df_aux.columns)"
   ]
  },
  {
   "cell_type": "markdown",
   "metadata": {},
   "source": [
    "**Por fim crie o laço que irá iterar em cada elemento do DataFrame original e salvar apenas o que queremos no DataFrame auxiliar.**\n",
    "\n",
    "Lembre-se de como queremos a latitude e longitude a localização tem que ser diferente de ```None```."
   ]
  },
  {
   "cell_type": "code",
   "execution_count": null,
   "metadata": {
    "collapsed": false
   },
   "outputs": [],
   "source": []
  },
  {
   "cell_type": "markdown",
   "metadata": {
    "collapsed": true
   },
   "source": [
    "**Imprima o tamanho da DataFrame original e do auxiliar**"
   ]
  },
  {
   "cell_type": "code",
   "execution_count": null,
   "metadata": {
    "collapsed": false
   },
   "outputs": [],
   "source": []
  },
  {
   "cell_type": "markdown",
   "metadata": {},
   "source": [
    "### Responda:\n",
    "\n",
    "1) Qual foi a porcentagem de Tweets descartados?"
   ]
  },
  {
   "cell_type": "code",
   "execution_count": null,
   "metadata": {
    "collapsed": false
   },
   "outputs": [],
   "source": []
  },
  {
   "cell_type": "markdown",
   "metadata": {},
   "source": [
    "2) Qual a porcentagem de tweets que tinham habilitado o geo_enabled?"
   ]
  },
  {
   "cell_type": "code",
   "execution_count": null,
   "metadata": {
    "collapsed": false
   },
   "outputs": [],
   "source": []
  },
  {
   "cell_type": "markdown",
   "metadata": {},
   "source": [
    "### Salve os dados em arquivos em arquivo CSV"
   ]
  },
  {
   "cell_type": "code",
   "execution_count": null,
   "metadata": {
    "collapsed": true
   },
   "outputs": [],
   "source": []
  }
 ],
 "metadata": {
  "kernelspec": {
   "display_name": "Python 3",
   "language": "python",
   "name": "python3"
  },
  "language_info": {
   "codemirror_mode": {
    "name": "ipython",
    "version": 3
   },
   "file_extension": ".py",
   "mimetype": "text/x-python",
   "name": "python",
   "nbconvert_exporter": "python",
   "pygments_lexer": "ipython3",
   "version": "3.5.2"
  }
 },
 "nbformat": 4,
 "nbformat_minor": 0
}
