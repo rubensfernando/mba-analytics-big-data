{
 "cells": [
  {
   "cell_type": "markdown",
   "metadata": {},
   "source": [
    "# Exemplo Prático\n",
    "\n",
    "Iremos utilizar o arquivo ```capitais.csv``` que é um arquivo que tem todas as capitais do Brasil, bem como a população e a área de cada capital (km2).\n",
    "\n",
    "O Pandas disponibiliza diversos métodos para carregar diferentes tipos de dados, segue alguns deles:\n",
    "\n",
    "    * pd.read_csv('caminho-ate-arquivo.csv', sep=';')\n",
    "    * pd.read_excel('caminho-ate-arquivo.xlsx', 'Sheet1')\n",
    "    * pd.read_clipboard()\n",
    "    * sql.read_frame(query, connection) – Necessita do módulo pandas.io\n",
    "\n",
    "Vamos carregar esse arquivo na variável ```capitais```."
   ]
  },
  {
   "cell_type": "code",
   "execution_count": null,
   "metadata": {
    "collapsed": true
   },
   "outputs": [],
   "source": [
    "import pandas as pd"
   ]
  },
  {
   "cell_type": "code",
   "execution_count": null,
   "metadata": {
    "collapsed": false
   },
   "outputs": [],
   "source": [
    "capitais = pd.read_csv('capitais.csv', sep=',')"
   ]
  },
  {
   "cell_type": "code",
   "execution_count": null,
   "metadata": {
    "collapsed": false
   },
   "outputs": [],
   "source": [
    "capitais.head() # Imprime os 5 primeiros elementos do dataframe"
   ]
  },
  {
   "cell_type": "markdown",
   "metadata": {},
   "source": [
    "Note que o índice que foi gerado é o padrão e não o default. Para defirmos a coluna ```municipio``` como sendo o índice, precisamos passar o parâmetro "
   ]
  },
  {
   "cell_type": "code",
   "execution_count": null,
   "metadata": {
    "collapsed": false
   },
   "outputs": [],
   "source": [
    "capitais = pd.read_csv('capitais.csv', sep=',', index_col='municipio')"
   ]
  },
  {
   "cell_type": "code",
   "execution_count": null,
   "metadata": {
    "collapsed": false
   },
   "outputs": [],
   "source": [
    "capitais.head()"
   ]
  },
  {
   "cell_type": "markdown",
   "metadata": {},
   "source": [
    "Agora sim! Podemos verificar os índices da linha e das colunas do dataframe utilizando os seguintes comando."
   ]
  },
  {
   "cell_type": "code",
   "execution_count": null,
   "metadata": {
    "collapsed": false
   },
   "outputs": [],
   "source": [
    "len(capitais.index)\n",
    "capitais.index"
   ]
  },
  {
   "cell_type": "code",
   "execution_count": null,
   "metadata": {
    "collapsed": false
   },
   "outputs": [],
   "source": [
    "capitais.columns"
   ]
  },
  {
   "cell_type": "markdown",
   "metadata": {},
   "source": [
    "Para acessar uma coluna, podemos acessar da mesma maneira como fizemos com dicionários, passando o rótulo."
   ]
  },
  {
   "cell_type": "code",
   "execution_count": null,
   "metadata": {
    "collapsed": false
   },
   "outputs": [],
   "source": [
    "capitais[\"populacao 2015\"].head()"
   ]
  },
  {
   "cell_type": "markdown",
   "metadata": {},
   "source": [
    "Se a chave não existir\n",
    "\n",
    "Caso especificarmos uma coluna que não está listado no DataFrame, o erro ```KeyError``` irá aparecer.\n",
    "\n",
    "```python\n",
    "capitais['sao Paulo']\n",
    "```\n",
    "\n",
    "A saída será:\n",
    "\n",
    "```python\n",
    "KeyError: 'sao Paulo'\n",
    "\n",
    "During handling of the above exception, another exception occurred:\n",
    "\n",
    "KeyError                                  Traceback (most recent call last)\n",
    "<ipython-input-34-5258a20fa59e> in <module>()\n",
    "----> 1 capitais['sao Paulo']\n",
    "```"
   ]
  },
  {
   "cell_type": "markdown",
   "metadata": {},
   "source": [
    "Podemos tratar esse erro, utilizando o método ```.get```."
   ]
  },
  {
   "cell_type": "code",
   "execution_count": null,
   "metadata": {
    "collapsed": false
   },
   "outputs": [],
   "source": [
    "capitais.get('sao Paulo', 'Não encontrou')"
   ]
  },
  {
   "cell_type": "markdown",
   "metadata": {},
   "source": [
    "Outra forma de acessar os atributos de uma DF é utilizar o operador ponto.\n",
    "\n",
    "Vale lembra que essa forma só funciona se o índice do elemento é um identificador válido Python. Por exemplo:\n",
    "\n",
    "```python\n",
    "capitais[\"populacao 2015\"]\n",
    "```\n",
    "\n",
    "Se a chave for ```populacao 2015``` não irá funcionar, pois não é um identificador válido, afinal existe um espaço entre as duas palavras, o que não é aceito."
   ]
  },
  {
   "cell_type": "code",
   "execution_count": null,
   "metadata": {
    "collapsed": false
   },
   "outputs": [],
   "source": [
    "capitais.area_km2.head()"
   ]
  },
  {
   "cell_type": "code",
   "execution_count": null,
   "metadata": {
    "collapsed": false
   },
   "outputs": [],
   "source": [
    "capitais.populacao 2015"
   ]
  },
  {
   "cell_type": "markdown",
   "metadata": {},
   "source": [
    "Um identificador válido dever basicamente começar com letra e não ter espaços em bracos e alguns caracteres especiais. Segue a referência: https://docs.python.org/3/reference/lexical_analysis.html#identifiers\n",
    "\n",
    "Podemos resolver esse problema, renomeando essa coluna. Vamos utilizar o método ```rename``` que recebe por parâmetro ```columns``` ou ```index``` para trocar o nome das colunas ou das linhas.\n",
    "\n",
    "Ambos retornam um novo dataframe, desta forma podemos salvar na mesma variável."
   ]
  },
  {
   "cell_type": "code",
   "execution_count": null,
   "metadata": {
    "collapsed": false
   },
   "outputs": [],
   "source": [
    "capitais = capitais.rename(columns={'populacao 2015' : 'populacao_2015'})"
   ]
  },
  {
   "cell_type": "code",
   "execution_count": null,
   "metadata": {
    "collapsed": false
   },
   "outputs": [],
   "source": [
    "capitais.head()"
   ]
  },
  {
   "cell_type": "code",
   "execution_count": null,
   "metadata": {
    "collapsed": false
   },
   "outputs": [],
   "source": [
    "capitais.populacao_2015.head()"
   ]
  },
  {
   "cell_type": "markdown",
   "metadata": {},
   "source": [
    "## Exercícios\n",
    "\n",
    "Utilizando o DataFrame ```capitais```, faça os exercícios abaixo."
   ]
  },
  {
   "cell_type": "markdown",
   "metadata": {},
   "source": [
    "**```Exercício 1 - Selecione todas as capitais que tenham área maior que 400 km2. Quantas foram?```**"
   ]
  },
  {
   "cell_type": "code",
   "execution_count": null,
   "metadata": {
    "collapsed": false
   },
   "outputs": [],
   "source": []
  },
  {
   "cell_type": "markdown",
   "metadata": {},
   "source": [
    "**```Exercício 2 - Selecione as capitais que tenham população maior que 2 milhões.```**"
   ]
  },
  {
   "cell_type": "code",
   "execution_count": null,
   "metadata": {
    "collapsed": false
   },
   "outputs": [],
   "source": []
  },
  {
   "cell_type": "markdown",
   "metadata": {},
   "source": [
    "**```Exercício 3 - Crie uma função que retorne uma lista contendo somente as capitais que começam com uma determinada letra. A função deve receber dois parâmetros:```** \n",
    "    \n",
    "    O primeiro parâmetro será uma lista com todas as capitais.\n",
    "    O segundo será uma letra.\n",
    "        \n",
    "    def capitais_com_letra(todas_capitais, letra):\n",
    "\n",
    "Para testar a função, selecione as capitais que começam com as letras B e Z. Lembre-se de tratar possíveis erros."
   ]
  },
  {
   "cell_type": "code",
   "execution_count": null,
   "metadata": {
    "collapsed": true
   },
   "outputs": [],
   "source": [
    "def capitais_com_letra(todas_capitais, letra):\n",
    "    # seu código aqui\n",
    "            "
   ]
  },
  {
   "cell_type": "code",
   "execution_count": null,
   "metadata": {
    "collapsed": true
   },
   "outputs": [],
   "source": []
  },
  {
   "cell_type": "code",
   "execution_count": null,
   "metadata": {
    "collapsed": false
   },
   "outputs": [],
   "source": []
  },
  {
   "cell_type": "code",
   "execution_count": null,
   "metadata": {
    "collapsed": false
   },
   "outputs": [],
   "source": []
  },
  {
   "cell_type": "markdown",
   "metadata": {},
   "source": [
    "**```Exercício 4 - Utilizando a função criada no exercício 3, calcule o total da população para as capitais que começam com S. Por fim, imprima a seguinte frase:```**\n",
    "\n",
    "    As capitais X, Y e Z tem W pessoas."
   ]
  },
  {
   "cell_type": "code",
   "execution_count": null,
   "metadata": {
    "collapsed": false
   },
   "outputs": [],
   "source": []
  },
  {
   "cell_type": "code",
   "execution_count": null,
   "metadata": {
    "collapsed": false
   },
   "outputs": [],
   "source": []
  },
  {
   "cell_type": "code",
   "execution_count": null,
   "metadata": {
    "collapsed": false
   },
   "outputs": [],
   "source": []
  }
 ],
 "metadata": {
  "kernelspec": {
   "display_name": "Python 3",
   "language": "python",
   "name": "python3"
  },
  "language_info": {
   "codemirror_mode": {
    "name": "ipython",
    "version": 3
   },
   "file_extension": ".py",
   "mimetype": "text/x-python",
   "name": "python",
   "nbconvert_exporter": "python",
   "pygments_lexer": "ipython3",
   "version": "3.5.1"
  }
 },
 "nbformat": 4,
 "nbformat_minor": 0
}
