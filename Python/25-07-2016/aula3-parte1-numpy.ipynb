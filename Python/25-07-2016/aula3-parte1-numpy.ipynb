{
 "cells": [
  {
   "cell_type": "markdown",
   "metadata": {},
   "source": [
    "# Introdução do NumPy\n",
    "\n",
    "* Documentação: http://docs.scipy.org/doc/numpy/\n",
    "* Referência: http://docs.scipy.org/doc/numpy/reference/index.html\n",
    "\n",
    "## Criar arrays NumPy"
   ]
  },
  {
   "cell_type": "code",
   "execution_count": null,
   "metadata": {
    "collapsed": true
   },
   "outputs": [],
   "source": [
    "import numpy as np"
   ]
  },
  {
   "cell_type": "markdown",
   "metadata": {},
   "source": [
    "Podemos criar arrays NumPy diretamente via construtor **```numpy.array```**"
   ]
  },
  {
   "cell_type": "code",
   "execution_count": null,
   "metadata": {
    "collapsed": true
   },
   "outputs": [],
   "source": [
    "ar1 = np.array([0,1,2,3]) # array de 1 dimensão"
   ]
  },
  {
   "cell_type": "code",
   "execution_count": null,
   "metadata": {
    "collapsed": false
   },
   "outputs": [],
   "source": [
    "print(ar1)\n",
    "print(type(ar1))"
   ]
  },
  {
   "cell_type": "code",
   "execution_count": null,
   "metadata": {
    "collapsed": true
   },
   "outputs": [],
   "source": [
    "ar2 = np.array([[0,3,5], [2,8,7]]) # array de 2 dimensões"
   ]
  },
  {
   "cell_type": "code",
   "execution_count": null,
   "metadata": {
    "collapsed": false
   },
   "outputs": [],
   "source": [
    "print(ar2)\n",
    "print(type(ar2))"
   ]
  },
  {
   "cell_type": "code",
   "execution_count": null,
   "metadata": {
    "collapsed": false
   },
   "outputs": [],
   "source": [
    "# Para visualizar o formato do array\n",
    "print(ar2.shape)"
   ]
  },
  {
   "cell_type": "code",
   "execution_count": null,
   "metadata": {
    "collapsed": false
   },
   "outputs": [],
   "source": [
    "# O número de dimensões pode ser obtido\n",
    "print(ar2.ndim)"
   ]
  },
  {
   "cell_type": "markdown",
   "metadata": {},
   "source": [
    "Existem outros métodos que podemos criar arrays NumPy, são eles:\n",
    "\n",
    "    * numpy.arange\n",
    "    * numpy.linspace\n",
    "    * numpy.ones\n",
    "    * numpy.zeros\n",
    "    * numpy.random.rand\n",
    "    * numpy.random.randn\n",
    "    \n",
    "**```numpy.arange```** - ```arange``` funciona da mesma forma que a função ```range``` do Python"
   ]
  },
  {
   "cell_type": "code",
   "execution_count": null,
   "metadata": {
    "collapsed": false
   },
   "outputs": [],
   "source": [
    "# numpy.arange\n",
    "ar3 = np.arange(12)\n",
    "print(ar3)"
   ]
  },
  {
   "cell_type": "code",
   "execution_count": null,
   "metadata": {
    "collapsed": false
   },
   "outputs": [],
   "source": [
    "# numpy.arange\n",
    "# Inicio, fim (exclusivo), passo\n",
    "ar4 = np.arange(3, 10, 3)\n",
    "print(ar4)"
   ]
  },
  {
   "cell_type": "markdown",
   "metadata": {},
   "source": [
    "**```numpy.linspace```** - gera números uniformemente espaçados ao longo de um intervalo especificado. \n",
    "\n",
    "```linspace(start, stop, num=50, retstep=True)```\n",
    "    \n",
    "    start - valor de inicio da sequência.\n",
    "    stop - o valor final da sequência.\n",
    "    num - numero da amostra a ser gerada (50 é padrão).\n",
    "    retstep - retorna o espaçamento (False é padrão)."
   ]
  },
  {
   "cell_type": "code",
   "execution_count": null,
   "metadata": {
    "collapsed": false
   },
   "outputs": [],
   "source": [
    "np.linspace(0.5, 4.0, num=5, retstep=True)"
   ]
  },
  {
   "cell_type": "code",
   "execution_count": null,
   "metadata": {
    "collapsed": false
   },
   "outputs": [],
   "source": [
    "np.linspace(2, 3, num=6, retstep=True) #(3-2)/(6-1)"
   ]
  },
  {
   "cell_type": "markdown",
   "metadata": {},
   "source": [
    "**```numpy.ones```** - Cria arrays com o valor 1."
   ]
  },
  {
   "cell_type": "code",
   "execution_count": null,
   "metadata": {
    "collapsed": false
   },
   "outputs": [],
   "source": [
    "ar5 = np.ones((2,3,2))\n",
    "ar5"
   ]
  },
  {
   "cell_type": "markdown",
   "metadata": {},
   "source": [
    "**```numpy.zeros```** - Cria arrays com o valor 0."
   ]
  },
  {
   "cell_type": "code",
   "execution_count": null,
   "metadata": {
    "collapsed": false
   },
   "outputs": [],
   "source": [
    "ar6 = np.zeros((4,2))\n",
    "ar6"
   ]
  },
  {
   "cell_type": "markdown",
   "metadata": {},
   "source": [
    "## Números aleatórios\n",
    "\n",
    "O NumPy tem diversos métodos que podem ser utilizados para gerar números aleatórios (http://docs.scipy.org/doc/numpy/reference/routines.random.html)."
   ]
  },
  {
   "cell_type": "markdown",
   "metadata": {},
   "source": [
    "**```numpy.random.rand```** - Produz números aleatórios distribuídos uniformemente entre 0 até m.\n",
    "\n",
    "    np.random.rand(m)"
   ]
  },
  {
   "cell_type": "code",
   "execution_count": null,
   "metadata": {
    "collapsed": false
   },
   "outputs": [],
   "source": [
    "ar7 = np.random.rand(3)\n",
    "ar7"
   ]
  },
  {
   "cell_type": "markdown",
   "metadata": {},
   "source": [
    "**```numpy.random.randn```** - Produz m números aleatórios normalmente distribuídos (Gaussian)\n",
    "\n",
    "    np.random.randn(m)"
   ]
  },
  {
   "cell_type": "code",
   "execution_count": null,
   "metadata": {
    "collapsed": false
   },
   "outputs": [],
   "source": [
    "ar8 = np.random.randn(5)\n",
    "ar8"
   ]
  },
  {
   "cell_type": "markdown",
   "metadata": {},
   "source": [
    "## Funções matemáticas\n",
    "\n",
    "Referência: http://docs.scipy.org/doc/numpy/reference/routines.math.html"
   ]
  },
  {
   "cell_type": "code",
   "execution_count": null,
   "metadata": {
    "collapsed": false
   },
   "outputs": [],
   "source": [
    "# Soma\n",
    "print(ar1)\n",
    "print(np.sum(ar1))"
   ]
  },
  {
   "cell_type": "code",
   "execution_count": null,
   "metadata": {
    "collapsed": false
   },
   "outputs": [],
   "source": [
    "# Raiz Quadrada\n",
    "print(ar2, '\\n')\n",
    "print(np.sqrt(ar2))"
   ]
  },
  {
   "cell_type": "code",
   "execution_count": null,
   "metadata": {
    "collapsed": false
   },
   "outputs": [],
   "source": [
    "# Multiplicação de elementos\n",
    "ar9 = np.array([1,2,3])\n",
    "ar10 = np.arange(4,7)\n",
    "print(ar9, ar10, '\\n')\n",
    "np.multiply(ar9, ar10)"
   ]
  },
  {
   "cell_type": "code",
   "execution_count": null,
   "metadata": {
    "collapsed": false
   },
   "outputs": [],
   "source": [
    "# Primeiro array de elementos será\n",
    "# elevado as potências do segundo array.\n",
    "ar11 = np.arange(1,6)\n",
    "print(ar11)\n",
    "print(np.power(ar11, 3))"
   ]
  },
  {
   "cell_type": "markdown",
   "metadata": {
    "collapsed": true
   },
   "source": [
    "## Exercícios"
   ]
  },
  {
   "cell_type": "markdown",
   "metadata": {},
   "source": [
    "**```1 - Crie o array abaixo (sem ter que digitar explicitamente os valores).```**\n",
    "\n",
    "    ex1 = [1,3,5,7,9,11]"
   ]
  },
  {
   "cell_type": "code",
   "execution_count": null,
   "metadata": {
    "collapsed": false
   },
   "outputs": [],
   "source": []
  },
  {
   "cell_type": "markdown",
   "metadata": {},
   "source": [
    "**```2 - Crie um array 2x2 elementos aletatórios. Os valores gerados devem ficar entre 0 e 1. Utilize o np.random para resolver esse exercício```**"
   ]
  },
  {
   "cell_type": "code",
   "execution_count": null,
   "metadata": {
    "collapsed": false
   },
   "outputs": [],
   "source": []
  },
  {
   "cell_type": "code",
   "execution_count": null,
   "metadata": {
    "collapsed": false
   },
   "outputs": [],
   "source": []
  },
  {
   "cell_type": "code",
   "execution_count": null,
   "metadata": {
    "collapsed": false
   },
   "outputs": [],
   "source": [
    "help(np.random.rand)"
   ]
  }
 ],
 "metadata": {
  "kernelspec": {
   "display_name": "Python 3",
   "language": "python",
   "name": "python3"
  },
  "language_info": {
   "codemirror_mode": {
    "name": "ipython",
    "version": 3
   },
   "file_extension": ".py",
   "mimetype": "text/x-python",
   "name": "python",
   "nbconvert_exporter": "python",
   "pygments_lexer": "ipython3",
   "version": "3.5.1"
  }
 },
 "nbformat": 4,
 "nbformat_minor": 0
}
