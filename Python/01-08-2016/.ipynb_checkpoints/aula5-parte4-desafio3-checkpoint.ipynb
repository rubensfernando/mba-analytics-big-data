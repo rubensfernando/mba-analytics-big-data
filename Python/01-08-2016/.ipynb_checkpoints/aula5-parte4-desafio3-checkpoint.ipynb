{
 "cells": [
  {
   "cell_type": "markdown",
   "metadata": {
    "collapsed": true
   },
   "source": [
    "# Desafio 3\n",
    "\n",
    "\n",
    "## 1. Entender como funcionar o módulo time\n",
    "\n",
    "Ver slide 49 e 50."
   ]
  },
  {
   "cell_type": "code",
   "execution_count": 1,
   "metadata": {
    "collapsed": true
   },
   "outputs": [],
   "source": [
    "from time import sleep"
   ]
  },
  {
   "cell_type": "code",
   "execution_count": 2,
   "metadata": {
    "collapsed": false
   },
   "outputs": [
    {
     "name": "stdout",
     "output_type": "stream",
     "text": [
      "Dormiu por 5 segundos\n"
     ]
    }
   ],
   "source": [
    "sleep(5)\n",
    "print(\"Dormiu por 5 segundos\")"
   ]
  },
  {
   "cell_type": "code",
   "execution_count": 3,
   "metadata": {
    "collapsed": false
   },
   "outputs": [
    {
     "name": "stdout",
     "output_type": "stream",
     "text": [
      "time.struct_time(tm_year=1970, tm_mon=1, tm_mday=1, tm_hour=0, tm_min=0, tm_sec=0, tm_wday=3, tm_yday=1, tm_isdst=0)\n"
     ]
    }
   ],
   "source": [
    "from time import gmtime\n",
    "print(gmtime(0))"
   ]
  },
  {
   "cell_type": "code",
   "execution_count": 4,
   "metadata": {
    "collapsed": false
   },
   "outputs": [
    {
     "name": "stdout",
     "output_type": "stream",
     "text": [
      "1469816170.936672\n"
     ]
    }
   ],
   "source": [
    "from time import time\n",
    "print(time())"
   ]
  },
  {
   "cell_type": "markdown",
   "metadata": {},
   "source": [
    "Referência e outros exemplos: https://docs.python.org/3/library/time.html"
   ]
  },
  {
   "cell_type": "markdown",
   "metadata": {},
   "source": [
    "Além Da mesma forma que fizemos na API REST do Twitter, temos que salvar as chaves de acesso, bem como definir o objeto OAuthHandler para cuidar da autenticação e validação do acesso."
   ]
  },
  {
   "cell_type": "code",
   "execution_count": 5,
   "metadata": {
    "collapsed": true
   },
   "outputs": [],
   "source": [
    "import tweepy"
   ]
  },
  {
   "cell_type": "code",
   "execution_count": 6,
   "metadata": {
    "collapsed": true
   },
   "outputs": [],
   "source": [
    "consumer_key = ''\n",
    "consumer_secret = ''\n",
    "access_token = ''\n",
    "access_token_secret = ''"
   ]
  },
  {
   "cell_type": "code",
   "execution_count": 7,
   "metadata": {
    "collapsed": true
   },
   "outputs": [],
   "source": [
    "autorizar = tweepy.OAuthHandler(consumer_key, consumer_secret)\n",
    "autorizar.set_access_token(access_token, access_token_secret)"
   ]
  },
  {
   "cell_type": "markdown",
   "metadata": {},
   "source": [
    "## 2. Modificar nossa classe para ter duração de 5 minutos\n",
    "\n",
    "Segue abaixo as soluções encontradas para os problemas do último desafio.\n",
    "\n",
    "**```1) Falta fechar o arquivo e 2) Falta finalizar a execução do Streaming;```**\n",
    "\n",
    "Para esses dois problemas conseguimos tratar dentro do método on_data. O retorno padrão da função é True, portanto enquanto não acontecer alguma ação que diga que não é mais True, o código irá recuperar dados.\n",
    "\n",
    "Portanto, quando criamos a condição de parada (5 minutos), podemos retornar False, encerrando a execução do Streaming. Nessa mesma condição, antes do retorno, podemos fechar o arquivo. Como mostra o código abaixo.\n",
    "\n",
    "```python\n",
    "if(time() - self.tempo_inicial < self.limite):\n",
    "    self.salvar_arquivo.write(dados)            \n",
    "    return True\n",
    "else:\n",
    "    self.salvar_arquivo.close()\n",
    "    return False\n",
    "```\n",
    "\n",
    "\n",
    "\n",
    "**```3) Cada tweet deve ficar em uma linha; Abra o arquivo tweets.json e veja que existe uma linha em branco entre os tweets salvos.```**\n",
    "\n",
    "A função open tem um parâmetro chamado newline em que podemos definir como vazio, desta forma não teremos esse problema. Veja código abaixo:\n",
    "\n",
    "```python\n",
    "open(nome_arq, 'a', newline='')\n",
    "```\n",
    "\n",
    "Bom, vamos ao código final agora.\n",
    "    "
   ]
  },
  {
   "cell_type": "code",
   "execution_count": 8,
   "metadata": {
    "collapsed": true
   },
   "outputs": [],
   "source": [
    "class DadosPublicosTwitter(tweepy.StreamListener):\n",
    "    def __init__(self, nome_arq, limite):\n",
    "        self.tempo_inicial = time()\n",
    "        self.limite = limite # 5 minutos == 300 segundos\n",
    "        self.salvar_arquivo = open(nome_arq, 'a', newline='')\n",
    "        \n",
    "    def on_data(self, dados):\n",
    "        if(time() - self.tempo_inicial < self.limite):\n",
    "            self.salvar_arquivo.write(dados)            \n",
    "            return True\n",
    "        else:\n",
    "            self.salvar_arquivo.close()\n",
    "            return False"
   ]
  },
  {
   "cell_type": "code",
   "execution_count": 9,
   "metadata": {
    "collapsed": true
   },
   "outputs": [],
   "source": [
    "nome_arq = 'tweets_5min.json'\n",
    "dados_twitter = DadosPublicosTwitter(nome_arq, 300)"
   ]
  },
  {
   "cell_type": "code",
   "execution_count": 10,
   "metadata": {
    "collapsed": true
   },
   "outputs": [],
   "source": [
    "fluxo = tweepy.Stream(autorizar, dados_twitter)"
   ]
  },
  {
   "cell_type": "code",
   "execution_count": 11,
   "metadata": {
    "collapsed": true
   },
   "outputs": [],
   "source": [
    "fluxo.filter(track=['Big Data'])"
   ]
  },
  {
   "cell_type": "markdown",
   "metadata": {},
   "source": [
    "**<span style=\"color:blue;\">Agora sim, podemos salvar muitos tweets durante um determinado período de tempo!!!!</span>**"
   ]
  },
  {
   "cell_type": "code",
   "execution_count": null,
   "metadata": {
    "collapsed": true
   },
   "outputs": [],
   "source": []
  }
 ],
 "metadata": {
  "kernelspec": {
   "display_name": "Python 3",
   "language": "python",
   "name": "python3"
  },
  "language_info": {
   "codemirror_mode": {
    "name": "ipython",
    "version": 3
   },
   "file_extension": ".py",
   "mimetype": "text/x-python",
   "name": "python",
   "nbconvert_exporter": "python",
   "pygments_lexer": "ipython3",
   "version": "3.5.1"
  }
 },
 "nbformat": 4,
 "nbformat_minor": 0
}
