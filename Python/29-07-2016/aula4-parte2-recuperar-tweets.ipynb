{
 "cells": [
  {
   "cell_type": "markdown",
   "metadata": {},
   "source": [
    "# Recuperando Tweets\n",
    "\n",
    "Para utilizar qualquer API do Twitter temos que importar os módulos e definir as chaves e tokens de acesso."
   ]
  },
  {
   "cell_type": "code",
   "execution_count": null,
   "metadata": {
    "collapsed": true
   },
   "outputs": [],
   "source": [
    "import tweepy"
   ]
  },
  {
   "cell_type": "code",
   "execution_count": null,
   "metadata": {
    "collapsed": true
   },
   "outputs": [],
   "source": [
    "consumer_key = ''\n",
    "consumer_secret = ''\n",
    "access_token = ''\n",
    "access_token_secret = ''"
   ]
  },
  {
   "cell_type": "markdown",
   "metadata": {},
   "source": [
    "Com as chaves e tokens de acesso, iremos criar a autenticação e definir o token de acesso."
   ]
  },
  {
   "cell_type": "code",
   "execution_count": null,
   "metadata": {
    "collapsed": false
   },
   "outputs": [],
   "source": [
    "autorizar = tweepy.OAuthHandler(consumer_key, consumer_secret)\n",
    "autorizar.set_access_token(access_token, access_token_secret)"
   ]
  },
  {
   "cell_type": "markdown",
   "metadata": {},
   "source": [
    "Com a autorização criada, vamos passar as credenciais de acesso para a API do Tweepy. Desta forma, teremos acesso aos métodos disponíveis na API."
   ]
  },
  {
   "cell_type": "code",
   "execution_count": null,
   "metadata": {
    "collapsed": false
   },
   "outputs": [],
   "source": [
    "api = tweepy.API(autorizar)\n",
    "print(api)"
   ]
  },
  {
   "cell_type": "markdown",
   "metadata": {
    "collapsed": true
   },
   "source": [
    "## Utilizar a home_timeline()\n",
    "\n",
    "Esse método recupera as últimas 20 atualizações (inclue retweet) da timeline do usuário autenticada.\n",
    "\n",
    "O retorno é um objeto parecido com uma lista que salva os resultados recuperados.\n",
    "\n",
    "http://docs.tweepy.org/en/v3.5.0/api.html?highlight=home_timeline#API.home_timeline"
   ]
  },
  {
   "cell_type": "code",
   "execution_count": null,
   "metadata": {
    "collapsed": false
   },
   "outputs": [],
   "source": [
    "tweets_publicos = api.home_timeline()"
   ]
  },
  {
   "cell_type": "code",
   "execution_count": null,
   "metadata": {
    "collapsed": false
   },
   "outputs": [],
   "source": [
    "print(type(tweets_publicos))"
   ]
  },
  {
   "cell_type": "code",
   "execution_count": null,
   "metadata": {
    "collapsed": false,
    "scrolled": true
   },
   "outputs": [],
   "source": [
    "for i, tweet in enumerate(tweets_publicos, start=1):\n",
    "    print(\"{} ---> {}\".format(i, tweet.text))    "
   ]
  },
  {
   "cell_type": "markdown",
   "metadata": {},
   "source": [
    "Além disso, podemos utilizar o parâmetro ```count``` para limitar a busca."
   ]
  },
  {
   "cell_type": "code",
   "execution_count": null,
   "metadata": {
    "collapsed": true
   },
   "outputs": [],
   "source": [
    "tweets_publicos = api.home_timeline(count=5)"
   ]
  },
  {
   "cell_type": "code",
   "execution_count": null,
   "metadata": {
    "collapsed": false
   },
   "outputs": [],
   "source": [
    "for i, tweet in enumerate(tweets_publicos, start=1):\n",
    "    print(\"Tweet número: {}\".format(i))\n",
    "    print(\"----------------\")\n",
    "    print(\"Usuário @{} disse:\".format(tweet.user.screen_name))\n",
    "    print(tweet.text)\n",
    "    print(\"id do usuário: {}\".format(tweet.user.id))\n",
    "    print('\\n')"
   ]
  },
  {
   "cell_type": "markdown",
   "metadata": {},
   "source": [
    "## Utilizar a user_timeline()\n",
    "\n",
    "Esse método recupera as últimas 20 atualizações do usuário autenticado ou do usuário especificado via parâmetro ```id```.\n",
    "\n",
    "O retorno é um objeto parecido com uma lista que salva os resultados recuperados.\n",
    "\n",
    "http://docs.tweepy.org/en/v3.5.0/api.html?highlight=user_timeline#API.user_timeline"
   ]
  },
  {
   "cell_type": "code",
   "execution_count": null,
   "metadata": {
    "collapsed": true
   },
   "outputs": [],
   "source": [
    "tweets_publicos_usuario = api.user_timeline(id='267283568', count=5)"
   ]
  },
  {
   "cell_type": "code",
   "execution_count": null,
   "metadata": {
    "collapsed": false
   },
   "outputs": [],
   "source": [
    "for tweet in tweets_publicos_usuario:\n",
    "    print('----')\n",
    "    print(tweet.text)\n",
    "    print(tweet.id)\n",
    "    print(tweet.lang)\n",
    "    print(tweet.place)\n",
    "    print(tweet.retweet_count)\n",
    "    print(tweet.coordinates)\n",
    "    print(tweet.user.id)\n"
   ]
  },
  {
   "cell_type": "markdown",
   "metadata": {},
   "source": [
    "## Utilizar a retweets_of_me()\n",
    "\n",
    "Esse método recupera os últimos 20 tweets do usuário autenticado que foi retweeted por outros.\n",
    "\n",
    "O retorno é um objeto parecido com uma lista que salva os resultados recuperados.\n",
    "\n",
    "http://docs.tweepy.org/en/v3.5.0/api.html?highlight=retweets_of_me#API.retweets_of_me"
   ]
  },
  {
   "cell_type": "code",
   "execution_count": null,
   "metadata": {
    "collapsed": true
   },
   "outputs": [],
   "source": [
    "retweets = api.retweets_of_me(count=10)"
   ]
  },
  {
   "cell_type": "code",
   "execution_count": null,
   "metadata": {
    "collapsed": false
   },
   "outputs": [],
   "source": [
    "for i, tweet in enumerate(retweets, start=1):\n",
    "    print(\"{} - {}\".format(i, tweet.text))"
   ]
  },
  {
   "cell_type": "code",
   "execution_count": null,
   "metadata": {
    "collapsed": true
   },
   "outputs": [],
   "source": []
  }
 ],
 "metadata": {
  "kernelspec": {
   "display_name": "Python 3",
   "language": "python",
   "name": "python3"
  },
  "language_info": {
   "codemirror_mode": {
    "name": "ipython",
    "version": 3
   },
   "file_extension": ".py",
   "mimetype": "text/x-python",
   "name": "python",
   "nbconvert_exporter": "python",
   "pygments_lexer": "ipython3",
   "version": "3.5.1"
  }
 },
 "nbformat": 4,
 "nbformat_minor": 0
}
