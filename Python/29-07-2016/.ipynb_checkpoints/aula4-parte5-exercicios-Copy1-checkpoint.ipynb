{
 "cells": [
  {
   "cell_type": "code",
   "execution_count": 1,
   "metadata": {
    "collapsed": true
   },
   "outputs": [],
   "source": [
    "import tweepy"
   ]
  },
  {
   "cell_type": "code",
   "execution_count": 2,
   "metadata": {
    "collapsed": true
   },
   "outputs": [],
   "source": [
    "consumer_key = 'M6OkpsVkxMo1m4oEpcKrxTG9L'\n",
    "consumer_secret = 'huUxJYdPoddEkvRrmDOFQIuHspkBERTCshx2J5tcj7FeAFdgNp'\n",
    "access_token = '13101632-jfzgS37obVEw5vEQhkg3iHuMSgZFwAnLz55OZcVyi'\n",
    "access_token_secret = 'CeoEHGH6fzrFH1PbXxSwCvmL04rD6nQElJzKgMnAj9AY9'"
   ]
  },
  {
   "cell_type": "code",
   "execution_count": 3,
   "metadata": {
    "collapsed": true
   },
   "outputs": [],
   "source": [
    "autorizar = tweepy.OAuthHandler(consumer_key, consumer_secret)\n",
    "autorizar.set_access_token(access_token, access_token_secret)"
   ]
  },
  {
   "cell_type": "code",
   "execution_count": 4,
   "metadata": {
    "collapsed": false
   },
   "outputs": [
    {
     "name": "stdout",
     "output_type": "stream",
     "text": [
      "<tweepy.api.API object at 0x04739F70>\n"
     ]
    }
   ],
   "source": [
    "api = tweepy.API(autorizar)\n",
    "print(api)"
   ]
  },
  {
   "cell_type": "markdown",
   "metadata": {},
   "source": [
    "**```Exercício 1 - Utilizando o método update_with_media, realize a atualização do status utilizando a imagem fia.jpg disponível na pasta da aula.```**\n",
    "\n",
    "    Imprima com o status \"Programação com Python e Twitter na FIA!\""
   ]
  },
  {
   "cell_type": "code",
   "execution_count": 7,
   "metadata": {
    "collapsed": false
   },
   "outputs": [],
   "source": [
    "retorno = api.update_with_media(filename='fia.jpg',status='Test. Upload media via python')"
   ]
  },
  {
   "cell_type": "code",
   "execution_count": 17,
   "metadata": {
    "collapsed": false
   },
   "outputs": [
    {
     "name": "stdout",
     "output_type": "stream",
     "text": [
      "Test. Upload media via python https://t.co/zMcEN0G6HZ\n"
     ]
    }
   ],
   "source": [
    "print(retorno.text)"
   ]
  },
  {
   "cell_type": "markdown",
   "metadata": {},
   "source": [
    "**```Exercício 2 - Salve o retorno do tweet do exercício anterior e imprima as seguintes informações:```**\n",
    "    * tweet\n",
    "        * id\n",
    "        * created_at\n",
    "        * lang\n",
    "        * text\n",
    "    * user\n",
    "        * screen_name,\n",
    "        * friends_count\n",
    "        * time_zone\n",
    "    \n",
    "Por fim, remova o tweet, utilizando o método ```destroy_status```."
   ]
  },
  {
   "cell_type": "code",
   "execution_count": 9,
   "metadata": {
    "collapsed": false
   },
   "outputs": [
    {
     "name": "stdout",
     "output_type": "stream",
     "text": [
      "759198031828967424\n",
      "2016-07-30 01:24:50\n",
      "en\n",
      "Test. Upload media via python https://t.co/zMcEN0G6HZ\n"
     ]
    }
   ],
   "source": [
    "print(retorno.id)\n",
    "print(retorno.created_at)\n",
    "print(retorno.lang)\n",
    "print(retorno.text)"
   ]
  },
  {
   "cell_type": "code",
   "execution_count": 10,
   "metadata": {
    "collapsed": false
   },
   "outputs": [
    {
     "name": "stdout",
     "output_type": "stream",
     "text": [
      "rubensfernando\n",
      "798\n",
      "Brasilia\n"
     ]
    }
   ],
   "source": [
    "print(retorno.user.screen_name)\n",
    "print(retorno.user.friends_count)\n",
    "print(retorno.user.time_zone)"
   ]
  },
  {
   "cell_type": "code",
   "execution_count": 11,
   "metadata": {
    "collapsed": false
   },
   "outputs": [],
   "source": [
    "retornoDestroy = api.destroy_status(retorno.id)"
   ]
  },
  {
   "cell_type": "markdown",
   "metadata": {},
   "source": [
    "**```Exercício 3 - Utilizando o método home_timeline(), recupere os 10 tweets atuais. Para cada um desses tweets, imprima:```**\n",
    "    * o screen_name\n",
    "    * o texto do tweet\n",
    "    * o id do usuário"
   ]
  },
  {
   "cell_type": "code",
   "execution_count": 12,
   "metadata": {
    "collapsed": true
   },
   "outputs": [],
   "source": [
    "home = api.home_timeline(count=10)"
   ]
  },
  {
   "cell_type": "code",
   "execution_count": 16,
   "metadata": {
    "collapsed": false
   },
   "outputs": [
    {
     "name": "stdout",
     "output_type": "stream",
     "text": [
      "Gizmodo\n",
      "Look up, guys. It's the Delta Aquarids https://t.co/ijjAohtPT1 https://t.co/4rnsnI9XMq\n",
      "2890961\n",
      "\n",
      "\n",
      "Estadao\n",
      "Demora no impeachment prejudica o País, diz Temer https://t.co/kUMBj1VSaM\n",
      "9317502\n",
      "\n",
      "\n",
      "JornalOGlobo\n",
      "Capitão da seleção: de Preguinho a Bellini, Mauro, C. Alberto, Dunga, Cafu e Neymar. https://t.co/yzufEQ1jUQ https://t.co/bNoQnMayio\n",
      "54341363\n",
      "\n",
      "\n",
      "Gizmodo\n",
      "Doughnut-flavored soda will make your dentist very rich https://t.co/xDENR4TljA https://t.co/b5ds4YFcZE\n",
      "2890961\n",
      "\n",
      "\n",
      "Reuters\n",
      "Scots back remaining in UK despite Brexit vote: poll https://t.co/xiKav2j9bC https://t.co/VvTv65KnFu\n",
      "1652541\n",
      "\n",
      "\n",
      "viaSimonRomero\n",
      "Lula, Brazil’s Ex-President, Will Face Trial on Obstruction Charges https://t.co/EiGIqPiJqN\n",
      "122792963\n",
      "\n",
      "\n",
      "wallacetim\n",
      "First homegrown cases of Zika announced today in Fla. @iarynam &amp; @rudyomri offer this update https://t.co/AYevieyJGo https://t.co/qOKB7LsSE1\n",
      "50387337\n",
      "\n",
      "\n",
      "FiveThirtyEight\n",
      "Cities in Southern California can't escape the fire at their door: https://t.co/wnyl1A3IPc https://t.co/rw2QlZN1Ug\n",
      "2303751216\n",
      "\n",
      "\n",
      "BicyclingMag\n",
      "I actually got my stolen bike back — here's how: https://t.co/SCiQpYHwbv https://t.co/6i9uPlPpAY\n",
      "17900130\n",
      "\n",
      "\n",
      "vine\n",
      "Impression game 💪 ....? More @ColesTwitt3r on Creator Spotlight: https://t.co/W7HSTsnSCk https://t.co/80Rl0YxJVt\n",
      "586671909\n",
      "\n",
      "\n"
     ]
    }
   ],
   "source": [
    "for i, tweet in enumerate(home):\n",
    "    print(tweet.user.screen_name)\n",
    "    print(tweet.text)\n",
    "    print(tweet.user.id)\n",
    "    print('\\n')"
   ]
  },
  {
   "cell_type": "markdown",
   "metadata": {},
   "source": [
    "**```Exercício 4 - Para cada tweet do exercício anterior, utilize o id do usuário e imprima o texto dos 5 primeiros tweets de cada um dos 10 usuários (user_timeline).```**"
   ]
  },
  {
   "cell_type": "code",
   "execution_count": null,
   "metadata": {
    "collapsed": false
   },
   "outputs": [],
   "source": [
    "for i, user in enumerate(home):\n",
    "    "
   ]
  },
  {
   "cell_type": "code",
   "execution_count": 20,
   "metadata": {
    "collapsed": false
   },
   "outputs": [
    {
     "name": "stdout",
     "output_type": "stream",
     "text": [
      "Help on function _call in module tweepy.binder:\n",
      "\n",
      "_call(*args, **kwargs)\n",
      "\n"
     ]
    }
   ],
   "source": [
    "help(api.user_timeline)"
   ]
  },
  {
   "cell_type": "code",
   "execution_count": null,
   "metadata": {
    "collapsed": true
   },
   "outputs": [],
   "source": []
  }
 ],
 "metadata": {
  "kernelspec": {
   "display_name": "Python 3",
   "language": "python",
   "name": "python3"
  },
  "language_info": {
   "codemirror_mode": {
    "name": "ipython",
    "version": 3
   },
   "file_extension": ".py",
   "mimetype": "text/x-python",
   "name": "python",
   "nbconvert_exporter": "python",
   "pygments_lexer": "ipython3",
   "version": "3.5.1"
  }
 },
 "nbformat": 4,
 "nbformat_minor": 0
}
