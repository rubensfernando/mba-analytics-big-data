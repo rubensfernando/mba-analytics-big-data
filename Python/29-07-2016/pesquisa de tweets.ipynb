{
 "cells": [
  {
   "cell_type": "code",
   "execution_count": 1,
   "metadata": {
    "collapsed": true
   },
   "outputs": [],
   "source": [
    "import tweepy"
   ]
  },
  {
   "cell_type": "code",
   "execution_count": 2,
   "metadata": {
    "collapsed": true
   },
   "outputs": [],
   "source": [
    "consumer_key = 'M6OkpsVkxMo1m4oEpcKrxTG9L'\n",
    "consumer_secret = 'huUxJYdPoddEkvRrmDOFQIuHspkBERTCshx2J5tcj7FeAFdgNp'\n",
    "access_token = '13101632-jfzgS37obVEw5vEQhkg3iHuMSgZFwAnLz55OZcVyi'\n",
    "access_token_secret = 'CeoEHGH6fzrFH1PbXxSwCvmL04rD6nQElJzKgMnAj9AY9'"
   ]
  },
  {
   "cell_type": "code",
   "execution_count": 3,
   "metadata": {
    "collapsed": true
   },
   "outputs": [],
   "source": [
    "autorizar = tweepy.OAuthHandler(consumer_key, consumer_secret)"
   ]
  },
  {
   "cell_type": "code",
   "execution_count": 4,
   "metadata": {
    "collapsed": true
   },
   "outputs": [],
   "source": [
    "autorizar.set_access_token(access_token, access_token_secret)"
   ]
  },
  {
   "cell_type": "code",
   "execution_count": 5,
   "metadata": {
    "collapsed": true
   },
   "outputs": [],
   "source": [
    "api = tweepy.API(autorizar)"
   ]
  },
  {
   "cell_type": "code",
   "execution_count": 26,
   "metadata": {
    "collapsed": true
   },
   "outputs": [],
   "source": [
    "tweets_salvos =  []\n",
    "ultimo_id = -1\n",
    "qtde_tweets = 101"
   ]
  },
  {
   "cell_type": "code",
   "execution_count": 27,
   "metadata": {
    "collapsed": true
   },
   "outputs": [],
   "source": [
    "#continua rodando ate \n",
    "while (len(tweets_salvos) <= qtde_tweets):\n",
    "    contador = qtde_tweets - len(tweets_salvos)\n",
    "    try:\n",
    "        novos_tweets = api.search(q='python', count=contador, max_id=str(ultimo_id-1))\n",
    "        \n",
    "        if not novos_tweets:\n",
    "            print(\"Nenhumm tweet para recuperar\")\n",
    "            break\n",
    "        \n",
    "        tweets_salvos.extend(novos_tweets)\n",
    "        ultimo_id = novos_tweets[-1].id\n",
    "        \n",
    "    except tweepy.TweepError as e:\n",
    "        print('Error: ', (e))\n",
    "    break\n",
    "    print(contador)"
   ]
  },
  {
   "cell_type": "code",
   "execution_count": 28,
   "metadata": {
    "collapsed": false
   },
   "outputs": [
    {
     "data": {
      "text/plain": [
       "100"
      ]
     },
     "execution_count": 28,
     "metadata": {},
     "output_type": "execute_result"
    }
   ],
   "source": [
    "len(tweets_salvos)"
   ]
  },
  {
   "cell_type": "code",
   "execution_count": null,
   "metadata": {
    "collapsed": true
   },
   "outputs": [],
   "source": []
  }
 ],
 "metadata": {
  "kernelspec": {
   "display_name": "Python 3",
   "language": "python",
   "name": "python3"
  },
  "language_info": {
   "codemirror_mode": {
    "name": "ipython",
    "version": 3
   },
   "file_extension": ".py",
   "mimetype": "text/x-python",
   "name": "python",
   "nbconvert_exporter": "python",
   "pygments_lexer": "ipython3",
   "version": "3.5.1"
  }
 },
 "nbformat": 4,
 "nbformat_minor": 0
}
